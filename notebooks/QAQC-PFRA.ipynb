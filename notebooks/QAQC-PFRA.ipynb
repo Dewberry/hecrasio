{
 "cells": [
  {
   "cell_type": "markdown",
   "metadata": {},
   "source": [
    "# PFRA \n",
    "\n",
    "### _Development Notebook_\n",
    "\n",
    "__NOTE__ *Some settings are currently in place for PFRA Studies conducted by STARR II production studies. With time these will be transitioned to __general case options__.*\n",
    "\n",
    "   - Assumes outputs written to zip files with '_out.zip' extensions\n",
    "   - Assumes only one '.hdf' file in the out_zip\n",
    "   - Assumes PFRA data structure with data stored on S3 with AWS credentials configured\n",
    "   \n",
    "   \n",
    "--- \n",
    "\n",
    "### QA/QC\n",
    "#### Global Errors Check\n",
    "\n",
    "This notebook is intended to identify global issues in a model simulation that require follow-up responses from the modeler before the model can be used in *STARRII* PFRA studies.\n",
    "\n",
    "Global issues currently implemented include:\n",
    " \n",
    " __1. Check Model inputs__\n",
    " \n",
    "    A. Plan Information\n",
    "    B. Plan Parameters\n",
    "    C. Boundary Conditions \n",
    "     \n",
    "__2. Check Results for each domain (2D Flow Area) in the model__\n",
    " \n",
    "    A. Computational Summary & Depth Plots\n",
    "    B. Domain Extents\n",
    "    C. High Velocities at cell faces\n",
    " \n",
    " \n",
    "Global issues *in development* include:\n",
    " - Mapping areas where Courant number exceeds indicated threshold.\n",
    " - Mapping areas where iteration counts exceed indicated threshold.\n"
   ]
  },
  {
   "cell_type": "code",
   "execution_count": null,
   "metadata": {
    "ExecuteTime": {
     "end_time": "2019-08-09T20:09:11.540860Z",
     "start_time": "2019-08-09T20:09:10.037246Z"
    },
    "pycharm": {
     "is_executing": false
    }
   },
   "outputs": [],
   "source": [
    "import sys;sys.path.append(r'C:\\Users\\Administrator\\Desktop\\hecrasio')\n",
    "from hecrasio.core import *\n",
    "from hecrasio.qaqc import *\n",
    "#import rasterio\n",
    "import time"
   ]
  },
  {
   "cell_type": "markdown",
   "metadata": {},
   "source": [
    "#### Read model output data \n",
    "\n",
    "*from AWS*\n",
    "\n",
    "\n"
   ]
  },
  {
   "cell_type": "code",
   "execution_count": null,
   "metadata": {
    "ExecuteTime": {
     "end_time": "2019-08-09T20:09:29.664672Z",
     "start_time": "2019-08-09T20:09:11.541851Z"
    },
    "pycharm": {
     "is_executing": true
    }
   },
   "outputs": [],
   "source": [
    "model = ResultsZip(model_s3path, require_prj=False, pfra=False)"
   ]
  },
  {
   "cell_type": "code",
   "execution_count": null,
   "metadata": {
    "ExecuteTime": {
     "end_time": "2019-08-09T20:09:29.683693Z",
     "start_time": "2019-08-09T20:09:29.670656Z"
    },
    "inputHidden": false,
    "jupyter": {
     "outputs_hidden": false
    },
    "outputHidden": false
   },
   "outputs": [],
   "source": [
    "hdfResults_paths = [f for f in model.contents if '.hdf' in f]"
   ]
  },
  {
   "cell_type": "code",
   "execution_count": null,
   "metadata": {
    "ExecuteTime": {
     "end_time": "2019-08-09T20:09:30.041731Z",
     "start_time": "2019-08-09T20:09:29.685729Z"
    },
    "inputHidden": false,
    "jupyter": {
     "outputs_hidden": false
    },
    "outputHidden": false
   },
   "outputs": [],
   "source": [
    "hdfResults_path = hdfResults_paths[0]\n",
    "rasPlan = HDFResultsFile(model, hdfResults_path)"
   ]
  },
  {
   "cell_type": "markdown",
   "metadata": {},
   "source": [
    "\n",
    "### 1A. Plan Information\n",
    "\n",
    "   "
   ]
  },
  {
   "cell_type": "code",
   "execution_count": null,
   "metadata": {
    "ExecuteTime": {
     "end_time": "2019-08-09T20:09:30.052760Z",
     "start_time": "2019-08-09T20:09:30.042734Z"
    }
   },
   "outputs": [],
   "source": [
    "rasPlan.Plan_Information"
   ]
  },
  {
   "cell_type": "markdown",
   "metadata": {},
   "source": [
    "### 1B. Plan Parameters\n"
   ]
  },
  {
   "cell_type": "code",
   "execution_count": null,
   "metadata": {
    "ExecuteTime": {
     "end_time": "2019-08-09T20:09:30.070808Z",
     "start_time": "2019-08-09T20:09:30.053763Z"
    }
   },
   "outputs": [],
   "source": [
    "rasPlan.Plan_Parameters"
   ]
  },
  {
   "cell_type": "markdown",
   "metadata": {},
   "source": [
    "### 1C. Boundary Conditions \n",
    "\n",
    "#### Input hydrographs\n",
    "\n",
    "* Need to update notebook for multiple domains"
   ]
  },
  {
   "cell_type": "code",
   "execution_count": null,
   "metadata": {
    "scrolled": false
   },
   "outputs": [],
   "source": [
    "show_results(rasPlan.domains, model, rasPlan)"
   ]
  },
  {
   "cell_type": "markdown",
   "metadata": {},
   "source": [
    "### 2A. Computational Summary\n",
    "\n"
   ]
  },
  {
   "cell_type": "code",
   "execution_count": null,
   "metadata": {
    "ExecuteTime": {
     "end_time": "2019-08-09T20:10:16.288356Z",
     "start_time": "2019-08-09T20:10:16.281337Z"
    }
   },
   "outputs": [],
   "source": [
    "rasPlan.summary"
   ]
  },
  {
   "cell_type": "markdown",
   "metadata": {},
   "source": [
    "### 3A. Raster values at points\n",
    "#### Confirm points are in same projection"
   ]
  },
  {
   "cell_type": "code",
   "execution_count": null,
   "metadata": {},
   "outputs": [],
   "source": [
    "#pnts = gpd.read_file(points)\n",
    "#tif = rasterio.open(tiffs[0])\n",
    "\n",
    "#print(\"The points have {} coordinate reference system while the GeoTIFF is {}.\".format(pnts.crs, tif.crs))"
   ]
  },
  {
   "cell_type": "code",
   "execution_count": null,
   "metadata": {},
   "outputs": [],
   "source": [
    "#pnts = PointData(points).geodataframe"
   ]
  },
  {
   "cell_type": "code",
   "execution_count": null,
   "metadata": {},
   "outputs": [],
   "source": [
    "#start = time.time()\n",
    "#df = extract_values_at_points(pnts, tiffs[0:30])\n",
    "#end = round(time.time()-start,2)\n",
    "#print(\"Identifying raster values at points took {} seconds\".format(end))"
   ]
  },
  {
   "cell_type": "markdown",
   "metadata": {},
   "source": [
    "# END"
   ]
  }
 ],
 "metadata": {
  "kernel_info": {
   "name": "geos"
  },
  "kernelspec": {
   "display_name": "Python 3",
   "language": "python",
   "name": "python3"
  },
  "language_info": {
   "codemirror_mode": {
    "name": "ipython",
    "version": 3
   },
   "file_extension": ".py",
   "mimetype": "text/x-python",
   "name": "python",
   "nbconvert_exporter": "python",
   "pygments_lexer": "ipython3",
   "version": "3.7.3"
  },
  "nteract": {
   "version": "0.14.4"
  },
  "pycharm": {
   "stem_cell": {
    "cell_type": "raw",
    "metadata": {
     "collapsed": false
    },
    "source": []
   }
  }
 },
 "nbformat": 4,
 "nbformat_minor": 4
}
