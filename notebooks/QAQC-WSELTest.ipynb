{
 "cells": [
  {
   "cell_type": "markdown",
   "metadata": {},
   "source": [
    "# PFRA \n",
    "\n",
    "### _Development Notebook_"
   ]
  },
  {
   "cell_type": "code",
   "execution_count": 1,
   "metadata": {
    "ExecuteTime": {
     "end_time": "2019-08-09T20:09:11.540860Z",
     "start_time": "2019-08-09T20:09:10.037246Z"
    },
    "pycharm": {
     "is_executing": false
    }
   },
   "outputs": [],
   "source": [
    "import sys;sys.path.append('../')\n",
    "from hecrasio.core import *\n",
    "from hecrasio.qaqc import *\n",
    "import rasterio\n",
    "import time"
   ]
  },
  {
   "cell_type": "markdown",
   "metadata": {},
   "source": [
    "#### Read model output data \n",
    "\n",
    "*from AWS*\n",
    "\n",
    "\n"
   ]
  },
  {
   "cell_type": "code",
   "execution_count": 2,
   "metadata": {
    "ExecuteTime": {
     "end_time": "2019-08-09T20:09:29.664672Z",
     "start_time": "2019-08-09T20:09:11.541851Z"
    },
    "pycharm": {
     "is_executing": true
    }
   },
   "outputs": [],
   "source": [
    "model_s3path = \"s3://azavea/jwx_test/data/zip/Sacramento_P01_H06_E0001_out.zip\"\n",
    "model = ResultsZip(model_s3path, require_prj=False, pfra=False)\n",
    "\n",
    "points = \"\"\n",
    "tiffs = s3List('probmodelingrepository', '', 'WSE', 'tif')"
   ]
  },
  {
   "cell_type": "code",
   "execution_count": 3,
   "metadata": {
    "ExecuteTime": {
     "end_time": "2019-08-09T20:09:29.683693Z",
     "start_time": "2019-08-09T20:09:29.670656Z"
    },
    "inputHidden": false,
    "jupyter": {
     "outputs_hidden": false
    },
    "outputHidden": false
   },
   "outputs": [],
   "source": [
    "hdfResults_paths = [f for f in model.contents if '.hdf' in f]"
   ]
  },
  {
   "cell_type": "code",
   "execution_count": 4,
   "metadata": {
    "ExecuteTime": {
     "end_time": "2019-08-09T20:09:30.041731Z",
     "start_time": "2019-08-09T20:09:29.685729Z"
    },
    "inputHidden": false,
    "jupyter": {
     "outputs_hidden": false
    },
    "outputHidden": false
   },
   "outputs": [],
   "source": [
    "hdfResults_path = hdfResults_paths[0]\n",
    "rasPlan = HDFResultsFile(model, hdfResults_path)"
   ]
  },
  {
   "cell_type": "markdown",
   "metadata": {},
   "source": [
    "\n",
    "### 1A. Plan Information\n",
    "\n",
    "   "
   ]
  },
  {
   "cell_type": "code",
   "execution_count": 5,
   "metadata": {
    "ExecuteTime": {
     "end_time": "2019-08-09T20:09:30.052760Z",
     "start_time": "2019-08-09T20:09:30.042734Z"
    }
   },
   "outputs": [
    {
     "data": {
      "text/html": [
       "<div>\n",
       "<style scoped>\n",
       "    .dataframe tbody tr th:only-of-type {\n",
       "        vertical-align: middle;\n",
       "    }\n",
       "\n",
       "    .dataframe tbody tr th {\n",
       "        vertical-align: top;\n",
       "    }\n",
       "\n",
       "    .dataframe thead th {\n",
       "        text-align: right;\n",
       "    }\n",
       "</style>\n",
       "<table border=\"1\" class=\"dataframe\">\n",
       "  <thead>\n",
       "    <tr style=\"text-align: right;\">\n",
       "      <th></th>\n",
       "      <th>Results</th>\n",
       "    </tr>\n",
       "  </thead>\n",
       "  <tbody>\n",
       "    <tr>\n",
       "      <th>Base Output Interval</th>\n",
       "      <td>15MIN</td>\n",
       "    </tr>\n",
       "    <tr>\n",
       "      <th>Computation Time Courant Method</th>\n",
       "      <td>Representative Length/Velocity</td>\n",
       "    </tr>\n",
       "    <tr>\n",
       "      <th>Computation Time Step Base</th>\n",
       "      <td>1MIN</td>\n",
       "    </tr>\n",
       "    <tr>\n",
       "      <th>Computation Time Step Count To Double</th>\n",
       "      <td>4</td>\n",
       "    </tr>\n",
       "    <tr>\n",
       "      <th>Computation Time Step Max Courant</th>\n",
       "      <td>2.5</td>\n",
       "    </tr>\n",
       "    <tr>\n",
       "      <th>Computation Time Step Max Doubling</th>\n",
       "      <td>2</td>\n",
       "    </tr>\n",
       "    <tr>\n",
       "      <th>Computation Time Step Max Halving</th>\n",
       "      <td>2</td>\n",
       "    </tr>\n",
       "    <tr>\n",
       "      <th>Computation Time Step Min Courant</th>\n",
       "      <td>0.45</td>\n",
       "    </tr>\n",
       "    <tr>\n",
       "      <th>Flow Filename</th>\n",
       "      <td>Sacramento_P01_H00.u0</td>\n",
       "    </tr>\n",
       "    <tr>\n",
       "      <th>Flow Title</th>\n",
       "      <td>E0001</td>\n",
       "    </tr>\n",
       "    <tr>\n",
       "      <th>Geometry Filename</th>\n",
       "      <td>Sacramento_P01_H00.g0</td>\n",
       "    </tr>\n",
       "    <tr>\n",
       "      <th>Geometry Title</th>\n",
       "      <td>ARN</td>\n",
       "    </tr>\n",
       "    <tr>\n",
       "      <th>Plan Filename</th>\n",
       "      <td>Sacramento_P01_H00.p0</td>\n",
       "    </tr>\n",
       "    <tr>\n",
       "      <th>Plan Name</th>\n",
       "      <td>Testing_24hr</td>\n",
       "    </tr>\n",
       "    <tr>\n",
       "      <th>Plan ShortID</th>\n",
       "      <td>24hr</td>\n",
       "    </tr>\n",
       "    <tr>\n",
       "      <th>Plan Title</th>\n",
       "      <td>Testing_24hr</td>\n",
       "    </tr>\n",
       "    <tr>\n",
       "      <th>Simulation End Time</th>\n",
       "      <td>02May2000 10:00:0</td>\n",
       "    </tr>\n",
       "    <tr>\n",
       "      <th>Simulation Start Time</th>\n",
       "      <td>01May2000 10:00:0</td>\n",
       "    </tr>\n",
       "    <tr>\n",
       "      <th>Time Window</th>\n",
       "      <td>01May2000 10:00:00 to 02May2000 10:00:0</td>\n",
       "    </tr>\n",
       "  </tbody>\n",
       "</table>\n",
       "</div>"
      ],
      "text/plain": [
       "                                                                       Results\n",
       "Base Output Interval                                                     15MIN\n",
       "Computation Time Courant Method                 Representative Length/Velocity\n",
       "Computation Time Step Base                                                1MIN\n",
       "Computation Time Step Count To Double                                        4\n",
       "Computation Time Step Max Courant                                          2.5\n",
       "Computation Time Step Max Doubling                                           2\n",
       "Computation Time Step Max Halving                                            2\n",
       "Computation Time Step Min Courant                                         0.45\n",
       "Flow Filename                                            Sacramento_P01_H00.u0\n",
       "Flow Title                                                               E0001\n",
       "Geometry Filename                                        Sacramento_P01_H00.g0\n",
       "Geometry Title                                                             ARN\n",
       "Plan Filename                                            Sacramento_P01_H00.p0\n",
       "Plan Name                                                         Testing_24hr\n",
       "Plan ShortID                                                              24hr\n",
       "Plan Title                                                        Testing_24hr\n",
       "Simulation End Time                                          02May2000 10:00:0\n",
       "Simulation Start Time                                        01May2000 10:00:0\n",
       "Time Window                            01May2000 10:00:00 to 02May2000 10:00:0"
      ]
     },
     "execution_count": 5,
     "metadata": {},
     "output_type": "execute_result"
    }
   ],
   "source": [
    "rasPlan.Plan_Information"
   ]
  },
  {
   "cell_type": "markdown",
   "metadata": {},
   "source": [
    "### 1B. Plan Parameters\n"
   ]
  },
  {
   "cell_type": "code",
   "execution_count": 6,
   "metadata": {
    "ExecuteTime": {
     "end_time": "2019-08-09T20:09:30.070808Z",
     "start_time": "2019-08-09T20:09:30.053763Z"
    }
   },
   "outputs": [
    {
     "data": {
      "text/html": [
       "<div>\n",
       "<style scoped>\n",
       "    .dataframe tbody tr th:only-of-type {\n",
       "        vertical-align: middle;\n",
       "    }\n",
       "\n",
       "    .dataframe tbody tr th {\n",
       "        vertical-align: top;\n",
       "    }\n",
       "\n",
       "    .dataframe thead th {\n",
       "        text-align: right;\n",
       "    }\n",
       "</style>\n",
       "<table border=\"1\" class=\"dataframe\">\n",
       "  <thead>\n",
       "    <tr style=\"text-align: right;\">\n",
       "      <th></th>\n",
       "      <th>Results</th>\n",
       "    </tr>\n",
       "  </thead>\n",
       "  <tbody>\n",
       "    <tr>\n",
       "      <th>1D Cores</th>\n",
       "      <td>0</td>\n",
       "    </tr>\n",
       "    <tr>\n",
       "      <th>1D Methodology</th>\n",
       "      <td>Finite Difference</td>\n",
       "    </tr>\n",
       "    <tr>\n",
       "      <th>1D2D Flow Tolerance</th>\n",
       "      <td>0.1</td>\n",
       "    </tr>\n",
       "    <tr>\n",
       "      <th>1D2D MaxIter</th>\n",
       "      <td>0</td>\n",
       "    </tr>\n",
       "    <tr>\n",
       "      <th>1D2D Minimum Flow Tolerance</th>\n",
       "      <td>1</td>\n",
       "    </tr>\n",
       "    <tr>\n",
       "      <th>1D2D WS Tolerance</th>\n",
       "      <td>0.01</td>\n",
       "    </tr>\n",
       "    <tr>\n",
       "      <th>2D Boundary Condition Ramp Up Fraction</th>\n",
       "      <td>[0.1, 0.1, 0.1, 0.1, 0.1, 0.1, 0.1, 0.1, 0.1, ...</td>\n",
       "    </tr>\n",
       "    <tr>\n",
       "      <th>2D Boundary Condition Volume Check</th>\n",
       "      <td>[b'False', b'False', b'False', b'False', b'Fal...</td>\n",
       "    </tr>\n",
       "    <tr>\n",
       "      <th>2D Cores</th>\n",
       "      <td>0</td>\n",
       "    </tr>\n",
       "    <tr>\n",
       "      <th>2D Coriolis</th>\n",
       "      <td>False</td>\n",
       "    </tr>\n",
       "    <tr>\n",
       "      <th>2D Eddy Viscosity Transverse Mixing Coefficient</th>\n",
       "      <td>[3.4028235e+38, 3.4028235e+38, 3.4028235e+38, ...</td>\n",
       "    </tr>\n",
       "    <tr>\n",
       "      <th>2D Equation Set</th>\n",
       "      <td>[b'Dynamic Wave', b'Dynamic Wave', b'Dynamic W...</td>\n",
       "    </tr>\n",
       "    <tr>\n",
       "      <th>2D Initial Conditions Ramp Up Time (hrs)</th>\n",
       "      <td>[3.4028235e+38, 3.4028235e+38, 3.4028235e+38, ...</td>\n",
       "    </tr>\n",
       "    <tr>\n",
       "      <th>2D Latitude for Coriolis</th>\n",
       "      <td>[3.4028235e+38, 3.4028235e+38, 3.4028235e+38, ...</td>\n",
       "    </tr>\n",
       "    <tr>\n",
       "      <th>2D Maximum Iterations</th>\n",
       "      <td>[20, 20, 20, 20, 20, 20, 20, 20, 20, 20, 20, 2...</td>\n",
       "    </tr>\n",
       "    <tr>\n",
       "      <th>2D Names</th>\n",
       "      <td>[b'D23', b'D24', b'D25', b'D26', b'D27', b'D28...</td>\n",
       "    </tr>\n",
       "    <tr>\n",
       "      <th>2D Number of Time Slices</th>\n",
       "      <td>[1, 1, 1, 1, 1, 1, 1, 1, 1, 1, 1, 1, 1, 1]</td>\n",
       "    </tr>\n",
       "    <tr>\n",
       "      <th>2D Only</th>\n",
       "      <td>True</td>\n",
       "    </tr>\n",
       "    <tr>\n",
       "      <th>2D Theta</th>\n",
       "      <td>[1.0, 1.0, 1.0, 1.0, 1.0, 1.0, 1.0, 1.0, 1.0, ...</td>\n",
       "    </tr>\n",
       "    <tr>\n",
       "      <th>2D Theta Warmup</th>\n",
       "      <td>[1.0, 1.0, 1.0, 1.0, 1.0, 1.0, 1.0, 1.0, 1.0, ...</td>\n",
       "    </tr>\n",
       "    <tr>\n",
       "      <th>2D Volume Tolerance</th>\n",
       "      <td>[0.01, 0.01, 0.01, 0.01, 0.01, 0.01, 0.01, 0.0...</td>\n",
       "    </tr>\n",
       "    <tr>\n",
       "      <th>2D Water Surface Tolerance</th>\n",
       "      <td>[0.01, 0.01, 0.01, 0.01, 0.01, 0.01, 0.01, 0.0...</td>\n",
       "    </tr>\n",
       "    <tr>\n",
       "      <th>HDF Chunk Size</th>\n",
       "      <td>1</td>\n",
       "    </tr>\n",
       "    <tr>\n",
       "      <th>HDF Compression</th>\n",
       "      <td>1</td>\n",
       "    </tr>\n",
       "    <tr>\n",
       "      <th>HDF Fixed Rows</th>\n",
       "      <td>1</td>\n",
       "    </tr>\n",
       "    <tr>\n",
       "      <th>HDF Flush Buffer</th>\n",
       "      <td>False</td>\n",
       "    </tr>\n",
       "    <tr>\n",
       "      <th>HDF Spatial Parts</th>\n",
       "      <td>1</td>\n",
       "    </tr>\n",
       "    <tr>\n",
       "      <th>HDF Use Max Rows</th>\n",
       "      <td>0</td>\n",
       "    </tr>\n",
       "    <tr>\n",
       "      <th>HDF Write Face Node Velocities</th>\n",
       "      <td>False</td>\n",
       "    </tr>\n",
       "    <tr>\n",
       "      <th>HDF Write Time Slices</th>\n",
       "      <td>False</td>\n",
       "    </tr>\n",
       "    <tr>\n",
       "      <th>HDF Write Warmup</th>\n",
       "      <td>False</td>\n",
       "    </tr>\n",
       "    <tr>\n",
       "      <th>Pardiso Solver</th>\n",
       "      <td>False</td>\n",
       "    </tr>\n",
       "  </tbody>\n",
       "</table>\n",
       "</div>"
      ],
      "text/plain": [
       "                                                                                           Results\n",
       "1D Cores                                                                                         0\n",
       "1D Methodology                                                                   Finite Difference\n",
       "1D2D Flow Tolerance                                                                            0.1\n",
       "1D2D MaxIter                                                                                     0\n",
       "1D2D Minimum Flow Tolerance                                                                      1\n",
       "1D2D WS Tolerance                                                                             0.01\n",
       "2D Boundary Condition Ramp Up Fraction           [0.1, 0.1, 0.1, 0.1, 0.1, 0.1, 0.1, 0.1, 0.1, ...\n",
       "2D Boundary Condition Volume Check               [b'False', b'False', b'False', b'False', b'Fal...\n",
       "2D Cores                                                                                         0\n",
       "2D Coriolis                                                                                  False\n",
       "2D Eddy Viscosity Transverse Mixing Coefficient  [3.4028235e+38, 3.4028235e+38, 3.4028235e+38, ...\n",
       "2D Equation Set                                  [b'Dynamic Wave', b'Dynamic Wave', b'Dynamic W...\n",
       "2D Initial Conditions Ramp Up Time (hrs)         [3.4028235e+38, 3.4028235e+38, 3.4028235e+38, ...\n",
       "2D Latitude for Coriolis                         [3.4028235e+38, 3.4028235e+38, 3.4028235e+38, ...\n",
       "2D Maximum Iterations                            [20, 20, 20, 20, 20, 20, 20, 20, 20, 20, 20, 2...\n",
       "2D Names                                         [b'D23', b'D24', b'D25', b'D26', b'D27', b'D28...\n",
       "2D Number of Time Slices                                [1, 1, 1, 1, 1, 1, 1, 1, 1, 1, 1, 1, 1, 1]\n",
       "2D Only                                                                                       True\n",
       "2D Theta                                         [1.0, 1.0, 1.0, 1.0, 1.0, 1.0, 1.0, 1.0, 1.0, ...\n",
       "2D Theta Warmup                                  [1.0, 1.0, 1.0, 1.0, 1.0, 1.0, 1.0, 1.0, 1.0, ...\n",
       "2D Volume Tolerance                              [0.01, 0.01, 0.01, 0.01, 0.01, 0.01, 0.01, 0.0...\n",
       "2D Water Surface Tolerance                       [0.01, 0.01, 0.01, 0.01, 0.01, 0.01, 0.01, 0.0...\n",
       "HDF Chunk Size                                                                                   1\n",
       "HDF Compression                                                                                  1\n",
       "HDF Fixed Rows                                                                                   1\n",
       "HDF Flush Buffer                                                                             False\n",
       "HDF Spatial Parts                                                                                1\n",
       "HDF Use Max Rows                                                                                 0\n",
       "HDF Write Face Node Velocities                                                               False\n",
       "HDF Write Time Slices                                                                        False\n",
       "HDF Write Warmup                                                                             False\n",
       "Pardiso Solver                                                                               False"
      ]
     },
     "execution_count": 6,
     "metadata": {},
     "output_type": "execute_result"
    }
   ],
   "source": [
    "rasPlan.Plan_Parameters"
   ]
  },
  {
   "cell_type": "markdown",
   "metadata": {},
   "source": [
    "### 1C. Boundary Conditions \n",
    "\n",
    "#### Input hydrographs\n",
    "\n",
    "* Need to update notebook for multiple domains"
   ]
  },
  {
   "cell_type": "code",
   "execution_count": 7,
   "metadata": {
    "scrolled": false
   },
   "outputs": [
    {
     "name": "stdout",
     "output_type": "stream",
     "text": [
      "No Velocity Errors Found in Domain D24\n"
     ]
    },
    {
     "data": {
      "image/png": "[encoded data removed]",
      "text/plain": [
       "<Figure size 1440x576 with 4 Axes>"
      ]
     },
     "metadata": {
      "needs_background": "light"
     },
     "output_type": "display_data"
    },
    {
     "data": {
      "image/png": "[encoded data removed]",
      "text/plain": [
       "<Figure size 504x504 with 2 Axes>"
      ]
     },
     "metadata": {
      "needs_background": "light"
     },
     "output_type": "display_data"
    },
    {
     "data": {
      "image/png": "[encoded data removed]",
      "text/plain": [
       "<Figure size 1440x144 with 1 Axes>"
      ]
     },
     "metadata": {
      "needs_background": "light"
     },
     "output_type": "display_data"
    },
    {
     "data": {
      "image/png": "[encoded data removed]",
      "text/plain": [
       "<Figure size 1440x144 with 1 Axes>"
      ]
     },
     "metadata": {
      "needs_background": "light"
     },
     "output_type": "display_data"
    }
   ],
   "source": [
    "show_results(rasPlan.domains[1:2], model, rasPlan)"
   ]
  },
  {
   "cell_type": "markdown",
   "metadata": {},
   "source": [
    "### 2A. Computational Summary\n",
    "\n"
   ]
  },
  {
   "cell_type": "code",
   "execution_count": 8,
   "metadata": {
    "ExecuteTime": {
     "end_time": "2019-08-09T20:10:16.288356Z",
     "start_time": "2019-08-09T20:10:16.281337Z"
    }
   },
   "outputs": [
    {
     "data": {
      "text/html": [
       "<div>\n",
       "<style scoped>\n",
       "    .dataframe tbody tr th:only-of-type {\n",
       "        vertical-align: middle;\n",
       "    }\n",
       "\n",
       "    .dataframe tbody tr th {\n",
       "        vertical-align: top;\n",
       "    }\n",
       "\n",
       "    .dataframe thead th {\n",
       "        text-align: right;\n",
       "    }\n",
       "</style>\n",
       "<table border=\"1\" class=\"dataframe\">\n",
       "  <thead>\n",
       "    <tr style=\"text-align: right;\">\n",
       "      <th></th>\n",
       "      <th>Results</th>\n",
       "    </tr>\n",
       "  </thead>\n",
       "  <tbody>\n",
       "    <tr>\n",
       "      <th>Computation Time DSS</th>\n",
       "      <td>00:00:02</td>\n",
       "    </tr>\n",
       "    <tr>\n",
       "      <th>Computation Time Total</th>\n",
       "      <td>02:54:27</td>\n",
       "    </tr>\n",
       "    <tr>\n",
       "      <th>Maximum WSEL Error</th>\n",
       "      <td>0</td>\n",
       "    </tr>\n",
       "    <tr>\n",
       "      <th>Run Time Window</th>\n",
       "      <td>15AUG2019 18:32:45 to 15AUG2019 21:27:09</td>\n",
       "    </tr>\n",
       "    <tr>\n",
       "      <th>Solution</th>\n",
       "      <td>Unsteady Finished Successfully</td>\n",
       "    </tr>\n",
       "    <tr>\n",
       "      <th>Time Solution Went Unstable</th>\n",
       "      <td>NaN</td>\n",
       "    </tr>\n",
       "    <tr>\n",
       "      <th>Time Stamp Solution Went Unstable</th>\n",
       "      <td>Not Applicable</td>\n",
       "    </tr>\n",
       "    <tr>\n",
       "      <th>Vol Accounting</th>\n",
       "      <td>Volume Accounting in Acre Feet</td>\n",
       "    </tr>\n",
       "    <tr>\n",
       "      <th>Vol Accounting 2D Bdry</th>\n",
       "      <td>0</td>\n",
       "    </tr>\n",
       "    <tr>\n",
       "      <th>Vol Accounting Cell End</th>\n",
       "      <td>60303</td>\n",
       "    </tr>\n",
       "    <tr>\n",
       "      <th>Vol Accounting Cell Start</th>\n",
       "      <td>1801.92</td>\n",
       "    </tr>\n",
       "    <tr>\n",
       "      <th>Vol Accounting DS Outflow</th>\n",
       "      <td>0</td>\n",
       "    </tr>\n",
       "    <tr>\n",
       "      <th>Vol Accounting Error</th>\n",
       "      <td>18670.2</td>\n",
       "    </tr>\n",
       "    <tr>\n",
       "      <th>Vol Accounting Error Percentage</th>\n",
       "      <td>30.1286</td>\n",
       "    </tr>\n",
       "    <tr>\n",
       "      <th>Vol Accounting Groundwater</th>\n",
       "      <td>0</td>\n",
       "    </tr>\n",
       "    <tr>\n",
       "      <th>Vol Accounting LS, Pump Div</th>\n",
       "      <td>0</td>\n",
       "    </tr>\n",
       "    <tr>\n",
       "      <th>Vol Accounting Lat Hydro</th>\n",
       "      <td>0</td>\n",
       "    </tr>\n",
       "    <tr>\n",
       "      <th>Vol Accounting US Inflow</th>\n",
       "      <td>0</td>\n",
       "    </tr>\n",
       "  </tbody>\n",
       "</table>\n",
       "</div>"
      ],
      "text/plain": [
       "                                                                    Results\n",
       "Computation Time DSS                                               00:00:02\n",
       "Computation Time Total                                             02:54:27\n",
       "Maximum WSEL Error                                                        0\n",
       "Run Time Window                    15AUG2019 18:32:45 to 15AUG2019 21:27:09\n",
       "Solution                                     Unsteady Finished Successfully\n",
       "Time Solution Went Unstable                                             NaN\n",
       "Time Stamp Solution Went Unstable                            Not Applicable\n",
       "Vol Accounting                               Volume Accounting in Acre Feet\n",
       "Vol Accounting 2D Bdry                                                    0\n",
       "Vol Accounting Cell End                                               60303\n",
       "Vol Accounting Cell Start                                           1801.92\n",
       "Vol Accounting DS Outflow                                                 0\n",
       "Vol Accounting Error                                                18670.2\n",
       "Vol Accounting Error Percentage                                     30.1286\n",
       "Vol Accounting Groundwater                                                0\n",
       "Vol Accounting LS, Pump Div                                               0\n",
       "Vol Accounting Lat Hydro                                                  0\n",
       "Vol Accounting US Inflow                                                  0"
      ]
     },
     "execution_count": 8,
     "metadata": {},
     "output_type": "execute_result"
    }
   ],
   "source": [
    "rasPlan.summary"
   ]
  },
  {
   "cell_type": "markdown",
   "metadata": {},
   "source": [
    "### 3A. Raster values at points\n",
    "#### Confirm points are in same projection"
   ]
  },
  {
   "cell_type": "code",
   "execution_count": 9,
   "metadata": {},
   "outputs": [
    {
     "name": "stdout",
     "output_type": "stream",
     "text": [
      "The points have {'init': 'epsg:2239'} coordinate reference system while the GeoTIFF is +init=epsg:2239.\n"
     ]
    }
   ],
   "source": [
    "pnts = gpd.read_file(points)\n",
    "tif = rasterio.open(tiffs[0])\n",
    "\n",
    "print(\"The points have {} coordinate reference system while the GeoTIFF is {}.\".format(pnts.crs, tif.crs))"
   ]
  },
  {
   "cell_type": "code",
   "execution_count": 10,
   "metadata": {},
   "outputs": [],
   "source": [
    "pnts = PointData(points).geodataframe"
   ]
  },
  {
   "cell_type": "code",
   "execution_count": 11,
   "metadata": {},
   "outputs": [
    {
     "name": "stdout",
     "output_type": "stream",
     "text": [
      "Identifying raster values at points took 56.58 seconds\n"
     ]
    }
   ],
   "source": [
    "start = time.time()\n",
    "df = extract_values_at_points(pnts, tiffs[0:30])\n",
    "end = round(time.time()-start,2)\n",
    "print(\"Identifying raster values at points took {} seconds\".format(end))"
   ]
  },
  {
   "cell_type": "markdown",
   "metadata": {},
   "source": [
    "# END"
   ]
  }
 ],
 "metadata": {
  "kernel_info": {
   "name": "geos"
  },
  "kernelspec": {
   "display_name": "Python 3",
   "language": "python",
   "name": "python3"
  },
  "language_info": {
   "codemirror_mode": {
    "name": "ipython",
    "version": 3
   },
   "file_extension": ".py",
   "mimetype": "text/x-python",
   "name": "python",
   "nbconvert_exporter": "python",
   "pygments_lexer": "ipython3",
   "version": "3.6.8"
  },
  "nteract": {
   "version": "0.14.4"
  },
  "pycharm": {
   "stem_cell": {
    "cell_type": "raw",
    "metadata": {
     "collapsed": false
    },
    "source": []
   }
  }
 },
 "nbformat": 4,
 "nbformat_minor": 4
}
