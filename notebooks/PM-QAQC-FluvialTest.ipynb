{
 "cells": [
  {
   "cell_type": "markdown",
   "metadata": {},
   "source": [
    "# PFRA \n",
    "\n",
    "### _Development Notebook_\n",
    "--- \n",
    "\n",
    "Tests using scrapbook"
   ]
  },
  {
   "cell_type": "code",
   "execution_count": 1,
   "metadata": {
    "ExecuteTime": {
     "end_time": "2019-08-09T20:09:20.766253Z",
     "start_time": "2019-08-09T20:09:20.763213Z"
    }
   },
   "outputs": [],
   "source": [
    "import sys;sys.path.append('../')"
   ]
  },
  {
   "cell_type": "code",
   "execution_count": 2,
   "metadata": {
    "ExecuteTime": {
     "end_time": "2019-08-09T20:09:22.513097Z",
     "start_time": "2019-08-09T20:09:20.768258Z"
    },
    "pycharm": {
     "is_executing": false
    }
   },
   "outputs": [],
   "source": [
    "from hecrasio.core import *\n",
    "from hecrasio.qaqc import *\n",
    "import scrapbook as sb\n",
    "import pandas as pd\n",
    "import json\n",
    "import itertools"
   ]
  },
  {
   "cell_type": "markdown",
   "metadata": {},
   "source": [
    "#### Read model output data "
   ]
  },
  {
   "cell_type": "code",
   "execution_count": 3,
   "metadata": {
    "ExecuteTime": {
     "end_time": "2019-08-09T20:09:42.027053Z",
     "start_time": "2019-08-09T20:09:22.514130Z"
    },
    "pycharm": {
     "is_executing": false
    }
   },
   "outputs": [],
   "source": [
    "# Create a large list of notebooks\n",
    "nbs = [\"SB-QAQC-FluvialTest.ipynb\" for i in range(10)]"
   ]
  },
  {
   "cell_type": "markdown",
   "metadata": {},
   "source": [
    "#### Pull scraps"
   ]
  },
  {
   "cell_type": "code",
   "execution_count": 4,
   "metadata": {
    "scrolled": false
   },
   "outputs": [],
   "source": [
    "# Enumerate here to pull it into a dictionary\n",
    "scraps = {str(i)+\"_\"+nb: list(sb.read_notebook(nb).scraps) for i, nb in enumerate(nbs)}"
   ]
  },
  {
   "cell_type": "code",
   "execution_count": 5,
   "metadata": {
    "scrolled": false
   },
   "outputs": [],
   "source": [
    "# Pull results into a dictionary of tables\n",
    "table_dict = {nb: pd.concat([pd.read_json(result) for result in results_json]).T for nb, results_json in scraps.items()}"
   ]
  },
  {
   "cell_type": "code",
   "execution_count": 6,
   "metadata": {},
   "outputs": [
    {
     "data": {
      "text/html": [
       "<div>\n",
       "<style scoped>\n",
       "    .dataframe tbody tr th:only-of-type {\n",
       "        vertical-align: middle;\n",
       "    }\n",
       "\n",
       "    .dataframe tbody tr th {\n",
       "        vertical-align: top;\n",
       "    }\n",
       "\n",
       "    .dataframe thead th {\n",
       "        text-align: right;\n",
       "    }\n",
       "</style>\n",
       "<table border=\"1\" class=\"dataframe\">\n",
       "  <thead>\n",
       "    <tr style=\"text-align: right;\">\n",
       "      <th></th>\n",
       "      <th>Base Output Interval</th>\n",
       "      <th>Computation Time Courant Method</th>\n",
       "      <th>Computation Time Step Base</th>\n",
       "      <th>Computation Time Step Count To Double</th>\n",
       "      <th>Computation Time Step Max Courant</th>\n",
       "      <th>Computation Time Step Max Doubling</th>\n",
       "      <th>Computation Time Step Max Halving</th>\n",
       "      <th>Computation Time Step Min Courant</th>\n",
       "      <th>Flow Filename</th>\n",
       "      <th>Flow Title</th>\n",
       "      <th>...</th>\n",
       "      <th>Vol Accounting 2D Bdry</th>\n",
       "      <th>Vol Accounting Cell End</th>\n",
       "      <th>Vol Accounting Cell Start</th>\n",
       "      <th>Vol Accounting DS Outflow</th>\n",
       "      <th>Vol Accounting Error</th>\n",
       "      <th>Vol Accounting Error Percentage</th>\n",
       "      <th>Vol Accounting Groundwater</th>\n",
       "      <th>Vol Accounting LS, Pump Div</th>\n",
       "      <th>Vol Accounting Lat Hydro</th>\n",
       "      <th>Vol Accounting US Inflow</th>\n",
       "    </tr>\n",
       "  </thead>\n",
       "  <tbody>\n",
       "    <tr>\n",
       "      <th>Results</th>\n",
       "      <td>15MIN</td>\n",
       "      <td>Representative Length/Velocity</td>\n",
       "      <td>30SEC</td>\n",
       "      <td>2</td>\n",
       "      <td>2</td>\n",
       "      <td>2</td>\n",
       "      <td>1</td>\n",
       "      <td>0.5</td>\n",
       "      <td>DC_F01_NBR.u01</td>\n",
       "      <td>E0004</td>\n",
       "      <td>...</td>\n",
       "      <td>0</td>\n",
       "      <td>99553.8</td>\n",
       "      <td>84515.9</td>\n",
       "      <td>0</td>\n",
       "      <td>36.8438</td>\n",
       "      <td>0.00171806</td>\n",
       "      <td>0</td>\n",
       "      <td>0</td>\n",
       "      <td>0</td>\n",
       "      <td>0</td>\n",
       "    </tr>\n",
       "  </tbody>\n",
       "</table>\n",
       "<p>1 rows × 69 columns</p>\n",
       "</div>"
      ],
      "text/plain": [
       "        Base Output Interval Computation Time Courant Method  \\\n",
       "Results                15MIN  Representative Length/Velocity   \n",
       "\n",
       "        Computation Time Step Base Computation Time Step Count To Double  \\\n",
       "Results                      30SEC                                     2   \n",
       "\n",
       "        Computation Time Step Max Courant Computation Time Step Max Doubling  \\\n",
       "Results                                 2                                  2   \n",
       "\n",
       "        Computation Time Step Max Halving Computation Time Step Min Courant  \\\n",
       "Results                                 1                               0.5   \n",
       "\n",
       "          Flow Filename Flow Title  ... Vol Accounting 2D Bdry  \\\n",
       "Results  DC_F01_NBR.u01      E0004  ...                      0   \n",
       "\n",
       "        Vol Accounting Cell End Vol Accounting Cell Start  \\\n",
       "Results                 99553.8                   84515.9   \n",
       "\n",
       "        Vol Accounting DS Outflow Vol Accounting Error  \\\n",
       "Results                         0              36.8438   \n",
       "\n",
       "        Vol Accounting Error Percentage Vol Accounting Groundwater  \\\n",
       "Results                      0.00171806                          0   \n",
       "\n",
       "        Vol Accounting LS, Pump Div Vol Accounting Lat Hydro  \\\n",
       "Results                           0                        0   \n",
       "\n",
       "        Vol Accounting US Inflow  \n",
       "Results                        0  \n",
       "\n",
       "[1 rows x 69 columns]"
      ]
     },
     "execution_count": 6,
     "metadata": {},
     "output_type": "execute_result"
    }
   ],
   "source": [
    "# Sample results\n",
    "table_dict['0_SB-QAQC-FluvialTest.ipynb']"
   ]
  },
  {
   "cell_type": "markdown",
   "metadata": {},
   "source": [
    "# END"
   ]
  }
 ],
 "metadata": {
  "kernel_info": {
   "name": "geos"
  },
  "kernelspec": {
   "display_name": "Python 3",
   "language": "python",
   "name": "python3"
  },
  "language_info": {
   "codemirror_mode": {
    "name": "ipython",
    "version": 3
   },
   "file_extension": ".py",
   "mimetype": "text/x-python",
   "name": "python",
   "nbconvert_exporter": "python",
   "pygments_lexer": "ipython3",
   "version": "3.6.8"
  },
  "nteract": {
   "version": "0.14.4"
  },
  "pycharm": {
   "stem_cell": {
    "cell_type": "raw",
    "metadata": {
     "collapsed": false
    },
    "source": []
   }
  }
 },
 "nbformat": 4,
 "nbformat_minor": 4
}
