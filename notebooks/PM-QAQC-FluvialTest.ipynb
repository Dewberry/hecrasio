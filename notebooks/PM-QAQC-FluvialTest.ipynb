{
 "cells": [
  {
   "cell_type": "markdown",
   "metadata": {},
   "source": [
    "# PFRA \n",
    "\n",
    "### _Development Notebook_\n",
    "--- \n",
    "\n",
    "Tests using scrapbook"
   ]
  },
  {
   "cell_type": "code",
   "execution_count": 10,
   "metadata": {
    "ExecuteTime": {
     "end_time": "2019-08-09T20:09:20.766253Z",
     "start_time": "2019-08-09T20:09:20.763213Z"
    }
   },
   "outputs": [],
   "source": [
    "import sys;sys.path.append('../')"
   ]
  },
  {
   "cell_type": "code",
   "execution_count": 190,
   "metadata": {
    "ExecuteTime": {
     "end_time": "2019-08-09T20:09:22.513097Z",
     "start_time": "2019-08-09T20:09:20.768258Z"
    },
    "pycharm": {
     "is_executing": false
    }
   },
   "outputs": [],
   "source": [
    "from hecrasio.core import *\n",
    "from hecrasio.qaqc import *\n",
    "from hecrasio.logger import *\n",
    "import scrapbook as sb\n",
    "import pandas as pd\n",
    "import json\n",
    "import shutil\n",
    "from collections import ChainMap"
   ]
  },
  {
   "cell_type": "code",
   "execution_count": 41,
   "metadata": {},
   "outputs": [],
   "source": [
    "# Make copies of example_nb\n",
    "example_nb = \"SB-QAQC-FluvialTest.ipynb\"\n",
    "for i in range(10):\n",
    "    shutil.copy(example_nb , os.path.join(os.getcwd(), \"temp\", \"SB-QAQC-FluvialTest-{}.ipynb\".format(i) ))"
   ]
  },
  {
   "cell_type": "code",
   "execution_count": 46,
   "metadata": {
    "ExecuteTime": {
     "end_time": "2019-08-09T20:09:42.027053Z",
     "start_time": "2019-08-09T20:09:22.514130Z"
    },
    "pycharm": {
     "is_executing": false
    }
   },
   "outputs": [
    {
     "data": {
      "text/plain": [
       "'SB-QAQC-FluvialTest-0.ipynb'"
      ]
     },
     "execution_count": 46,
     "metadata": {},
     "output_type": "execute_result"
    }
   ],
   "source": [
    "# Create a large list of notebooks\n",
    "nbs = os.listdir(os.path.join(os.getcwd(), \"temp\"))\n",
    "nbs[0]"
   ]
  },
  {
   "cell_type": "code",
   "execution_count": null,
   "metadata": {},
   "outputs": [],
   "source": [
    "# Read many notebooks\n",
    "book = sb.read_notebooks(os.path.join(os.getcwd(), \"temp\"))"
   ]
  },
  {
   "cell_type": "code",
   "execution_count": 193,
   "metadata": {},
   "outputs": [],
   "source": [
    "# Create a unified results dictionary\n",
    "results_dict = {}\n",
    "for tup in list(book.items()):\n",
    "    nb, results = tup\n",
    "    result_dict = dict(ChainMap(*[list(json.loads(scrap).values())[0] for scrap in results.scraps]))\n",
    "    results_dict[nb] = result_dict"
   ]
  },
  {
   "cell_type": "code",
   "execution_count": 197,
   "metadata": {},
   "outputs": [
    {
     "data": {
      "text/html": [
       "<div>\n",
       "<style scoped>\n",
       "    .dataframe tbody tr th:only-of-type {\n",
       "        vertical-align: middle;\n",
       "    }\n",
       "\n",
       "    .dataframe tbody tr th {\n",
       "        vertical-align: top;\n",
       "    }\n",
       "\n",
       "    .dataframe thead th {\n",
       "        text-align: right;\n",
       "    }\n",
       "</style>\n",
       "<table border=\"1\" class=\"dataframe\">\n",
       "  <thead>\n",
       "    <tr style=\"text-align: right;\">\n",
       "      <th></th>\n",
       "      <th>1D Cores</th>\n",
       "      <th>1D Methodology</th>\n",
       "      <th>1D2D Flow Tolerance</th>\n",
       "      <th>1D2D MaxIter</th>\n",
       "      <th>1D2D Minimum Flow Tolerance</th>\n",
       "      <th>1D2D WS Tolerance</th>\n",
       "      <th>2D Boundary Condition Ramp Up Fraction</th>\n",
       "      <th>2D Boundary Condition Volume Check</th>\n",
       "      <th>2D Cores</th>\n",
       "      <th>2D Coriolis</th>\n",
       "      <th>...</th>\n",
       "      <th>Vol Accounting 2D Bdry</th>\n",
       "      <th>Vol Accounting Cell End</th>\n",
       "      <th>Vol Accounting Cell Start</th>\n",
       "      <th>Vol Accounting DS Outflow</th>\n",
       "      <th>Vol Accounting Error</th>\n",
       "      <th>Vol Accounting Error Percentage</th>\n",
       "      <th>Vol Accounting Groundwater</th>\n",
       "      <th>Vol Accounting LS, Pump Div</th>\n",
       "      <th>Vol Accounting Lat Hydro</th>\n",
       "      <th>Vol Accounting US Inflow</th>\n",
       "    </tr>\n",
       "  </thead>\n",
       "  <tbody>\n",
       "    <tr>\n",
       "      <th>SB-QAQC-FluvialTest-0</th>\n",
       "      <td>0</td>\n",
       "      <td>Finite Difference</td>\n",
       "      <td>0.1</td>\n",
       "      <td>0</td>\n",
       "      <td>1</td>\n",
       "      <td>0.01</td>\n",
       "      <td>[0.1000000015]</td>\n",
       "      <td>[False]</td>\n",
       "      <td>0</td>\n",
       "      <td>False</td>\n",
       "      <td>...</td>\n",
       "      <td>0</td>\n",
       "      <td>99553.8</td>\n",
       "      <td>84515.9</td>\n",
       "      <td>0</td>\n",
       "      <td>36.8438</td>\n",
       "      <td>0.00171806</td>\n",
       "      <td>0</td>\n",
       "      <td>0</td>\n",
       "      <td>0</td>\n",
       "      <td>0</td>\n",
       "    </tr>\n",
       "    <tr>\n",
       "      <th>SB-QAQC-FluvialTest-1</th>\n",
       "      <td>0</td>\n",
       "      <td>Finite Difference</td>\n",
       "      <td>0.1</td>\n",
       "      <td>0</td>\n",
       "      <td>1</td>\n",
       "      <td>0.01</td>\n",
       "      <td>[0.1000000015]</td>\n",
       "      <td>[False]</td>\n",
       "      <td>0</td>\n",
       "      <td>False</td>\n",
       "      <td>...</td>\n",
       "      <td>0</td>\n",
       "      <td>99553.8</td>\n",
       "      <td>84515.9</td>\n",
       "      <td>0</td>\n",
       "      <td>36.8438</td>\n",
       "      <td>0.00171806</td>\n",
       "      <td>0</td>\n",
       "      <td>0</td>\n",
       "      <td>0</td>\n",
       "      <td>0</td>\n",
       "    </tr>\n",
       "    <tr>\n",
       "      <th>SB-QAQC-FluvialTest-2</th>\n",
       "      <td>0</td>\n",
       "      <td>Finite Difference</td>\n",
       "      <td>0.1</td>\n",
       "      <td>0</td>\n",
       "      <td>1</td>\n",
       "      <td>0.01</td>\n",
       "      <td>[0.1000000015]</td>\n",
       "      <td>[False]</td>\n",
       "      <td>0</td>\n",
       "      <td>False</td>\n",
       "      <td>...</td>\n",
       "      <td>0</td>\n",
       "      <td>99553.8</td>\n",
       "      <td>84515.9</td>\n",
       "      <td>0</td>\n",
       "      <td>36.8438</td>\n",
       "      <td>0.00171806</td>\n",
       "      <td>0</td>\n",
       "      <td>0</td>\n",
       "      <td>0</td>\n",
       "      <td>0</td>\n",
       "    </tr>\n",
       "  </tbody>\n",
       "</table>\n",
       "<p>3 rows × 69 columns</p>\n",
       "</div>"
      ],
      "text/plain": [
       "                      1D Cores     1D Methodology 1D2D Flow Tolerance  \\\n",
       "SB-QAQC-FluvialTest-0        0  Finite Difference                 0.1   \n",
       "SB-QAQC-FluvialTest-1        0  Finite Difference                 0.1   \n",
       "SB-QAQC-FluvialTest-2        0  Finite Difference                 0.1   \n",
       "\n",
       "                      1D2D MaxIter 1D2D Minimum Flow Tolerance  \\\n",
       "SB-QAQC-FluvialTest-0            0                           1   \n",
       "SB-QAQC-FluvialTest-1            0                           1   \n",
       "SB-QAQC-FluvialTest-2            0                           1   \n",
       "\n",
       "                      1D2D WS Tolerance  \\\n",
       "SB-QAQC-FluvialTest-0              0.01   \n",
       "SB-QAQC-FluvialTest-1              0.01   \n",
       "SB-QAQC-FluvialTest-2              0.01   \n",
       "\n",
       "                      2D Boundary Condition Ramp Up Fraction  \\\n",
       "SB-QAQC-FluvialTest-0                         [0.1000000015]   \n",
       "SB-QAQC-FluvialTest-1                         [0.1000000015]   \n",
       "SB-QAQC-FluvialTest-2                         [0.1000000015]   \n",
       "\n",
       "                      2D Boundary Condition Volume Check 2D Cores 2D Coriolis  \\\n",
       "SB-QAQC-FluvialTest-0                            [False]        0       False   \n",
       "SB-QAQC-FluvialTest-1                            [False]        0       False   \n",
       "SB-QAQC-FluvialTest-2                            [False]        0       False   \n",
       "\n",
       "                       ... Vol Accounting 2D Bdry Vol Accounting Cell End  \\\n",
       "SB-QAQC-FluvialTest-0  ...                      0                 99553.8   \n",
       "SB-QAQC-FluvialTest-1  ...                      0                 99553.8   \n",
       "SB-QAQC-FluvialTest-2  ...                      0                 99553.8   \n",
       "\n",
       "                      Vol Accounting Cell Start Vol Accounting DS Outflow  \\\n",
       "SB-QAQC-FluvialTest-0                   84515.9                         0   \n",
       "SB-QAQC-FluvialTest-1                   84515.9                         0   \n",
       "SB-QAQC-FluvialTest-2                   84515.9                         0   \n",
       "\n",
       "                      Vol Accounting Error Vol Accounting Error Percentage  \\\n",
       "SB-QAQC-FluvialTest-0              36.8438                      0.00171806   \n",
       "SB-QAQC-FluvialTest-1              36.8438                      0.00171806   \n",
       "SB-QAQC-FluvialTest-2              36.8438                      0.00171806   \n",
       "\n",
       "                      Vol Accounting Groundwater Vol Accounting LS, Pump Div  \\\n",
       "SB-QAQC-FluvialTest-0                          0                           0   \n",
       "SB-QAQC-FluvialTest-1                          0                           0   \n",
       "SB-QAQC-FluvialTest-2                          0                           0   \n",
       "\n",
       "                      Vol Accounting Lat Hydro Vol Accounting US Inflow  \n",
       "SB-QAQC-FluvialTest-0                        0                        0  \n",
       "SB-QAQC-FluvialTest-1                        0                        0  \n",
       "SB-QAQC-FluvialTest-2                        0                        0  \n",
       "\n",
       "[3 rows x 69 columns]"
      ]
     },
     "execution_count": 197,
     "metadata": {},
     "output_type": "execute_result"
    }
   ],
   "source": [
    "# Pull results into a large review table\n",
    "results_table = pd.DataFrame.from_dict(results_dict).T\n",
    "results_table.head(3)"
   ]
  },
  {
   "cell_type": "code",
   "execution_count": 192,
   "metadata": {},
   "outputs": [
    {
     "data": {
      "text/plain": [
       "{'SB-QAQC-FluvialTest-0': {'Maximum WSEL Error': 0.0,\n",
       "  'Time Stamp Solution Went Unstable': 'Not Applicable',\n",
       "  'Vol Accounting Cell Start': 84515.9453125,\n",
       "  'Computation Time Step Max Doubling': 2,\n",
       "  '2D Names': ['D01'],\n",
       "  'HDF Write Time Slices': 'False',\n",
       "  'Plan Filename': 'DC_F01_NBR.p01',\n",
       "  'HDF Flush Buffer': 'False',\n",
       "  'Vol Accounting 2D Bdry': 0.0,\n",
       "  '2D Theta': [1.0],\n",
       "  'Computation Time Step Base': '30SEC',\n",
       "  'HDF Chunk Size': 1.0,\n",
       "  'Computation Time Step Max Courant': 2.0,\n",
       "  'HDF Fixed Rows': 1,\n",
       "  '2D Boundary Condition Ramp Up Fraction': [0.1000000015],\n",
       "  'Solution': 'Unsteady Finished Successfully',\n",
       "  'Vol Accounting Error': 36.8437576294,\n",
       "  'Computation Time Step Count To Double': 2,\n",
       "  '2D Coriolis': 'False',\n",
       "  'Vol Accounting DS Outflow': 0.0,\n",
       "  'Plan Title': 'test_scaling',\n",
       "  'Time Solution Went Unstable': '00:00:00',\n",
       "  'HDF Write Warmup': 'False',\n",
       "  'Computation Time Step Max Halving': 1,\n",
       "  'HDF Spatial Parts': 1,\n",
       "  'Computation Time DSS': '00:00:00',\n",
       "  'Computation Time Courant Method': 'Representative Length/Velocity',\n",
       "  '1D2D WS Tolerance': 0.0099999998,\n",
       "  'Flow Filename': 'DC_F01_NBR.u01',\n",
       "  '2D Cores': 0,\n",
       "  '2D Initial Conditions Ramp Up Time (hrs)': [3.402823466e+38],\n",
       "  'HDF Compression': 1,\n",
       "  'Base Output Interval': '15MIN',\n",
       "  'HDF Write Face Node Velocities': 'False',\n",
       "  'Computation Time Step Min Courant': 0.5,\n",
       "  '2D Number of Time Slices': [1],\n",
       "  'Pardiso Solver': 'False',\n",
       "  'Computation Time Total': '03:11:15',\n",
       "  'Vol Accounting Lat Hydro': 0.0,\n",
       "  '2D Equation Set': ['Dynamic Wave'],\n",
       "  'Simulation Start Time': '01May2000 10:00:0',\n",
       "  'Plan Name': 'test_scaling',\n",
       "  '1D Methodology': 'Finite Difference',\n",
       "  '2D Only': 'True',\n",
       "  'Run Time Window': '15JUL2019 03:58:00 to 15JUL2019 07:09:15',\n",
       "  '1D Cores': 0,\n",
       "  '1D2D Flow Tolerance': 0.1000000015,\n",
       "  '1D2D MaxIter': 0,\n",
       "  'Vol Accounting US Inflow': 0.0,\n",
       "  '2D Water Surface Tolerance': [0.0099999998],\n",
       "  'Plan ShortID': 'test_scaling',\n",
       "  'Vol Accounting Cell End': 99553.8203125,\n",
       "  'HDF Use Max Rows': 0,\n",
       "  '2D Maximum Iterations': [20],\n",
       "  'Vol Accounting Error Percentage': 0.0017180609,\n",
       "  'Simulation End Time': '05May2000 10:00:0',\n",
       "  '1D2D Minimum Flow Tolerance': 1.0,\n",
       "  'Time Window': '01May2000 10:00:00 to 05May2000 10:00:0',\n",
       "  '2D Eddy Viscosity Transverse Mixing Coefficient': [3.402823466e+38],\n",
       "  'Vol Accounting Groundwater': 0.0,\n",
       "  'Geometry Title': 'D01',\n",
       "  'Vol Accounting': 'Volume Accounting in Acre Feet',\n",
       "  'Geometry Filename': 'DC_F01_NBR.g01',\n",
       "  '2D Volume Tolerance': [0.0099999998],\n",
       "  '2D Theta Warmup': [1.0],\n",
       "  '2D Boundary Condition Volume Check': ['False'],\n",
       "  '2D Latitude for Coriolis': [3.402823466e+38],\n",
       "  'Flow Title': 'E0004',\n",
       "  'Vol Accounting LS, Pump Div': 0.0}}"
      ]
     },
     "execution_count": 192,
     "metadata": {},
     "output_type": "execute_result"
    }
   ],
   "source": [
    "results_dict"
   ]
  },
  {
   "cell_type": "code",
   "execution_count": null,
   "metadata": {},
   "outputs": [],
   "source": [
    "result_values = [list(json.loads(scrap).values())[0] for scrap in results.scraps]"
   ]
  },
  {
   "cell_type": "code",
   "execution_count": 189,
   "metadata": {},
   "outputs": [
    {
     "data": {
      "text/plain": [
       "{'Maximum WSEL Error': 0.0,\n",
       " 'Time Stamp Solution Went Unstable': 'Not Applicable',\n",
       " 'Vol Accounting Cell Start': 84515.9453125,\n",
       " 'Computation Time Step Max Doubling': 2,\n",
       " '2D Names': ['D01'],\n",
       " 'HDF Write Time Slices': 'False',\n",
       " 'Plan Filename': 'DC_F01_NBR.p01',\n",
       " 'HDF Flush Buffer': 'False',\n",
       " 'Vol Accounting 2D Bdry': 0.0,\n",
       " '2D Theta': [1.0],\n",
       " 'Computation Time Step Base': '30SEC',\n",
       " 'HDF Chunk Size': 1.0,\n",
       " 'Computation Time Step Max Courant': 2.0,\n",
       " 'HDF Fixed Rows': 1,\n",
       " '2D Boundary Condition Ramp Up Fraction': [0.1000000015],\n",
       " 'Solution': 'Unsteady Finished Successfully',\n",
       " 'Vol Accounting Error': 36.8437576294,\n",
       " 'Computation Time Step Count To Double': 2,\n",
       " '2D Coriolis': 'False',\n",
       " 'Vol Accounting DS Outflow': 0.0,\n",
       " 'Plan Title': 'test_scaling',\n",
       " 'Time Solution Went Unstable': '00:00:00',\n",
       " 'HDF Write Warmup': 'False',\n",
       " 'Computation Time Step Max Halving': 1,\n",
       " 'HDF Spatial Parts': 1,\n",
       " 'Computation Time DSS': '00:00:00',\n",
       " 'Computation Time Courant Method': 'Representative Length/Velocity',\n",
       " '1D2D WS Tolerance': 0.0099999998,\n",
       " 'Flow Filename': 'DC_F01_NBR.u01',\n",
       " '2D Cores': 0,\n",
       " '2D Initial Conditions Ramp Up Time (hrs)': [3.402823466e+38],\n",
       " 'HDF Compression': 1,\n",
       " 'Base Output Interval': '15MIN',\n",
       " 'HDF Write Face Node Velocities': 'False',\n",
       " 'Computation Time Step Min Courant': 0.5,\n",
       " '2D Number of Time Slices': [1],\n",
       " 'Pardiso Solver': 'False',\n",
       " 'Computation Time Total': '03:11:15',\n",
       " 'Vol Accounting Lat Hydro': 0.0,\n",
       " '2D Equation Set': ['Dynamic Wave'],\n",
       " 'Simulation Start Time': '01May2000 10:00:0',\n",
       " 'Plan Name': 'test_scaling',\n",
       " '1D Methodology': 'Finite Difference',\n",
       " '2D Only': 'True',\n",
       " 'Run Time Window': '15JUL2019 03:58:00 to 15JUL2019 07:09:15',\n",
       " '1D Cores': 0,\n",
       " '1D2D Flow Tolerance': 0.1000000015,\n",
       " '1D2D MaxIter': 0,\n",
       " 'Vol Accounting US Inflow': 0.0,\n",
       " '2D Water Surface Tolerance': [0.0099999998],\n",
       " 'Plan ShortID': 'test_scaling',\n",
       " 'Vol Accounting Cell End': 99553.8203125,\n",
       " 'HDF Use Max Rows': 0,\n",
       " '2D Maximum Iterations': [20],\n",
       " 'Vol Accounting Error Percentage': 0.0017180609,\n",
       " 'Simulation End Time': '05May2000 10:00:0',\n",
       " '1D2D Minimum Flow Tolerance': 1.0,\n",
       " 'Time Window': '01May2000 10:00:00 to 05May2000 10:00:0',\n",
       " '2D Eddy Viscosity Transverse Mixing Coefficient': [3.402823466e+38],\n",
       " 'Vol Accounting Groundwater': 0.0,\n",
       " 'Geometry Title': 'D01',\n",
       " 'Vol Accounting': 'Volume Accounting in Acre Feet',\n",
       " 'Geometry Filename': 'DC_F01_NBR.g01',\n",
       " '2D Volume Tolerance': [0.0099999998],\n",
       " '2D Theta Warmup': [1.0],\n",
       " '2D Boundary Condition Volume Check': ['False'],\n",
       " '2D Latitude for Coriolis': [3.402823466e+38],\n",
       " 'Flow Title': 'E0004',\n",
       " 'Vol Accounting LS, Pump Div': 0.0}"
      ]
     },
     "execution_count": 189,
     "metadata": {},
     "output_type": "execute_result"
    }
   ],
   "source": [
    "dict(ChainMap(*result_values))"
   ]
  },
  {
   "cell_type": "code",
   "execution_count": 188,
   "metadata": {},
   "outputs": [
    {
     "name": "stdout",
     "output_type": "stream",
     "text": [
      "Base Output Interval\n",
      "Computation Time Courant Method\n",
      "Computation Time Step Base\n",
      "Computation Time Step Count To Double\n",
      "Computation Time Step Max Courant\n",
      "Computation Time Step Max Doubling\n",
      "Computation Time Step Max Halving\n",
      "Computation Time Step Min Courant\n",
      "Flow Filename\n",
      "Flow Title\n",
      "Geometry Filename\n",
      "Geometry Title\n",
      "Plan Filename\n",
      "Plan Name\n",
      "Plan ShortID\n",
      "Plan Title\n",
      "Simulation End Time\n",
      "Simulation Start Time\n",
      "Time Window\n"
     ]
    }
   ],
   "source": [
    "for k,v in result_values[0].items():\n",
    "    print(k)"
   ]
  },
  {
   "cell_type": "code",
   "execution_count": 184,
   "metadata": {},
   "outputs": [
    {
     "data": {
      "text/plain": [
       "[{'Base Output Interval': '15MIN',\n",
       "  'Computation Time Courant Method': 'Representative Length/Velocity',\n",
       "  'Computation Time Step Base': '30SEC',\n",
       "  'Computation Time Step Count To Double': 2,\n",
       "  'Computation Time Step Max Courant': 2.0,\n",
       "  'Computation Time Step Max Doubling': 2,\n",
       "  'Computation Time Step Max Halving': 1,\n",
       "  'Computation Time Step Min Courant': 0.5,\n",
       "  'Flow Filename': 'DC_F01_NBR.u01',\n",
       "  'Flow Title': 'E0004',\n",
       "  'Geometry Filename': 'DC_F01_NBR.g01',\n",
       "  'Geometry Title': 'D01',\n",
       "  'Plan Filename': 'DC_F01_NBR.p01',\n",
       "  'Plan Name': 'test_scaling',\n",
       "  'Plan ShortID': 'test_scaling',\n",
       "  'Plan Title': 'test_scaling',\n",
       "  'Simulation End Time': '05May2000 10:00:0',\n",
       "  'Simulation Start Time': '01May2000 10:00:0',\n",
       "  'Time Window': '01May2000 10:00:00 to 05May2000 10:00:0'},\n",
       " {'1D Cores': 0,\n",
       "  '1D Methodology': 'Finite Difference',\n",
       "  '1D2D Flow Tolerance': 0.1000000015,\n",
       "  '1D2D MaxIter': 0,\n",
       "  '1D2D Minimum Flow Tolerance': 1.0,\n",
       "  '1D2D WS Tolerance': 0.0099999998,\n",
       "  '2D Boundary Condition Ramp Up Fraction': [0.1000000015],\n",
       "  '2D Boundary Condition Volume Check': ['False'],\n",
       "  '2D Cores': 0,\n",
       "  '2D Coriolis': 'False',\n",
       "  '2D Eddy Viscosity Transverse Mixing Coefficient': [3.402823466e+38],\n",
       "  '2D Equation Set': ['Dynamic Wave'],\n",
       "  '2D Initial Conditions Ramp Up Time (hrs)': [3.402823466e+38],\n",
       "  '2D Latitude for Coriolis': [3.402823466e+38],\n",
       "  '2D Maximum Iterations': [20],\n",
       "  '2D Names': ['D01'],\n",
       "  '2D Number of Time Slices': [1],\n",
       "  '2D Only': 'True',\n",
       "  '2D Theta': [1.0],\n",
       "  '2D Theta Warmup': [1.0],\n",
       "  '2D Volume Tolerance': [0.0099999998],\n",
       "  '2D Water Surface Tolerance': [0.0099999998],\n",
       "  'HDF Chunk Size': 1.0,\n",
       "  'HDF Compression': 1,\n",
       "  'HDF Fixed Rows': 1,\n",
       "  'HDF Flush Buffer': 'False',\n",
       "  'HDF Spatial Parts': 1,\n",
       "  'HDF Use Max Rows': 0,\n",
       "  'HDF Write Face Node Velocities': 'False',\n",
       "  'HDF Write Time Slices': 'False',\n",
       "  'HDF Write Warmup': 'False',\n",
       "  'Pardiso Solver': 'False'},\n",
       " {'Computation Time DSS': '00:00:00',\n",
       "  'Computation Time Total': '03:11:15',\n",
       "  'Maximum WSEL Error': 0.0,\n",
       "  'Run Time Window': '15JUL2019 03:58:00 to 15JUL2019 07:09:15',\n",
       "  'Solution': 'Unsteady Finished Successfully',\n",
       "  'Time Solution Went Unstable': '00:00:00',\n",
       "  'Time Stamp Solution Went Unstable': 'Not Applicable',\n",
       "  'Vol Accounting': 'Volume Accounting in Acre Feet',\n",
       "  'Vol Accounting 2D Bdry': 0.0,\n",
       "  'Vol Accounting Cell End': 99553.8203125,\n",
       "  'Vol Accounting Cell Start': 84515.9453125,\n",
       "  'Vol Accounting DS Outflow': 0.0,\n",
       "  'Vol Accounting Error': 36.8437576294,\n",
       "  'Vol Accounting Error Percentage': 0.0017180609,\n",
       "  'Vol Accounting Groundwater': 0.0,\n",
       "  'Vol Accounting LS, Pump Div': 0.0,\n",
       "  'Vol Accounting Lat Hydro': 0.0,\n",
       "  'Vol Accounting US Inflow': 0.0}]"
      ]
     },
     "execution_count": 184,
     "metadata": {},
     "output_type": "execute_result"
    }
   ],
   "source": [
    "[result[0] for result in result_values]"
   ]
  },
  {
   "cell_type": "code",
   "execution_count": 176,
   "metadata": {},
   "outputs": [
    {
     "data": {
      "text/plain": [
       "[{'Base Output Interval': '15MIN',\n",
       "  'Computation Time Courant Method': 'Representative Length/Velocity',\n",
       "  'Computation Time Step Base': '30SEC',\n",
       "  'Computation Time Step Count To Double': 2,\n",
       "  'Computation Time Step Max Courant': 2.0,\n",
       "  'Computation Time Step Max Doubling': 2,\n",
       "  'Computation Time Step Max Halving': 1,\n",
       "  'Computation Time Step Min Courant': 0.5,\n",
       "  'Flow Filename': 'DC_F01_NBR.u01',\n",
       "  'Flow Title': 'E0004',\n",
       "  'Geometry Filename': 'DC_F01_NBR.g01',\n",
       "  'Geometry Title': 'D01',\n",
       "  'Plan Filename': 'DC_F01_NBR.p01',\n",
       "  'Plan Name': 'test_scaling',\n",
       "  'Plan ShortID': 'test_scaling',\n",
       "  'Plan Title': 'test_scaling',\n",
       "  'Simulation End Time': '05May2000 10:00:0',\n",
       "  'Simulation Start Time': '01May2000 10:00:0',\n",
       "  'Time Window': '01May2000 10:00:00 to 05May2000 10:00:0'}]"
      ]
     },
     "execution_count": 176,
     "metadata": {},
     "output_type": "execute_result"
    }
   ],
   "source": [
    "{k: v for d in L for k, v in d.items()}\n",
    "result_values[0]"
   ]
  },
  {
   "cell_type": "code",
   "execution_count": 164,
   "metadata": {},
   "outputs": [
    {
     "data": {
      "text/plain": [
       "dict_values([{'Computation Time DSS': '00:00:00', 'Computation Time Total': '03:11:15', 'Maximum WSEL Error': 0.0, 'Run Time Window': '15JUL2019 03:58:00 to 15JUL2019 07:09:15', 'Solution': 'Unsteady Finished Successfully', 'Time Solution Went Unstable': '00:00:00', 'Time Stamp Solution Went Unstable': 'Not Applicable', 'Vol Accounting': 'Volume Accounting in Acre Feet', 'Vol Accounting 2D Bdry': 0.0, 'Vol Accounting Cell End': 99553.8203125, 'Vol Accounting Cell Start': 84515.9453125, 'Vol Accounting DS Outflow': 0.0, 'Vol Accounting Error': 36.8437576294, 'Vol Accounting Error Percentage': 0.0017180609, 'Vol Accounting Groundwater': 0.0, 'Vol Accounting LS, Pump Div': 0.0, 'Vol Accounting Lat Hydro': 0.0, 'Vol Accounting US Inflow': 0.0}])"
      ]
     },
     "execution_count": 164,
     "metadata": {},
     "output_type": "execute_result"
    }
   ],
   "source": [
    "json.loads(scrap).values()"
   ]
  },
  {
   "cell_type": "code",
   "execution_count": 157,
   "metadata": {},
   "outputs": [
    {
     "ename": "AttributeError",
     "evalue": "'str' object has no attribute 'data_dict'",
     "output_type": "error",
     "traceback": [
      "\u001b[0;31m---------------------------------------------------------------------------\u001b[0m",
      "\u001b[0;31mAttributeError\u001b[0m                            Traceback (most recent call last)",
      "\u001b[0;32m<ipython-input-157-1f79b298618a>\u001b[0m in \u001b[0;36m<module>\u001b[0;34m\u001b[0m\n\u001b[0;32m----> 1\u001b[0;31m \u001b[0;34m[\u001b[0m\u001b[0mscrap\u001b[0m\u001b[0;34m.\u001b[0m\u001b[0mdata_dict\u001b[0m \u001b[0;32mfor\u001b[0m \u001b[0mscrap\u001b[0m \u001b[0;32min\u001b[0m \u001b[0mresults\u001b[0m\u001b[0;34m.\u001b[0m\u001b[0mscraps\u001b[0m\u001b[0;34m]\u001b[0m\u001b[0;34m\u001b[0m\u001b[0;34m\u001b[0m\u001b[0m\n\u001b[0m",
      "\u001b[0;32m<ipython-input-157-1f79b298618a>\u001b[0m in \u001b[0;36m<listcomp>\u001b[0;34m(.0)\u001b[0m\n\u001b[0;32m----> 1\u001b[0;31m \u001b[0;34m[\u001b[0m\u001b[0mscrap\u001b[0m\u001b[0;34m.\u001b[0m\u001b[0mdata_dict\u001b[0m \u001b[0;32mfor\u001b[0m \u001b[0mscrap\u001b[0m \u001b[0;32min\u001b[0m \u001b[0mresults\u001b[0m\u001b[0;34m.\u001b[0m\u001b[0mscraps\u001b[0m\u001b[0;34m]\u001b[0m\u001b[0;34m\u001b[0m\u001b[0;34m\u001b[0m\u001b[0m\n\u001b[0m",
      "\u001b[0;31mAttributeError\u001b[0m: 'str' object has no attribute 'data_dict'"
     ]
    }
   ],
   "source": [
    "[scrap.data_dict for scrap in results.scraps]"
   ]
  },
  {
   "cell_type": "code",
   "execution_count": 135,
   "metadata": {},
   "outputs": [],
   "source": [
    "scrap_list = []\n",
    "for scrap in results.scraps:\n",
    "    scrap_list.append(scrap)\n",
    "json_strs = []\n",
    "for json_str in scrap_list:\n",
    "    json_strs.append(json.loads(json_str))\n",
    "    "
   ]
  },
  {
   "cell_type": "code",
   "execution_count": 154,
   "metadata": {},
   "outputs": [
    {
     "data": {
      "text/plain": [
       "{'Results': {'Computation Time DSS': '00:00:00',\n",
       "  'Computation Time Total': '03:11:15',\n",
       "  'Maximum WSEL Error': 0.0,\n",
       "  'Run Time Window': '15JUL2019 03:58:00 to 15JUL2019 07:09:15',\n",
       "  'Solution': 'Unsteady Finished Successfully',\n",
       "  'Time Solution Went Unstable': '00:00:00',\n",
       "  'Time Stamp Solution Went Unstable': 'Not Applicable',\n",
       "  'Vol Accounting': 'Volume Accounting in Acre Feet',\n",
       "  'Vol Accounting 2D Bdry': 0.0,\n",
       "  'Vol Accounting Cell End': 99553.8203125,\n",
       "  'Vol Accounting Cell Start': 84515.9453125,\n",
       "  'Vol Accounting DS Outflow': 0.0,\n",
       "  'Vol Accounting Error': 36.8437576294,\n",
       "  'Vol Accounting Error Percentage': 0.0017180609,\n",
       "  'Vol Accounting Groundwater': 0.0,\n",
       "  'Vol Accounting LS, Pump Div': 0.0,\n",
       "  'Vol Accounting Lat Hydro': 0.0,\n",
       "  'Vol Accounting US Inflow': 0.0}}"
      ]
     },
     "execution_count": 154,
     "metadata": {},
     "output_type": "execute_result"
    }
   ],
   "source": [
    "test_dict = {}\n",
    "for json_str in json_strs:\n",
    "    values = []\n",
    "    for k,v in json_str.items():\n",
    "        \n",
    "test_dict"
   ]
  },
  {
   "cell_type": "code",
   "execution_count": 152,
   "metadata": {},
   "outputs": [
    {
     "name": "stdout",
     "output_type": "stream",
     "text": [
      "Results\n"
     ]
    }
   ],
   "source": [
    "for (k, v) in json_strs[0].items():\n",
    "    print(k)"
   ]
  },
  {
   "cell_type": "code",
   "execution_count": 142,
   "metadata": {},
   "outputs": [
    {
     "ename": "ValueError",
     "evalue": "not enough values to unpack (expected 2, got 1)",
     "output_type": "error",
     "traceback": [
      "\u001b[0;31m---------------------------------------------------------------------------\u001b[0m",
      "\u001b[0;31mValueError\u001b[0m                                Traceback (most recent call last)",
      "\u001b[0;32m<ipython-input-142-c959fb3eac88>\u001b[0m in \u001b[0;36m<module>\u001b[0;34m\u001b[0m\n\u001b[0;32m----> 1\u001b[0;31m \u001b[0;34m{\u001b[0m\u001b[0mkey\u001b[0m\u001b[0;34m:\u001b[0m \u001b[0mvalue\u001b[0m \u001b[0;32mfor\u001b[0m \u001b[0;34m(\u001b[0m\u001b[0mk\u001b[0m\u001b[0;34m,\u001b[0m\u001b[0mv\u001b[0m\u001b[0;34m)\u001b[0m \u001b[0;32min\u001b[0m \u001b[0mjson_strs\u001b[0m\u001b[0;34m}\u001b[0m\u001b[0;34m\u001b[0m\u001b[0;34m\u001b[0m\u001b[0m\n\u001b[0m",
      "\u001b[0;32m<ipython-input-142-c959fb3eac88>\u001b[0m in \u001b[0;36m<dictcomp>\u001b[0;34m(.0)\u001b[0m\n\u001b[0;32m----> 1\u001b[0;31m \u001b[0;34m{\u001b[0m\u001b[0mkey\u001b[0m\u001b[0;34m:\u001b[0m \u001b[0mvalue\u001b[0m \u001b[0;32mfor\u001b[0m \u001b[0;34m(\u001b[0m\u001b[0mk\u001b[0m\u001b[0;34m,\u001b[0m\u001b[0mv\u001b[0m\u001b[0;34m)\u001b[0m \u001b[0;32min\u001b[0m \u001b[0mjson_strs\u001b[0m\u001b[0;34m}\u001b[0m\u001b[0;34m\u001b[0m\u001b[0;34m\u001b[0m\u001b[0m\n\u001b[0m",
      "\u001b[0;31mValueError\u001b[0m: not enough values to unpack (expected 2, got 1)"
     ]
    }
   ],
   "source": [
    "{key: value for (k,v) in for json_str in json_strs}"
   ]
  },
  {
   "cell_type": "code",
   "execution_count": 124,
   "metadata": {},
   "outputs": [
    {
     "name": "stdout",
     "output_type": "stream",
     "text": [
      "Results\n",
      "Results\n",
      "Results\n"
     ]
    }
   ],
   "source": [
    "for scrap in results.scraps:\n",
    "    for json_str in json.loads(scrap):\n",
    "        print(json_str)"
   ]
  },
  {
   "cell_type": "code",
   "execution_count": 125,
   "metadata": {},
   "outputs": [
    {
     "data": {
      "text/plain": [
       "{'Results': {'Computation Time DSS': '00:00:00',\n",
       "  'Computation Time Total': '03:11:15',\n",
       "  'Maximum WSEL Error': 0.0,\n",
       "  'Run Time Window': '15JUL2019 03:58:00 to 15JUL2019 07:09:15',\n",
       "  'Solution': 'Unsteady Finished Successfully',\n",
       "  'Time Solution Went Unstable': '00:00:00',\n",
       "  'Time Stamp Solution Went Unstable': 'Not Applicable',\n",
       "  'Vol Accounting': 'Volume Accounting in Acre Feet',\n",
       "  'Vol Accounting 2D Bdry': 0.0,\n",
       "  'Vol Accounting Cell End': 99553.8203125,\n",
       "  'Vol Accounting Cell Start': 84515.9453125,\n",
       "  'Vol Accounting DS Outflow': 0.0,\n",
       "  'Vol Accounting Error': 36.8437576294,\n",
       "  'Vol Accounting Error Percentage': 0.0017180609,\n",
       "  'Vol Accounting Groundwater': 0.0,\n",
       "  'Vol Accounting LS, Pump Div': 0.0,\n",
       "  'Vol Accounting Lat Hydro': 0.0,\n",
       "  'Vol Accounting US Inflow': 0.0}}"
      ]
     },
     "execution_count": 125,
     "metadata": {},
     "output_type": "execute_result"
    }
   ],
   "source": [
    "json.loads(scrap)"
   ]
  },
  {
   "cell_type": "code",
   "execution_count": 119,
   "metadata": {},
   "outputs": [
    {
     "data": {
      "text/plain": [
       "('{\"Results\":{\"Base Output Interval\":\"15MIN\",\"Computation Time Courant Method\":\"Representative Length\\\\/Velocity\",\"Computation Time Step Base\":\"30SEC\",\"Computation Time Step Count To Double\":2,\"Computation Time Step Max Courant\":2.0,\"Computation Time Step Max Doubling\":2,\"Computation Time Step Max Halving\":1,\"Computation Time Step Min Courant\":0.5,\"Flow Filename\":\"DC_F01_NBR.u01\",\"Flow Title\":\"E0004\",\"Geometry Filename\":\"DC_F01_NBR.g01\",\"Geometry Title\":\"D01\",\"Plan Filename\":\"DC_F01_NBR.p01\",\"Plan Name\":\"test_scaling\",\"Plan ShortID\":\"test_scaling\",\"Plan Title\":\"test_scaling\",\"Simulation End Time\":\"05May2000 10:00:0\",\"Simulation Start Time\":\"01May2000 10:00:0\",\"Time Window\":\"01May2000 10:00:00 to 05May2000 10:00:0\"}}',\n",
       " Scrap(name='{\"Results\":{\"Base Output Interval\":\"15MIN\",\"Computation Time Courant Method\":\"Representative Length\\\\/Velocity\",\"Computation Time Step Base\":\"30SEC\",\"Computation Time Step Count To Double\":2,\"Computation Time Step Max Courant\":2.0,\"Computation Time Step Max Doubling\":2,\"Computation Time Step Max Halving\":1,\"Computation Time Step Min Courant\":0.5,\"Flow Filename\":\"DC_F01_NBR.u01\",\"Flow Title\":\"E0004\",\"Geometry Filename\":\"DC_F01_NBR.g01\",\"Geometry Title\":\"D01\",\"Plan Filename\":\"DC_F01_NBR.p01\",\"Plan Name\":\"test_scaling\",\"Plan ShortID\":\"test_scaling\",\"Plan Title\":\"test_scaling\",\"Simulation End Time\":\"05May2000 10:00:0\",\"Simulation Start Time\":\"01May2000 10:00:0\",\"Time Window\":\"01May2000 10:00:00 to 05May2000 10:00:0\"}}', data='json', encoder='text', display=None))"
      ]
     },
     "execution_count": 119,
     "metadata": {},
     "output_type": "execute_result"
    }
   ],
   "source": [
    "[scrap for scrap in results.scraps.items()][0]"
   ]
  },
  {
   "cell_type": "code",
   "execution_count": 94,
   "metadata": {},
   "outputs": [],
   "source": [
    "table_dict = {nb: pd.concat([pd.read_json(result) for result in results_json]).T for nb, results_json in scraps.items()}"
   ]
  },
  {
   "cell_type": "code",
   "execution_count": 99,
   "metadata": {},
   "outputs": [
    {
     "data": {
      "text/plain": [
       "[dict_values([{'Base Output Interval': '15MIN', 'Computation Time Courant Method': 'Representative Length/Velocity', 'Computation Time Step Base': '30SEC', 'Computation Time Step Count To Double': 2, 'Computation Time Step Max Courant': 2.0, 'Computation Time Step Max Doubling': 2, 'Computation Time Step Max Halving': 1, 'Computation Time Step Min Courant': 0.5, 'Flow Filename': 'DC_F01_NBR.u01', 'Flow Title': 'E0004', 'Geometry Filename': 'DC_F01_NBR.g01', 'Geometry Title': 'D01', 'Plan Filename': 'DC_F01_NBR.p01', 'Plan Name': 'test_scaling', 'Plan ShortID': 'test_scaling', 'Plan Title': 'test_scaling', 'Simulation End Time': '05May2000 10:00:0', 'Simulation Start Time': '01May2000 10:00:0', 'Time Window': '01May2000 10:00:00 to 05May2000 10:00:0'}]),\n",
       " dict_values([{'1D Cores': 0, '1D Methodology': 'Finite Difference', '1D2D Flow Tolerance': 0.1000000015, '1D2D MaxIter': 0, '1D2D Minimum Flow Tolerance': 1.0, '1D2D WS Tolerance': 0.0099999998, '2D Boundary Condition Ramp Up Fraction': [0.1000000015], '2D Boundary Condition Volume Check': ['False'], '2D Cores': 0, '2D Coriolis': 'False', '2D Eddy Viscosity Transverse Mixing Coefficient': [3.402823466e+38], '2D Equation Set': ['Dynamic Wave'], '2D Initial Conditions Ramp Up Time (hrs)': [3.402823466e+38], '2D Latitude for Coriolis': [3.402823466e+38], '2D Maximum Iterations': [20], '2D Names': ['D01'], '2D Number of Time Slices': [1], '2D Only': 'True', '2D Theta': [1.0], '2D Theta Warmup': [1.0], '2D Volume Tolerance': [0.0099999998], '2D Water Surface Tolerance': [0.0099999998], 'HDF Chunk Size': 1.0, 'HDF Compression': 1, 'HDF Fixed Rows': 1, 'HDF Flush Buffer': 'False', 'HDF Spatial Parts': 1, 'HDF Use Max Rows': 0, 'HDF Write Face Node Velocities': 'False', 'HDF Write Time Slices': 'False', 'HDF Write Warmup': 'False', 'Pardiso Solver': 'False'}]),\n",
       " dict_values([{'Computation Time DSS': '00:00:00', 'Computation Time Total': '03:11:15', 'Maximum WSEL Error': 0.0, 'Run Time Window': '15JUL2019 03:58:00 to 15JUL2019 07:09:15', 'Solution': 'Unsteady Finished Successfully', 'Time Solution Went Unstable': '00:00:00', 'Time Stamp Solution Went Unstable': 'Not Applicable', 'Vol Accounting': 'Volume Accounting in Acre Feet', 'Vol Accounting 2D Bdry': 0.0, 'Vol Accounting Cell End': 99553.8203125, 'Vol Accounting Cell Start': 84515.9453125, 'Vol Accounting DS Outflow': 0.0, 'Vol Accounting Error': 36.8437576294, 'Vol Accounting Error Percentage': 0.0017180609, 'Vol Accounting Groundwater': 0.0, 'Vol Accounting LS, Pump Div': 0.0, 'Vol Accounting Lat Hydro': 0.0, 'Vol Accounting US Inflow': 0.0}])]"
      ]
     },
     "execution_count": 99,
     "metadata": {},
     "output_type": "execute_result"
    }
   ],
   "source": [
    "list([string.values () for string in [json.loads(scrap) for scrap in results.scraps]])"
   ]
  },
  {
   "cell_type": "code",
   "execution_count": 80,
   "metadata": {},
   "outputs": [
    {
     "name": "stdout",
     "output_type": "stream",
     "text": [
      "Results\n",
      "Results\n",
      "Results\n"
     ]
    }
   ],
   "source": [
    "json_list = [json.loads(scrap) for scrap in results.scraps]\n",
    "result_dict = {}\n",
    "for son in json_list:\n",
    "    for k, v in son.items():\n",
    "        result_dict"
   ]
  },
  {
   "cell_type": "code",
   "execution_count": 78,
   "metadata": {},
   "outputs": [
    {
     "ename": "NameError",
     "evalue": "name 'son' is not defined",
     "output_type": "error",
     "traceback": [
      "\u001b[0;31m---------------------------------------------------------------------------\u001b[0m",
      "\u001b[0;31mNameError\u001b[0m                                 Traceback (most recent call last)",
      "\u001b[0;32m<ipython-input-78-1e2d6bfcfc64>\u001b[0m in \u001b[0;36m<module>\u001b[0;34m\u001b[0m\n\u001b[1;32m      1\u001b[0m \u001b[0mjson_list\u001b[0m \u001b[0;34m=\u001b[0m \u001b[0;34m[\u001b[0m\u001b[0mjson\u001b[0m\u001b[0;34m.\u001b[0m\u001b[0mloads\u001b[0m\u001b[0;34m(\u001b[0m\u001b[0mscrap\u001b[0m\u001b[0;34m)\u001b[0m \u001b[0;32mfor\u001b[0m \u001b[0mscrap\u001b[0m \u001b[0;32min\u001b[0m \u001b[0mresults\u001b[0m\u001b[0;34m.\u001b[0m\u001b[0mscraps\u001b[0m\u001b[0;34m]\u001b[0m\u001b[0;34m\u001b[0m\u001b[0;34m\u001b[0m\u001b[0m\n\u001b[0;32m----> 2\u001b[0;31m \u001b[0;34m[\u001b[0m\u001b[0;34m(\u001b[0m\u001b[0mk\u001b[0m\u001b[0;34m,\u001b[0m \u001b[0mv\u001b[0m\u001b[0;34m)\u001b[0m \u001b[0;32mfor\u001b[0m \u001b[0mdict_items\u001b[0m \u001b[0;32min\u001b[0m \u001b[0mson\u001b[0m\u001b[0;34m.\u001b[0m\u001b[0mitems\u001b[0m\u001b[0;34m(\u001b[0m\u001b[0;34m)\u001b[0m \u001b[0;32mfor\u001b[0m \u001b[0mson\u001b[0m \u001b[0;32min\u001b[0m \u001b[0mjson_list\u001b[0m\u001b[0;34m]\u001b[0m\u001b[0;34m\u001b[0m\u001b[0;34m\u001b[0m\u001b[0m\n\u001b[0m",
      "\u001b[0;31mNameError\u001b[0m: name 'son' is not defined"
     ]
    }
   ],
   "source": [
    "[(k, v) for dict_items in son.items() for son in json_list]"
   ]
  },
  {
   "cell_type": "code",
   "execution_count": 73,
   "metadata": {},
   "outputs": [
    {
     "ename": "NameError",
     "evalue": "name 'z' is not defined",
     "output_type": "error",
     "traceback": [
      "\u001b[0;31m---------------------------------------------------------------------------\u001b[0m",
      "\u001b[0;31mNameError\u001b[0m                                 Traceback (most recent call last)",
      "\u001b[0;32m<ipython-input-73-b80bc6e156e6>\u001b[0m in \u001b[0;36m<module>\u001b[0;34m\u001b[0m\n\u001b[0;32m----> 1\u001b[0;31m \u001b[0;34m{\u001b[0m\u001b[0mk\u001b[0m\u001b[0;34m:\u001b[0m \u001b[0mv\u001b[0m \u001b[0;32mfor\u001b[0m \u001b[0;34m(\u001b[0m\u001b[0mk\u001b[0m\u001b[0;34m,\u001b[0m \u001b[0mv\u001b[0m\u001b[0;34m)\u001b[0m \u001b[0;32min\u001b[0m \u001b[0mz\u001b[0m \u001b[0;32mfor\u001b[0m \u001b[0mz\u001b[0m \u001b[0;32min\u001b[0m \u001b[0;34m[\u001b[0m\u001b[0mjson\u001b[0m\u001b[0;34m.\u001b[0m\u001b[0mloads\u001b[0m\u001b[0;34m(\u001b[0m\u001b[0mscrap\u001b[0m\u001b[0;34m)\u001b[0m \u001b[0;32mfor\u001b[0m \u001b[0mscrap\u001b[0m \u001b[0;32min\u001b[0m \u001b[0mresults\u001b[0m\u001b[0;34m.\u001b[0m\u001b[0mscraps\u001b[0m\u001b[0;34m]\u001b[0m\u001b[0;34m}\u001b[0m\u001b[0;34m\u001b[0m\u001b[0;34m\u001b[0m\u001b[0m\n\u001b[0m",
      "\u001b[0;31mNameError\u001b[0m: name 'z' is not defined"
     ]
    }
   ],
   "source": [
    "{k: v for (k, v) in z for z in [json.loads(scrap) for scrap in results.scraps]}"
   ]
  },
  {
   "cell_type": "code",
   "execution_count": 55,
   "metadata": {},
   "outputs": [
    {
     "data": {
      "text/plain": [
       "Scraps([('{\"Results\":{\"Base Output Interval\":\"15MIN\",\"Computation Time Courant Method\":\"Representative Length\\\\/Velocity\",\"Computation Time Step Base\":\"30SEC\",\"Computation Time Step Count To Double\":2,\"Computation Time Step Max Courant\":2.0,\"Computation Time Step Max Doubling\":2,\"Computation Time Step Max Halving\":1,\"Computation Time Step Min Courant\":0.5,\"Flow Filename\":\"DC_F01_NBR.u01\",\"Flow Title\":\"E0004\",\"Geometry Filename\":\"DC_F01_NBR.g01\",\"Geometry Title\":\"D01\",\"Plan Filename\":\"DC_F01_NBR.p01\",\"Plan Name\":\"test_scaling\",\"Plan ShortID\":\"test_scaling\",\"Plan Title\":\"test_scaling\",\"Simulation End Time\":\"05May2000 10:00:0\",\"Simulation Start Time\":\"01May2000 10:00:0\",\"Time Window\":\"01May2000 10:00:00 to 05May2000 10:00:0\"}}',\n",
       "         Scrap(name='{\"Results\":{\"Base Output Interval\":\"15MIN\",\"Computation Time Courant Method\":\"Representative Length\\\\/Velocity\",\"Computation Time Step Base\":\"30SEC\",\"Computation Time Step Count To Double\":2,\"Computation Time Step Max Courant\":2.0,\"Computation Time Step Max Doubling\":2,\"Computation Time Step Max Halving\":1,\"Computation Time Step Min Courant\":0.5,\"Flow Filename\":\"DC_F01_NBR.u01\",\"Flow Title\":\"E0004\",\"Geometry Filename\":\"DC_F01_NBR.g01\",\"Geometry Title\":\"D01\",\"Plan Filename\":\"DC_F01_NBR.p01\",\"Plan Name\":\"test_scaling\",\"Plan ShortID\":\"test_scaling\",\"Plan Title\":\"test_scaling\",\"Simulation End Time\":\"05May2000 10:00:0\",\"Simulation Start Time\":\"01May2000 10:00:0\",\"Time Window\":\"01May2000 10:00:00 to 05May2000 10:00:0\"}}', data='json', encoder='text', display=None)),\n",
       "        ('{\"Results\":{\"1D Cores\":0,\"1D Methodology\":\"Finite Difference\",\"1D2D Flow Tolerance\":0.1000000015,\"1D2D MaxIter\":0,\"1D2D Minimum Flow Tolerance\":1.0,\"1D2D WS Tolerance\":0.0099999998,\"2D Boundary Condition Ramp Up Fraction\":[0.1000000015],\"2D Boundary Condition Volume Check\":[\"False\"],\"2D Cores\":0,\"2D Coriolis\":\"False\",\"2D Eddy Viscosity Transverse Mixing Coefficient\":[3.402823466e+38],\"2D Equation Set\":[\"Dynamic Wave\"],\"2D Initial Conditions Ramp Up Time (hrs)\":[3.402823466e+38],\"2D Latitude for Coriolis\":[3.402823466e+38],\"2D Maximum Iterations\":[20],\"2D Names\":[\"D01\"],\"2D Number of Time Slices\":[1],\"2D Only\":\"True\",\"2D Theta\":[1.0],\"2D Theta Warmup\":[1.0],\"2D Volume Tolerance\":[0.0099999998],\"2D Water Surface Tolerance\":[0.0099999998],\"HDF Chunk Size\":1.0,\"HDF Compression\":1,\"HDF Fixed Rows\":1,\"HDF Flush Buffer\":\"False\",\"HDF Spatial Parts\":1,\"HDF Use Max Rows\":0,\"HDF Write Face Node Velocities\":\"False\",\"HDF Write Time Slices\":\"False\",\"HDF Write Warmup\":\"False\",\"Pardiso Solver\":\"False\"}}',\n",
       "         Scrap(name='{\"Results\":{\"1D Cores\":0,\"1D Methodology\":\"Finite Difference\",\"1D2D Flow Tolerance\":0.1000000015,\"1D2D MaxIter\":0,\"1D2D Minimum Flow Tolerance\":1.0,\"1D2D WS Tolerance\":0.0099999998,\"2D Boundary Condition Ramp Up Fraction\":[0.1000000015],\"2D Boundary Condition Volume Check\":[\"False\"],\"2D Cores\":0,\"2D Coriolis\":\"False\",\"2D Eddy Viscosity Transverse Mixing Coefficient\":[3.402823466e+38],\"2D Equation Set\":[\"Dynamic Wave\"],\"2D Initial Conditions Ramp Up Time (hrs)\":[3.402823466e+38],\"2D Latitude for Coriolis\":[3.402823466e+38],\"2D Maximum Iterations\":[20],\"2D Names\":[\"D01\"],\"2D Number of Time Slices\":[1],\"2D Only\":\"True\",\"2D Theta\":[1.0],\"2D Theta Warmup\":[1.0],\"2D Volume Tolerance\":[0.0099999998],\"2D Water Surface Tolerance\":[0.0099999998],\"HDF Chunk Size\":1.0,\"HDF Compression\":1,\"HDF Fixed Rows\":1,\"HDF Flush Buffer\":\"False\",\"HDF Spatial Parts\":1,\"HDF Use Max Rows\":0,\"HDF Write Face Node Velocities\":\"False\",\"HDF Write Time Slices\":\"False\",\"HDF Write Warmup\":\"False\",\"Pardiso Solver\":\"False\"}}', data='json', encoder='text', display=None)),\n",
       "        ('{\"Results\":{\"Computation Time DSS\":\"00:00:00\",\"Computation Time Total\":\"03:11:15\",\"Maximum WSEL Error\":0.0,\"Run Time Window\":\"15JUL2019 03:58:00 to 15JUL2019 07:09:15\",\"Solution\":\"Unsteady Finished Successfully\",\"Time Solution Went Unstable\":\"00:00:00\",\"Time Stamp Solution Went Unstable\":\"Not Applicable\",\"Vol Accounting\":\"Volume Accounting in Acre Feet\",\"Vol Accounting 2D Bdry\":0.0,\"Vol Accounting Cell End\":99553.8203125,\"Vol Accounting Cell Start\":84515.9453125,\"Vol Accounting DS Outflow\":0.0,\"Vol Accounting Error\":36.8437576294,\"Vol Accounting Error Percentage\":0.0017180609,\"Vol Accounting Groundwater\":0.0,\"Vol Accounting LS, Pump Div\":0.0,\"Vol Accounting Lat Hydro\":0.0,\"Vol Accounting US Inflow\":0.0}}',\n",
       "         Scrap(name='{\"Results\":{\"Computation Time DSS\":\"00:00:00\",\"Computation Time Total\":\"03:11:15\",\"Maximum WSEL Error\":0.0,\"Run Time Window\":\"15JUL2019 03:58:00 to 15JUL2019 07:09:15\",\"Solution\":\"Unsteady Finished Successfully\",\"Time Solution Went Unstable\":\"00:00:00\",\"Time Stamp Solution Went Unstable\":\"Not Applicable\",\"Vol Accounting\":\"Volume Accounting in Acre Feet\",\"Vol Accounting 2D Bdry\":0.0,\"Vol Accounting Cell End\":99553.8203125,\"Vol Accounting Cell Start\":84515.9453125,\"Vol Accounting DS Outflow\":0.0,\"Vol Accounting Error\":36.8437576294,\"Vol Accounting Error Percentage\":0.0017180609,\"Vol Accounting Groundwater\":0.0,\"Vol Accounting LS, Pump Div\":0.0,\"Vol Accounting Lat Hydro\":0.0,\"Vol Accounting US Inflow\":0.0}}', data='json', encoder='text', display=None))])"
      ]
     },
     "execution_count": 55,
     "metadata": {},
     "output_type": "execute_result"
    }
   ],
   "source": [
    "table_dict = {nb: pd.concat([pd.read_json(result) for result in results_json]).T for nb, results_json in scraps.items()}"
   ]
  },
  {
   "cell_type": "markdown",
   "metadata": {},
   "source": [
    "#### Pull scraps"
   ]
  },
  {
   "cell_type": "code",
   "execution_count": 13,
   "metadata": {
    "scrolled": false
   },
   "outputs": [],
   "source": [
    "# Enumerate here to pull it into a dictionary\n",
    "#scraps = {str(i)+\"_\"+nb: list(sb.read_notebook(nb).scraps) for i, nb in enumerate(nbs)}"
   ]
  },
  {
   "cell_type": "code",
   "execution_count": 31,
   "metadata": {},
   "outputs": [],
   "source": [
    "book = sb.read_notebooks(os.path.join(os.getcwd(), \"temp\"))"
   ]
  },
  {
   "cell_type": "code",
   "execution_count": 35,
   "metadata": {},
   "outputs": [],
   "source": [
    "nb = sb.read_notebook(os.path.join(os.getcwd(), \"temp\",  'SB-QAQC-FluvialTest-9.ipynb'))"
   ]
  },
  {
   "cell_type": "code",
   "execution_count": 40,
   "metadata": {},
   "outputs": [
    {
     "data": {
      "text/plain": [
       "odict_keys(['{\"Results\":{\"Base Output Interval\":\"15MIN\",\"Computation Time Courant Method\":\"Representative Length\\\\/Velocity\",\"Computation Time Step Base\":\"30SEC\",\"Computation Time Step Count To Double\":2,\"Computation Time Step Max Courant\":2.0,\"Computation Time Step Max Doubling\":2,\"Computation Time Step Max Halving\":1,\"Computation Time Step Min Courant\":0.5,\"Flow Filename\":\"DC_F01_NBR.u01\",\"Flow Title\":\"E0004\",\"Geometry Filename\":\"DC_F01_NBR.g01\",\"Geometry Title\":\"D01\",\"Plan Filename\":\"DC_F01_NBR.p01\",\"Plan Name\":\"test_scaling\",\"Plan ShortID\":\"test_scaling\",\"Plan Title\":\"test_scaling\",\"Simulation End Time\":\"05May2000 10:00:0\",\"Simulation Start Time\":\"01May2000 10:00:0\",\"Time Window\":\"01May2000 10:00:00 to 05May2000 10:00:0\"}}', '{\"Results\":{\"1D Cores\":0,\"1D Methodology\":\"Finite Difference\",\"1D2D Flow Tolerance\":0.1000000015,\"1D2D MaxIter\":0,\"1D2D Minimum Flow Tolerance\":1.0,\"1D2D WS Tolerance\":0.0099999998,\"2D Boundary Condition Ramp Up Fraction\":[0.1000000015],\"2D Boundary Condition Volume Check\":[\"False\"],\"2D Cores\":0,\"2D Coriolis\":\"False\",\"2D Eddy Viscosity Transverse Mixing Coefficient\":[3.402823466e+38],\"2D Equation Set\":[\"Dynamic Wave\"],\"2D Initial Conditions Ramp Up Time (hrs)\":[3.402823466e+38],\"2D Latitude for Coriolis\":[3.402823466e+38],\"2D Maximum Iterations\":[20],\"2D Names\":[\"D01\"],\"2D Number of Time Slices\":[1],\"2D Only\":\"True\",\"2D Theta\":[1.0],\"2D Theta Warmup\":[1.0],\"2D Volume Tolerance\":[0.0099999998],\"2D Water Surface Tolerance\":[0.0099999998],\"HDF Chunk Size\":1.0,\"HDF Compression\":1,\"HDF Fixed Rows\":1,\"HDF Flush Buffer\":\"False\",\"HDF Spatial Parts\":1,\"HDF Use Max Rows\":0,\"HDF Write Face Node Velocities\":\"False\",\"HDF Write Time Slices\":\"False\",\"HDF Write Warmup\":\"False\",\"Pardiso Solver\":\"False\"}}', '{\"Results\":{\"Computation Time DSS\":\"00:00:00\",\"Computation Time Total\":\"03:11:15\",\"Maximum WSEL Error\":0.0,\"Run Time Window\":\"15JUL2019 03:58:00 to 15JUL2019 07:09:15\",\"Solution\":\"Unsteady Finished Successfully\",\"Time Solution Went Unstable\":\"00:00:00\",\"Time Stamp Solution Went Unstable\":\"Not Applicable\",\"Vol Accounting\":\"Volume Accounting in Acre Feet\",\"Vol Accounting 2D Bdry\":0.0,\"Vol Accounting Cell End\":99553.8203125,\"Vol Accounting Cell Start\":84515.9453125,\"Vol Accounting DS Outflow\":0.0,\"Vol Accounting Error\":36.8437576294,\"Vol Accounting Error Percentage\":0.0017180609,\"Vol Accounting Groundwater\":0.0,\"Vol Accounting LS, Pump Div\":0.0,\"Vol Accounting Lat Hydro\":0.0,\"Vol Accounting US Inflow\":0.0}}'])"
      ]
     },
     "execution_count": 40,
     "metadata": {},
     "output_type": "execute_result"
    }
   ],
   "source": [
    "nb.scraps.keys()"
   ]
  },
  {
   "cell_type": "code",
   "execution_count": null,
   "metadata": {},
   "outputs": [],
   "source": []
  },
  {
   "cell_type": "code",
   "execution_count": null,
   "metadata": {},
   "outputs": [],
   "source": []
  },
  {
   "cell_type": "code",
   "execution_count": 28,
   "metadata": {
    "scrolled": false
   },
   "outputs": [],
   "source": [
    "# Pull results into a dictionary of tables\n",
    "table_dict = {nb: pd.concat([pd.read_json(result) for result in results_json]).T for nb, results_json in scraps.items()}"
   ]
  },
  {
   "cell_type": "code",
   "execution_count": 30,
   "metadata": {},
   "outputs": [
    {
     "data": {
      "text/plain": [
       "dict_keys(['0_SB-QAQC-FluvialTest.ipynb', '1_SB-QAQC-FluvialTest.ipynb', '2_SB-QAQC-FluvialTest.ipynb', '3_SB-QAQC-FluvialTest.ipynb', '4_SB-QAQC-FluvialTest.ipynb', '5_SB-QAQC-FluvialTest.ipynb', '6_SB-QAQC-FluvialTest.ipynb', '7_SB-QAQC-FluvialTest.ipynb', '8_SB-QAQC-FluvialTest.ipynb', '9_SB-QAQC-FluvialTest.ipynb'])"
      ]
     },
     "execution_count": 30,
     "metadata": {},
     "output_type": "execute_result"
    }
   ],
   "source": [
    "table_dict.keys()"
   ]
  },
  {
   "cell_type": "code",
   "execution_count": 15,
   "metadata": {},
   "outputs": [
    {
     "data": {
      "text/html": [
       "<div>\n",
       "<style scoped>\n",
       "    .dataframe tbody tr th:only-of-type {\n",
       "        vertical-align: middle;\n",
       "    }\n",
       "\n",
       "    .dataframe tbody tr th {\n",
       "        vertical-align: top;\n",
       "    }\n",
       "\n",
       "    .dataframe thead th {\n",
       "        text-align: right;\n",
       "    }\n",
       "</style>\n",
       "<table border=\"1\" class=\"dataframe\">\n",
       "  <thead>\n",
       "    <tr style=\"text-align: right;\">\n",
       "      <th></th>\n",
       "      <th>Base Output Interval</th>\n",
       "      <th>Computation Time Courant Method</th>\n",
       "      <th>Computation Time Step Base</th>\n",
       "      <th>Computation Time Step Count To Double</th>\n",
       "      <th>Computation Time Step Max Courant</th>\n",
       "      <th>Computation Time Step Max Doubling</th>\n",
       "      <th>Computation Time Step Max Halving</th>\n",
       "      <th>Computation Time Step Min Courant</th>\n",
       "      <th>Flow Filename</th>\n",
       "      <th>Flow Title</th>\n",
       "      <th>...</th>\n",
       "      <th>Vol Accounting 2D Bdry</th>\n",
       "      <th>Vol Accounting Cell End</th>\n",
       "      <th>Vol Accounting Cell Start</th>\n",
       "      <th>Vol Accounting DS Outflow</th>\n",
       "      <th>Vol Accounting Error</th>\n",
       "      <th>Vol Accounting Error Percentage</th>\n",
       "      <th>Vol Accounting Groundwater</th>\n",
       "      <th>Vol Accounting LS, Pump Div</th>\n",
       "      <th>Vol Accounting Lat Hydro</th>\n",
       "      <th>Vol Accounting US Inflow</th>\n",
       "    </tr>\n",
       "  </thead>\n",
       "  <tbody>\n",
       "    <tr>\n",
       "      <th>Results</th>\n",
       "      <td>15MIN</td>\n",
       "      <td>Representative Length/Velocity</td>\n",
       "      <td>30SEC</td>\n",
       "      <td>2</td>\n",
       "      <td>2</td>\n",
       "      <td>2</td>\n",
       "      <td>1</td>\n",
       "      <td>0.5</td>\n",
       "      <td>DC_F01_NBR.u01</td>\n",
       "      <td>E0004</td>\n",
       "      <td>...</td>\n",
       "      <td>0</td>\n",
       "      <td>99553.8</td>\n",
       "      <td>84515.9</td>\n",
       "      <td>0</td>\n",
       "      <td>36.8438</td>\n",
       "      <td>0.00171806</td>\n",
       "      <td>0</td>\n",
       "      <td>0</td>\n",
       "      <td>0</td>\n",
       "      <td>0</td>\n",
       "    </tr>\n",
       "  </tbody>\n",
       "</table>\n",
       "<p>1 rows × 69 columns</p>\n",
       "</div>"
      ],
      "text/plain": [
       "        Base Output Interval Computation Time Courant Method  \\\n",
       "Results                15MIN  Representative Length/Velocity   \n",
       "\n",
       "        Computation Time Step Base Computation Time Step Count To Double  \\\n",
       "Results                      30SEC                                     2   \n",
       "\n",
       "        Computation Time Step Max Courant Computation Time Step Max Doubling  \\\n",
       "Results                                 2                                  2   \n",
       "\n",
       "        Computation Time Step Max Halving Computation Time Step Min Courant  \\\n",
       "Results                                 1                               0.5   \n",
       "\n",
       "          Flow Filename Flow Title  ... Vol Accounting 2D Bdry  \\\n",
       "Results  DC_F01_NBR.u01      E0004  ...                      0   \n",
       "\n",
       "        Vol Accounting Cell End Vol Accounting Cell Start  \\\n",
       "Results                 99553.8                   84515.9   \n",
       "\n",
       "        Vol Accounting DS Outflow Vol Accounting Error  \\\n",
       "Results                         0              36.8438   \n",
       "\n",
       "        Vol Accounting Error Percentage Vol Accounting Groundwater  \\\n",
       "Results                      0.00171806                          0   \n",
       "\n",
       "        Vol Accounting LS, Pump Div Vol Accounting Lat Hydro  \\\n",
       "Results                           0                        0   \n",
       "\n",
       "        Vol Accounting US Inflow  \n",
       "Results                        0  \n",
       "\n",
       "[1 rows x 69 columns]"
      ]
     },
     "execution_count": 15,
     "metadata": {},
     "output_type": "execute_result"
    }
   ],
   "source": [
    "# Sample results\n",
    "sample_nb_results = table_dict['0_SB-QAQC-FluvialTest.ipynb']\n",
    "sample_nb_results"
   ]
  },
  {
   "cell_type": "code",
   "execution_count": 16,
   "metadata": {},
   "outputs": [
    {
     "data": {
      "text/plain": [
       "Index(['Base Output Interval', 'Computation Time Courant Method',\n",
       "       'Computation Time Step Base', 'Computation Time Step Count To Double',\n",
       "       'Computation Time Step Max Courant',\n",
       "       'Computation Time Step Max Doubling',\n",
       "       'Computation Time Step Max Halving',\n",
       "       'Computation Time Step Min Courant', 'Flow Filename', 'Flow Title',\n",
       "       'Geometry Filename', 'Geometry Title', 'Plan Filename', 'Plan Name',\n",
       "       'Plan ShortID', 'Plan Title', 'Simulation End Time',\n",
       "       'Simulation Start Time', 'Time Window', '1D Cores', '1D Methodology',\n",
       "       '1D2D Flow Tolerance', '1D2D MaxIter', '1D2D Minimum Flow Tolerance',\n",
       "       '1D2D WS Tolerance', '2D Boundary Condition Ramp Up Fraction',\n",
       "       '2D Boundary Condition Volume Check', '2D Cores', '2D Coriolis',\n",
       "       '2D Eddy Viscosity Transverse Mixing Coefficient', '2D Equation Set',\n",
       "       '2D Initial Conditions Ramp Up Time (hrs)', '2D Latitude for Coriolis',\n",
       "       '2D Maximum Iterations', '2D Names', '2D Number of Time Slices',\n",
       "       '2D Only', '2D Theta', '2D Theta Warmup', '2D Volume Tolerance',\n",
       "       '2D Water Surface Tolerance', 'HDF Chunk Size', 'HDF Compression',\n",
       "       'HDF Fixed Rows', 'HDF Flush Buffer', 'HDF Spatial Parts',\n",
       "       'HDF Use Max Rows', 'HDF Write Face Node Velocities',\n",
       "       'HDF Write Time Slices', 'HDF Write Warmup', 'Pardiso Solver',\n",
       "       'Computation Time DSS', 'Computation Time Total', 'Maximum WSEL Error',\n",
       "       'Run Time Window', 'Solution', 'Time Solution Went Unstable',\n",
       "       'Time Stamp Solution Went Unstable', 'Vol Accounting',\n",
       "       'Vol Accounting 2D Bdry', 'Vol Accounting Cell End',\n",
       "       'Vol Accounting Cell Start', 'Vol Accounting DS Outflow',\n",
       "       'Vol Accounting Error', 'Vol Accounting Error Percentage',\n",
       "       'Vol Accounting Groundwater', 'Vol Accounting LS, Pump Div',\n",
       "       'Vol Accounting Lat Hydro', 'Vol Accounting US Inflow'],\n",
       "      dtype='object')"
      ]
     },
     "execution_count": 16,
     "metadata": {},
     "output_type": "execute_result"
    }
   ],
   "source": [
    "sample_nb_results.columns"
   ]
  },
  {
   "cell_type": "code",
   "execution_count": 17,
   "metadata": {},
   "outputs": [],
   "source": [
    "#-#-#-#-#-#-#-#-#-#-#-#-#-#-#-#-#-#-#-#-#-#-#-#-#-#-#-#-#-#-#-#-#-#-#-#-#-#-\n",
    "class QAQCResults:\n",
    "    \"\"\"\n",
    "    Evaluates a results table.\n",
    "    \"\"\"\n",
    "    \n",
    "    def __init__(self, nb, results):\n",
    "        self.__name = nb\n",
    "        self.__results_table = results\n",
    "        self._log=[]\n",
    "        \n",
    "        # Property functions\n",
    "        def create_log_name(nb:str) -> str:\n",
    "            \"\"\"Creates a log file name from an input notebook\"\"\"\n",
    "            return \"\".join([nb.split('.')[0], \"_log\", \".txt\"])\n",
    "        \n",
    "        def evaluate_vol_err(result_table, max_err):\n",
    "            err_result = result_table['Vol Accounting Error'][0]\n",
    "            if err_result > max_err:\n",
    "                msg = \"WARNING: Volume accounting error exceeded with value of {}\\n\".format(err_result)\n",
    "                return msg\n",
    "            else:\n",
    "                return 'No Volume Errors'\n",
    "\n",
    "        self._log_name = create_log_name(self.__name)\n",
    "        \n",
    "        # Begin log\n",
    "        log(self.__log_dir, self._log_name, start=True)\n",
    "        \n",
    "        self._log.append(evaluate_vol_err(self.__results_table, 30)\n",
    "        \n",
    "        # End log\n",
    "#         log(self.__log_dir, self._log_name, end=True)\n",
    "        \n",
    "#-#-#-#-#-#-#-#-#-#-#-#-#-#-#-#-#-#-#-#-#-#-#-#-#-#-#-#-#-#-#-#-#-#-#-#-#-#-\n",
    "    # Object properties\n",
    "    @property\n",
    "    def log_name(self):\n",
    "        \"\"\"Output log file name\"\"\"\n",
    "        return self._log_name\n",
    "    \n",
    "    @property\n",
    "    def volume_accounting_error(self):\n",
    "        \"\"\"Evaluates if the volume accounting error is above a threshold\"\"\"\n",
    "        return self._vol_err\n",
    "#-#-#-#-#-#-#-#-#-#-#-#-#-#-#-#-#-#-#-#-#-#-#-#-#-#-#-#-#-#-#-#-#-#-#-#-#-#-\n",
    "#     # Additional functions\n",
    "#     def vol_acc_start_end(result_table:pd.core.frame.DataFrame):\n",
    "#         start = result_table['Vol Accounting Cell Start'][0]\n",
    "#         end = result_table['Vol Accounting Cell End'][0]\n",
    "#         if end > start:\n",
    "#             print(\"WARNING: End value greater than start value\")\n",
    "\n",
    "#     def vol_err(result_table:pd.core.frame.DataFrame, max_err:float):\n",
    "#         err_result = result_table['Vol Accounting Error'][0]\n",
    "#         if err_result > max_err:\n",
    "#             print(\"WARNING: Volume accounting error exceeded \"+\n",
    "#                   \"with value of {}\".format(err_result))\n",
    "\n",
    "#     def vol_err_pct(result_table:pd.core.frame.DataFrame, max_err_pct:float):\n",
    "#         err_pct_result = result_table['Vol Accounting Error Percentage'][0]\n",
    "#         if err_pct_result > max_err_pct:\n",
    "#             print(\"WARNING: Volume accounting error percentage exceeded \"+\n",
    "#                   \"with value of {}\".format(err_result))"
   ]
  },
  {
   "cell_type": "code",
   "execution_count": 18,
   "metadata": {},
   "outputs": [],
   "source": [
    "nb = '0_SB-QAQC-FluvialTest.ipynb'\n",
    "result = table_dict[nb]\n",
    "result = QAQCResults(nb, result)"
   ]
  },
  {
   "cell_type": "code",
   "execution_count": 54,
   "metadata": {},
   "outputs": [
    {
     "data": {
      "text/plain": [
       "'WARNING: Volume accounting error exceeded with value of 36.8437576294'"
      ]
     },
     "execution_count": 54,
     "metadata": {},
     "output_type": "execute_result"
    }
   ],
   "source": [
    "result.volume_accounting_error"
   ]
  },
  {
   "cell_type": "code",
   "execution_count": 29,
   "metadata": {},
   "outputs": [
    {
     "name": "stdout",
     "output_type": "stream",
     "text": [
      "WARNING: Volume accounting error exceeded with value of 36.8437576294\n"
     ]
    }
   ],
   "source": [
    "vol_err(sample_nb_results, 30)"
   ]
  },
  {
   "cell_type": "code",
   "execution_count": 37,
   "metadata": {},
   "outputs": [
    {
     "data": {
      "text/plain": [
       "['0_SB-QAQC-FluvialTest', 'ipynb']"
      ]
     },
     "execution_count": 37,
     "metadata": {},
     "output_type": "execute_result"
    }
   ],
   "source": [
    "'0_SB-QAQC-FluvialTest.ipynb'.split('.')"
   ]
  },
  {
   "cell_type": "code",
   "execution_count": 38,
   "metadata": {},
   "outputs": [
    {
     "data": {
      "text/plain": [
       "'0_SB-QAQC-FluvialTest_log.txt'"
      ]
     },
     "execution_count": 38,
     "metadata": {},
     "output_type": "execute_result"
    }
   ],
   "source": [
    "sample_nb = ''.join(['0_SB-QAQC-FluvialTest.ipynb'.split('.')[0],\"_log\",\".txt\"])"
   ]
  },
  {
   "cell_type": "code",
   "execution_count": 40,
   "metadata": {},
   "outputs": [],
   "source": [
    "def create_log_name(nb:str) -> str:\n",
    "    \"\"\"Creates a log file name from an input notebook\"\"\"\n",
    "    return \"\".join([nb.split('.')[0], \"_log\", \".txt\"])\n",
    "    \n",
    "    \n",
    "sample_nb = '0_SB-QAQC-FluvialTest.ipynb'\n",
    "log_file = create_log_name(sample_nb)"
   ]
  },
  {
   "cell_type": "code",
   "execution_count": 41,
   "metadata": {},
   "outputs": [
    {
     "data": {
      "text/plain": [
       "'0_SB-QAQC-FluvialTest_log.txt'"
      ]
     },
     "execution_count": 41,
     "metadata": {},
     "output_type": "execute_result"
    }
   ],
   "source": [
    "log_file"
   ]
  },
  {
   "cell_type": "code",
   "execution_count": 42,
   "metadata": {},
   "outputs": [],
   "source": [
    "log(\"./\", log_file)"
   ]
  },
  {
   "cell_type": "code",
   "execution_count": 43,
   "metadata": {},
   "outputs": [],
   "source": [
    "in_dir = \"./\"\n",
    "file_name = log_file\n",
    "\n",
    "try:\n",
    "    1/0 # Causes intentional exception\n",
    "    log(in_dir, file_name, in_text= \"Op2 - Succeeded\")\n",
    "except Exception as e:\n",
    "    log(in_dir, file_name, in_text= \"Op2 - Failed\", exception=e)\n",
    "log(in_dir, file_name, end=True)"
   ]
  },
  {
   "cell_type": "code",
   "execution_count": 33,
   "metadata": {},
   "outputs": [
    {
     "name": "stdout",
     "output_type": "stream",
     "text": [
      "Help on function log in module hecrasio.logger:\n",
      "\n",
      "log(in_dir, file_name, in_text=None, start=None, end=None, exception=None)\n",
      "    Required modules: os, time\n",
      "    \n",
      "    This function notates a text file based on arguments passed. \n",
      "    This function is intended for documentation and debugging.\n",
      "    \n",
      "    Positional arguments-\n",
      "        in_dir: Document path for text file (String)\n",
      "        file_name: Text file to create or appended to (String)\n",
      "    \n",
      "    Optional arguments-\n",
      "        in_text: Line to write into text file (String)\n",
      "        start: Tells func to write opening line (boolean)\n",
      "        end: Tells func to write closing line (boolean)\n",
      "        exception: Pass an exception to log the message (Exception)\n",
      "    \n",
      "    General usage:\n",
      "    Set static vaiables for [in_directory](s) and [file_name](s)\n",
      "    and feed in string values thru [in_text] that will give \n",
      "    you insightful feedback on your code (i.e. \n",
      "    arcpy.GetMessages() string as a variable).\n",
      "    This function can also be used to create README files by passing \n",
      "    in block text. This func always logs at the end of the specified \n",
      "    file, and can be used to keep records of multiple runs.\n",
      "    \n",
      "    Try Me:\n",
      "    \n",
      "    log(in_dir, file_name, start=True)\n",
      "    # Operation 1\n",
      "    for i in range(24):\n",
      "        msg = \"Op1 - {} of 24 complete\".format(str(i+1))\n",
      "        log(in_dir, file_name, in_text= msg)\n",
      "    # Operation 2\n",
      "    try:\n",
      "        1/0 # Causes intentional exception\n",
      "        log(in_dir, file_name, in_text= \"Op2 - Succeeded\")\n",
      "    except Exception as e:\n",
      "        log(in_dir, file_name, in_text= \"Op2 - Failed\", exception= e)\n",
      "    log(in_dir, file_name, end=True)\n",
      "\n"
     ]
    }
   ],
   "source": [
    "help(log)"
   ]
  },
  {
   "cell_type": "markdown",
   "metadata": {},
   "source": [
    "# END"
   ]
  }
 ],
 "metadata": {
  "kernel_info": {
   "name": "geos"
  },
  "kernelspec": {
   "display_name": "Python 3",
   "language": "python",
   "name": "python3"
  },
  "language_info": {
   "codemirror_mode": {
    "name": "ipython",
    "version": 3
   },
   "file_extension": ".py",
   "mimetype": "text/x-python",
   "name": "python",
   "nbconvert_exporter": "python",
   "pygments_lexer": "ipython3",
   "version": "3.6.8"
  },
  "nteract": {
   "version": "0.14.4"
  },
  "pycharm": {
   "stem_cell": {
    "cell_type": "raw",
    "metadata": {
     "collapsed": false
    },
    "source": []
   }
  }
 },
 "nbformat": 4,
 "nbformat_minor": 4
}
