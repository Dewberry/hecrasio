{
 "cells": [
  {
   "cell_type": "markdown",
   "metadata": {},
   "source": [
    "# PFRA \n",
    "\n",
    "### _Development Notebook_\n",
    "--- \n",
    "\n",
    "Tests using scrapbook"
   ]
  },
  {
   "cell_type": "code",
   "execution_count": 1,
   "metadata": {
    "ExecuteTime": {
     "end_time": "2019-08-09T20:09:20.766253Z",
     "start_time": "2019-08-09T20:09:20.763213Z"
    }
   },
   "outputs": [],
   "source": [
    "import sys;sys.path.append('../')"
   ]
  },
  {
   "cell_type": "code",
   "execution_count": 2,
   "metadata": {
    "ExecuteTime": {
     "end_time": "2019-08-09T20:09:22.513097Z",
     "start_time": "2019-08-09T20:09:20.768258Z"
    },
    "pycharm": {
     "is_executing": false
    }
   },
   "outputs": [],
   "source": [
    "from hecrasio.core import *\n",
    "from hecrasio.qaqc import *\n",
    "import scrapbook as sb\n",
    "import pandas as pd\n",
    "import json\n",
    "import shutil\n",
    "from collections import ChainMap"
   ]
  },
  {
   "cell_type": "code",
   "execution_count": 3,
   "metadata": {},
   "outputs": [],
   "source": [
    "# Make copies of example_nb\n",
    "example_nb = \"SB-QAQC-FluvialTest.ipynb\"\n",
    "for i in range(10):\n",
    "    shutil.copy(example_nb , os.path.join(os.getcwd(), \"temp\", \"SB-QAQC-FluvialTest-{}.ipynb\".format(i) ))"
   ]
  },
  {
   "cell_type": "code",
   "execution_count": 4,
   "metadata": {
    "ExecuteTime": {
     "end_time": "2019-08-09T20:09:42.027053Z",
     "start_time": "2019-08-09T20:09:22.514130Z"
    },
    "pycharm": {
     "is_executing": false
    }
   },
   "outputs": [],
   "source": [
    "# Create a large list of notebooks\n",
    "nbs = os.listdir(os.path.join(os.getcwd(), \"temp\"))"
   ]
  },
  {
   "cell_type": "code",
   "execution_count": 5,
   "metadata": {},
   "outputs": [],
   "source": [
    "# Read many notebooks\n",
    "book = sb.read_notebooks(os.path.join(os.getcwd(), \"temp\"))"
   ]
  },
  {
   "cell_type": "code",
   "execution_count": 6,
   "metadata": {},
   "outputs": [],
   "source": [
    "# Create a unified results dictionary\n",
    "results_dict = {}\n",
    "for tup in list(book.items()):\n",
    "    nb, results = tup\n",
    "    result_dict = dict(ChainMap(*[list(json.loads(scrap).values())[0] for scrap in results.scraps]))\n",
    "    results_dict[nb] = result_dict"
   ]
  },
  {
   "cell_type": "code",
   "execution_count": 7,
   "metadata": {},
   "outputs": [
    {
     "data": {
      "text/html": [
       "<div>\n",
       "<style scoped>\n",
       "    .dataframe tbody tr th:only-of-type {\n",
       "        vertical-align: middle;\n",
       "    }\n",
       "\n",
       "    .dataframe tbody tr th {\n",
       "        vertical-align: top;\n",
       "    }\n",
       "\n",
       "    .dataframe thead th {\n",
       "        text-align: right;\n",
       "    }\n",
       "</style>\n",
       "<table border=\"1\" class=\"dataframe\">\n",
       "  <thead>\n",
       "    <tr style=\"text-align: right;\">\n",
       "      <th></th>\n",
       "      <th>1D Cores</th>\n",
       "      <th>1D Methodology</th>\n",
       "      <th>1D2D Flow Tolerance</th>\n",
       "      <th>1D2D MaxIter</th>\n",
       "      <th>1D2D Minimum Flow Tolerance</th>\n",
       "      <th>1D2D WS Tolerance</th>\n",
       "      <th>2D Boundary Condition Ramp Up Fraction</th>\n",
       "      <th>2D Boundary Condition Volume Check</th>\n",
       "      <th>2D Cores</th>\n",
       "      <th>2D Coriolis</th>\n",
       "      <th>...</th>\n",
       "      <th>Vol Accounting 2D Bdry</th>\n",
       "      <th>Vol Accounting Cell End</th>\n",
       "      <th>Vol Accounting Cell Start</th>\n",
       "      <th>Vol Accounting DS Outflow</th>\n",
       "      <th>Vol Accounting Error</th>\n",
       "      <th>Vol Accounting Error Percentage</th>\n",
       "      <th>Vol Accounting Groundwater</th>\n",
       "      <th>Vol Accounting LS, Pump Div</th>\n",
       "      <th>Vol Accounting Lat Hydro</th>\n",
       "      <th>Vol Accounting US Inflow</th>\n",
       "    </tr>\n",
       "  </thead>\n",
       "  <tbody>\n",
       "    <tr>\n",
       "      <th>SB-QAQC-FluvialTest-0</th>\n",
       "      <td>0</td>\n",
       "      <td>Finite Difference</td>\n",
       "      <td>0.1</td>\n",
       "      <td>0</td>\n",
       "      <td>1</td>\n",
       "      <td>0.01</td>\n",
       "      <td>[0.1000000015]</td>\n",
       "      <td>[False]</td>\n",
       "      <td>0</td>\n",
       "      <td>False</td>\n",
       "      <td>...</td>\n",
       "      <td>0</td>\n",
       "      <td>99553.8</td>\n",
       "      <td>84515.9</td>\n",
       "      <td>0</td>\n",
       "      <td>36.8438</td>\n",
       "      <td>0.00171806</td>\n",
       "      <td>0</td>\n",
       "      <td>0</td>\n",
       "      <td>0</td>\n",
       "      <td>0</td>\n",
       "    </tr>\n",
       "    <tr>\n",
       "      <th>SB-QAQC-FluvialTest-1</th>\n",
       "      <td>0</td>\n",
       "      <td>Finite Difference</td>\n",
       "      <td>0.1</td>\n",
       "      <td>0</td>\n",
       "      <td>1</td>\n",
       "      <td>0.01</td>\n",
       "      <td>[0.1000000015]</td>\n",
       "      <td>[False]</td>\n",
       "      <td>0</td>\n",
       "      <td>False</td>\n",
       "      <td>...</td>\n",
       "      <td>0</td>\n",
       "      <td>99553.8</td>\n",
       "      <td>84515.9</td>\n",
       "      <td>0</td>\n",
       "      <td>36.8438</td>\n",
       "      <td>0.00171806</td>\n",
       "      <td>0</td>\n",
       "      <td>0</td>\n",
       "      <td>0</td>\n",
       "      <td>0</td>\n",
       "    </tr>\n",
       "    <tr>\n",
       "      <th>SB-QAQC-FluvialTest-2</th>\n",
       "      <td>0</td>\n",
       "      <td>Finite Difference</td>\n",
       "      <td>0.1</td>\n",
       "      <td>0</td>\n",
       "      <td>1</td>\n",
       "      <td>0.01</td>\n",
       "      <td>[0.1000000015]</td>\n",
       "      <td>[False]</td>\n",
       "      <td>0</td>\n",
       "      <td>False</td>\n",
       "      <td>...</td>\n",
       "      <td>0</td>\n",
       "      <td>99553.8</td>\n",
       "      <td>84515.9</td>\n",
       "      <td>0</td>\n",
       "      <td>36.8438</td>\n",
       "      <td>0.00171806</td>\n",
       "      <td>0</td>\n",
       "      <td>0</td>\n",
       "      <td>0</td>\n",
       "      <td>0</td>\n",
       "    </tr>\n",
       "  </tbody>\n",
       "</table>\n",
       "<p>3 rows × 69 columns</p>\n",
       "</div>"
      ],
      "text/plain": [
       "                      1D Cores     1D Methodology 1D2D Flow Tolerance  \\\n",
       "SB-QAQC-FluvialTest-0        0  Finite Difference                 0.1   \n",
       "SB-QAQC-FluvialTest-1        0  Finite Difference                 0.1   \n",
       "SB-QAQC-FluvialTest-2        0  Finite Difference                 0.1   \n",
       "\n",
       "                      1D2D MaxIter 1D2D Minimum Flow Tolerance  \\\n",
       "SB-QAQC-FluvialTest-0            0                           1   \n",
       "SB-QAQC-FluvialTest-1            0                           1   \n",
       "SB-QAQC-FluvialTest-2            0                           1   \n",
       "\n",
       "                      1D2D WS Tolerance  \\\n",
       "SB-QAQC-FluvialTest-0              0.01   \n",
       "SB-QAQC-FluvialTest-1              0.01   \n",
       "SB-QAQC-FluvialTest-2              0.01   \n",
       "\n",
       "                      2D Boundary Condition Ramp Up Fraction  \\\n",
       "SB-QAQC-FluvialTest-0                         [0.1000000015]   \n",
       "SB-QAQC-FluvialTest-1                         [0.1000000015]   \n",
       "SB-QAQC-FluvialTest-2                         [0.1000000015]   \n",
       "\n",
       "                      2D Boundary Condition Volume Check 2D Cores 2D Coriolis  \\\n",
       "SB-QAQC-FluvialTest-0                            [False]        0       False   \n",
       "SB-QAQC-FluvialTest-1                            [False]        0       False   \n",
       "SB-QAQC-FluvialTest-2                            [False]        0       False   \n",
       "\n",
       "                       ... Vol Accounting 2D Bdry Vol Accounting Cell End  \\\n",
       "SB-QAQC-FluvialTest-0  ...                      0                 99553.8   \n",
       "SB-QAQC-FluvialTest-1  ...                      0                 99553.8   \n",
       "SB-QAQC-FluvialTest-2  ...                      0                 99553.8   \n",
       "\n",
       "                      Vol Accounting Cell Start Vol Accounting DS Outflow  \\\n",
       "SB-QAQC-FluvialTest-0                   84515.9                         0   \n",
       "SB-QAQC-FluvialTest-1                   84515.9                         0   \n",
       "SB-QAQC-FluvialTest-2                   84515.9                         0   \n",
       "\n",
       "                      Vol Accounting Error Vol Accounting Error Percentage  \\\n",
       "SB-QAQC-FluvialTest-0              36.8438                      0.00171806   \n",
       "SB-QAQC-FluvialTest-1              36.8438                      0.00171806   \n",
       "SB-QAQC-FluvialTest-2              36.8438                      0.00171806   \n",
       "\n",
       "                      Vol Accounting Groundwater Vol Accounting LS, Pump Div  \\\n",
       "SB-QAQC-FluvialTest-0                          0                           0   \n",
       "SB-QAQC-FluvialTest-1                          0                           0   \n",
       "SB-QAQC-FluvialTest-2                          0                           0   \n",
       "\n",
       "                      Vol Accounting Lat Hydro Vol Accounting US Inflow  \n",
       "SB-QAQC-FluvialTest-0                        0                        0  \n",
       "SB-QAQC-FluvialTest-1                        0                        0  \n",
       "SB-QAQC-FluvialTest-2                        0                        0  \n",
       "\n",
       "[3 rows x 69 columns]"
      ]
     },
     "execution_count": 7,
     "metadata": {},
     "output_type": "execute_result"
    }
   ],
   "source": [
    "# Pull results into a large review table\n",
    "results_table = pd.DataFrame.from_dict(results_dict).T\n",
    "results_table.head(3)"
   ]
  },
  {
   "cell_type": "code",
   "execution_count": 8,
   "metadata": {},
   "outputs": [
    {
     "data": {
      "text/html": [
       "<div>\n",
       "<style scoped>\n",
       "    .dataframe tbody tr th:only-of-type {\n",
       "        vertical-align: middle;\n",
       "    }\n",
       "\n",
       "    .dataframe tbody tr th {\n",
       "        vertical-align: top;\n",
       "    }\n",
       "\n",
       "    .dataframe thead th {\n",
       "        text-align: right;\n",
       "    }\n",
       "</style>\n",
       "<table border=\"1\" class=\"dataframe\">\n",
       "  <thead>\n",
       "    <tr style=\"text-align: right;\">\n",
       "      <th></th>\n",
       "      <th>Unique_Values</th>\n",
       "      <th>Warnings</th>\n",
       "      <th>Offending_Nbs</th>\n",
       "    </tr>\n",
       "    <tr>\n",
       "      <th>Result_Attribute</th>\n",
       "      <th></th>\n",
       "      <th></th>\n",
       "      <th></th>\n",
       "    </tr>\n",
       "  </thead>\n",
       "  <tbody>\n",
       "    <tr>\n",
       "      <th>1D Cores</th>\n",
       "      <td>NaN</td>\n",
       "      <td>NaN</td>\n",
       "      <td>NaN</td>\n",
       "    </tr>\n",
       "    <tr>\n",
       "      <th>1D Methodology</th>\n",
       "      <td>NaN</td>\n",
       "      <td>NaN</td>\n",
       "      <td>NaN</td>\n",
       "    </tr>\n",
       "    <tr>\n",
       "      <th>1D2D Flow Tolerance</th>\n",
       "      <td>NaN</td>\n",
       "      <td>NaN</td>\n",
       "      <td>NaN</td>\n",
       "    </tr>\n",
       "    <tr>\n",
       "      <th>1D2D MaxIter</th>\n",
       "      <td>NaN</td>\n",
       "      <td>NaN</td>\n",
       "      <td>NaN</td>\n",
       "    </tr>\n",
       "    <tr>\n",
       "      <th>1D2D Minimum Flow Tolerance</th>\n",
       "      <td>NaN</td>\n",
       "      <td>NaN</td>\n",
       "      <td>NaN</td>\n",
       "    </tr>\n",
       "  </tbody>\n",
       "</table>\n",
       "</div>"
      ],
      "text/plain": [
       "                            Unique_Values Warnings Offending_Nbs\n",
       "Result_Attribute                                                \n",
       "1D Cores                              NaN      NaN           NaN\n",
       "1D Methodology                        NaN      NaN           NaN\n",
       "1D2D Flow Tolerance                   NaN      NaN           NaN\n",
       "1D2D MaxIter                          NaN      NaN           NaN\n",
       "1D2D Minimum Flow Tolerance           NaN      NaN           NaN"
      ]
     },
     "execution_count": 8,
     "metadata": {},
     "output_type": "execute_result"
    }
   ],
   "source": [
    "# Create a summary table\n",
    "df = pd.DataFrame(columns=['Unique_Values', 'Warnings', 'Offending_Nbs'])\n",
    "df['Result_Attribute'] = pd.Index(list(results_table.columns))\n",
    "df.set_index('Result_Attribute', drop=True, inplace=True)\n",
    "df.head(5)"
   ]
  },
  {
   "cell_type": "code",
   "execution_count": 9,
   "metadata": {},
   "outputs": [
    {
     "data": {
      "text/html": [
       "<div>\n",
       "<style scoped>\n",
       "    .dataframe tbody tr th:only-of-type {\n",
       "        vertical-align: middle;\n",
       "    }\n",
       "\n",
       "    .dataframe tbody tr th {\n",
       "        vertical-align: top;\n",
       "    }\n",
       "\n",
       "    .dataframe thead th {\n",
       "        text-align: right;\n",
       "    }\n",
       "</style>\n",
       "<table border=\"1\" class=\"dataframe\">\n",
       "  <thead>\n",
       "    <tr style=\"text-align: right;\">\n",
       "      <th></th>\n",
       "      <th>Unique_Values</th>\n",
       "      <th>Warnings</th>\n",
       "      <th>Offending_Nbs</th>\n",
       "    </tr>\n",
       "    <tr>\n",
       "      <th>Result_Attribute</th>\n",
       "      <th></th>\n",
       "      <th></th>\n",
       "      <th></th>\n",
       "    </tr>\n",
       "  </thead>\n",
       "  <tbody>\n",
       "    <tr>\n",
       "      <th>1D Cores</th>\n",
       "      <td>[0]</td>\n",
       "      <td>NaN</td>\n",
       "      <td>NaN</td>\n",
       "    </tr>\n",
       "    <tr>\n",
       "      <th>1D Methodology</th>\n",
       "      <td>[Finite Difference]</td>\n",
       "      <td>NaN</td>\n",
       "      <td>NaN</td>\n",
       "    </tr>\n",
       "    <tr>\n",
       "      <th>1D2D Flow Tolerance</th>\n",
       "      <td>[0.1000000015]</td>\n",
       "      <td>NaN</td>\n",
       "      <td>NaN</td>\n",
       "    </tr>\n",
       "    <tr>\n",
       "      <th>1D2D MaxIter</th>\n",
       "      <td>[0]</td>\n",
       "      <td>NaN</td>\n",
       "      <td>NaN</td>\n",
       "    </tr>\n",
       "    <tr>\n",
       "      <th>1D2D Minimum Flow Tolerance</th>\n",
       "      <td>[1.0]</td>\n",
       "      <td>NaN</td>\n",
       "      <td>NaN</td>\n",
       "    </tr>\n",
       "  </tbody>\n",
       "</table>\n",
       "</div>"
      ],
      "text/plain": [
       "                                   Unique_Values Warnings Offending_Nbs\n",
       "Result_Attribute                                                       \n",
       "1D Cores                                     [0]      NaN           NaN\n",
       "1D Methodology               [Finite Difference]      NaN           NaN\n",
       "1D2D Flow Tolerance               [0.1000000015]      NaN           NaN\n",
       "1D2D MaxIter                                 [0]      NaN           NaN\n",
       "1D2D Minimum Flow Tolerance                [1.0]      NaN           NaN"
      ]
     },
     "execution_count": 9,
     "metadata": {},
     "output_type": "execute_result"
    }
   ],
   "source": [
    "df_w_uniques = identify_unique_values(df, results_table)\n",
    "df_w_uniques.head(5)"
   ]
  },
  {
   "cell_type": "code",
   "execution_count": 10,
   "metadata": {},
   "outputs": [
    {
     "data": {
      "text/html": [
       "<div>\n",
       "<style scoped>\n",
       "    .dataframe tbody tr th:only-of-type {\n",
       "        vertical-align: middle;\n",
       "    }\n",
       "\n",
       "    .dataframe tbody tr th {\n",
       "        vertical-align: top;\n",
       "    }\n",
       "\n",
       "    .dataframe thead th {\n",
       "        text-align: right;\n",
       "    }\n",
       "</style>\n",
       "<table border=\"1\" class=\"dataframe\">\n",
       "  <thead>\n",
       "    <tr style=\"text-align: right;\">\n",
       "      <th></th>\n",
       "      <th>Unique_Values</th>\n",
       "      <th>Warnings</th>\n",
       "      <th>Offending_Nbs</th>\n",
       "    </tr>\n",
       "    <tr>\n",
       "      <th>Result_Attribute</th>\n",
       "      <th></th>\n",
       "      <th></th>\n",
       "      <th></th>\n",
       "    </tr>\n",
       "  </thead>\n",
       "  <tbody>\n",
       "    <tr>\n",
       "      <th>1D Cores</th>\n",
       "      <td>[0]</td>\n",
       "      <td>PASS</td>\n",
       "      <td>[]</td>\n",
       "    </tr>\n",
       "    <tr>\n",
       "      <th>1D Methodology</th>\n",
       "      <td>[Finite Difference]</td>\n",
       "      <td>NaN</td>\n",
       "      <td>NaN</td>\n",
       "    </tr>\n",
       "    <tr>\n",
       "      <th>1D2D Flow Tolerance</th>\n",
       "      <td>[0.1000000015]</td>\n",
       "      <td>NaN</td>\n",
       "      <td>NaN</td>\n",
       "    </tr>\n",
       "    <tr>\n",
       "      <th>1D2D MaxIter</th>\n",
       "      <td>[0]</td>\n",
       "      <td>NaN</td>\n",
       "      <td>NaN</td>\n",
       "    </tr>\n",
       "    <tr>\n",
       "      <th>1D2D Minimum Flow Tolerance</th>\n",
       "      <td>[1.0]</td>\n",
       "      <td>NaN</td>\n",
       "      <td>NaN</td>\n",
       "    </tr>\n",
       "  </tbody>\n",
       "</table>\n",
       "</div>"
      ],
      "text/plain": [
       "                                   Unique_Values Warnings Offending_Nbs\n",
       "Result_Attribute                                                       \n",
       "1D Cores                                     [0]     PASS            []\n",
       "1D Methodology               [Finite Difference]      NaN           NaN\n",
       "1D2D Flow Tolerance               [0.1000000015]      NaN           NaN\n",
       "1D2D MaxIter                                 [0]      NaN           NaN\n",
       "1D2D Minimum Flow Tolerance                [1.0]      NaN           NaN"
      ]
     },
     "execution_count": 10,
     "metadata": {},
     "output_type": "execute_result"
    }
   ],
   "source": [
    "# Example warnings\n",
    "\n",
    "for i in df_w_uniques.index:\n",
    "    values = df_w_uniques.loc[i][0]\n",
    "    if i == '1D Cores':\n",
    "        validate_by_threshold(df_w_uniques, i, values, 0, results_table)\n",
    "    elif i == 'Vol Accounting Error':\n",
    "        validate_by_threshold(df_w_uniques, i, values, 30, results_table)\n",
    "    elif i == 'Vol Accounting Error Percentage':\n",
    "        validate_by_threshold(df_w_uniques, i, values, 0.001, results_table)\n",
    "\n",
    "df_w_uniques.head(5)"
   ]
  },
  {
   "cell_type": "markdown",
   "metadata": {},
   "source": [
    "### Possible evaluations\n",
    "- Check output interval is the desired amount\n",
    "- Check if solution populated with anything other than 'Unstead Finished Successfully'\n",
    "- Check flow, geometry, and plan filenames have the same base"
   ]
  },
  {
   "cell_type": "code",
   "execution_count": null,
   "metadata": {},
   "outputs": [],
   "source": [
    "def validate_by_equivalency(pd_df, attr, value_list, threshold, results_table_df):\n",
    "    pd_df.loc[attr]['Warnings'] = 'WARNING' if any([value > threshold for value in value_list]) else 'PASS'\n",
    "    pd_df.loc[attr]['Offending_Nbs'] = [results_table_df.index[i] for i, value in enumerate(list(results_table_df[attr])) if value > threshold]"
   ]
  },
  {
   "cell_type": "code",
   "execution_count": 406,
   "metadata": {},
   "outputs": [],
   "source": [
    "def validate_by_text(pd_df, attr, value_list, required_text, results_table_df):\n",
    "    pd_df.loc[attr]['Warnings'] = 'WARNING' if any([value != required_text for value in value_list]) else 'PASS'\n",
    "    pd_df.loc[attr]['Offending_Nbs'] = [results_table_df.index[i] for i, value in enumerate(list(results_table_df[attr])) if value != required_text]"
   ]
  },
  {
   "cell_type": "code",
   "execution_count": 380,
   "metadata": {},
   "outputs": [
    {
     "data": {
      "text/plain": [
       "'PASS'"
      ]
     },
     "execution_count": 380,
     "metadata": {},
     "output_type": "execute_result"
    }
   ],
   "source": [
    "# Basic logic to check equivalency\n",
    "interval_step = 15\n",
    "interval_units = 'MIN'\n",
    "intervals = [interval[:-3] for interval in test_df.loc['Base Output Interval'][0]]\n",
    "units = [interval[-3:] for interval in test_df.loc['Base Output Interval'][0]]\n",
    "'WARNING' if any([interval != str(interval_step) for interval in intervals]) else 'PASS'\n",
    "'WARNING' if any([unit != str(interval_units) for unit in units]) else 'PASS'\n",
    "\n",
    "# This needs to include something to evaluate these together..."
   ]
  },
  {
   "cell_type": "code",
   "execution_count": 408,
   "metadata": {},
   "outputs": [],
   "source": [
    "# Impliment validate by text solution\n",
    "for i in test_df.index:\n",
    "    values = test_df.loc[i][0]\n",
    "    if i == 'Solution':\n",
    "        validate_by_text(test_df, i, values, 'Unsteady Finished Successfully', results_table)"
   ]
  },
  {
   "cell_type": "code",
   "execution_count": 416,
   "metadata": {},
   "outputs": [
    {
     "name": "stdout",
     "output_type": "stream",
     "text": [
      "PASS\n",
      "PASS\n",
      "PASS\n",
      "PASS\n",
      "PASS\n",
      "PASS\n",
      "PASS\n",
      "PASS\n",
      "PASS\n",
      "PASS\n"
     ]
    }
   ],
   "source": [
    "# A number of these evaluations need to be done on the results table\n",
    "\n",
    "# Basic logic for checking flow, geometry, and plan names match\n",
    "for i in results_table.index:\n",
    "    ff = results_table.loc[i]['Flow Filename'].split('.')[0]\n",
    "    gf = results_table.loc[i]['Geometry Filename'].split('.')[0]\n",
    "    pf = results_table.loc[i]['Plan Filename'].split('.')[0]\n",
    "    print('WARNING') if any([name != ff for name in [ff, gf, pf]]) else print('PASS')"
   ]
  },
  {
   "cell_type": "code",
   "execution_count": null,
   "metadata": {},
   "outputs": [],
   "source": [
    "# Could develop results table and the summary evaluator...this ends up being twice the validation\n"
   ]
  },
  {
   "cell_type": "markdown",
   "metadata": {},
   "source": [
    "# END"
   ]
  }
 ],
 "metadata": {
  "kernel_info": {
   "name": "geos"
  },
  "kernelspec": {
   "display_name": "Python 3",
   "language": "python",
   "name": "python3"
  },
  "language_info": {
   "codemirror_mode": {
    "name": "ipython",
    "version": 3
   },
   "file_extension": ".py",
   "mimetype": "text/x-python",
   "name": "python",
   "nbconvert_exporter": "python",
   "pygments_lexer": "ipython3",
   "version": "3.6.8"
  },
  "nteract": {
   "version": "0.14.4"
  },
  "pycharm": {
   "stem_cell": {
    "cell_type": "raw",
    "metadata": {
     "collapsed": false
    },
    "source": []
   }
  }
 },
 "nbformat": 4,
 "nbformat_minor": 4
}
