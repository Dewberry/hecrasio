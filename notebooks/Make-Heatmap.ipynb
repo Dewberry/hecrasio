{
 "cells": [
  {
   "cell_type": "markdown",
   "metadata": {},
   "source": [
    "# Heatmap\n",
    "### _Sample production notebook_\n",
    "---\n",
    "This notebook is intended to quickly produce heatmaps by utilizing parallel computation with dask. It will create intermediate files in the `data` directory in your current working directory.\n",
    "\n",
    "#### Inputs\n",
    "1. You will need a weights file. The weights file used in this sample is a `.csv` so it is loaded into a dictionary using pandas. See below under `Get weights`. This weights dictionary is of the format: `{run_id: weight}`\n",
    "2. A list of your WSE grids from s3.\n",
    "\n",
    "#### Outputs\n",
    "1. `bool_hdf` directory: A directory containing intermediate boolean hdf files.\n",
    "2. `weighted_chunks` directory: A directory containing hdf files of summed up weights by chunks. The number of files here will match the number of workers that were automatically set for your local cluster.\n",
    "3. `results` directory: The output heatmap, and a clipped version _(only if your machine had enough memory to clip no data out of the raster)_."
   ]
  },
  {
   "cell_type": "markdown",
   "metadata": {},
   "source": [
    "## Import modules and define functions"
   ]
  },
  {
   "cell_type": "code",
   "execution_count": 1,
   "metadata": {},
   "outputs": [],
   "source": [
    "# standard stack\n",
    "import os\n",
    "from time import time\n",
    "from glob import glob\n",
    "import sys; sys.path.append('../')\n",
    "\n",
    "# dask\n",
    "import dask\n",
    "from dask.distributed import Client, LocalCluster\n",
    "import dask.bag as db\n",
    "\n",
    "# hecrasio core\n",
    "from hecrasio.heatmap import *\n",
    "\n",
    "%matplotlib inline"
   ]
  },
  {
   "cell_type": "markdown",
   "metadata": {},
   "source": [
    "## Start the overall timer"
   ]
  },
  {
   "cell_type": "code",
   "execution_count": 2,
   "metadata": {},
   "outputs": [],
   "source": [
    "overall_start = time()"
   ]
  },
  {
   "cell_type": "markdown",
   "metadata": {},
   "source": [
    "## User Inputs"
   ]
  },
  {
   "cell_type": "code",
   "execution_count": 3,
   "metadata": {},
   "outputs": [],
   "source": [
    "project = 'DC'\n",
    "model = 'P06'\n",
    "weights_path = r\"C:\\Users\\abrazeau\\Desktop\\for_cluster\\DC_P06_weights.csv\"\n",
    "wkdir = os.getcwd()\n",
    "\n",
    "# A dictionary of the metadata to be associated with the heatmap result\n",
    "# E.g. {'Projection': '4326', 'Project': project, 'Model': model}\n",
    "heatmap_meta = {'':''}"
   ]
  },
  {
   "cell_type": "markdown",
   "metadata": {},
   "source": [
    "### Manage paths based on the above inputs"
   ]
  },
  {
   "cell_type": "code",
   "execution_count": 4,
   "metadata": {},
   "outputs": [
    {
     "name": "stdout",
     "output_type": "stream",
     "text": [
      "Outputs will be written to: C:\\Users\\abrazeau\\Documents\\GitHub\\hecrasio\\notebooks\\data_DC_P06\n"
     ]
    }
   ],
   "source": [
    "output_folder_name = 'data_{}_{}'.format(project, model)\n",
    "if not os.path.exists(os.path.join(wkdir, output_folder_name)):\n",
    "    os.makedirs(os.path.join(wkdir, output_folder_name))\n",
    "output_folder = os.path.join(wkdir, output_folder_name)\n",
    "bool_dir = os.path.join(output_folder, 'bool_hdfs')\n",
    "weighted_dir = os.path.join(output_folder, 'weighted_chunks')\n",
    "heatmap_dir = os.path.join(output_folder, 'results')\n",
    "outputTifname = '{}_{}_heatmap.tif'.format(project, model)\n",
    "print('Outputs will be written to:', output_folder)"
   ]
  },
  {
   "cell_type": "markdown",
   "metadata": {},
   "source": [
    "### Load the weights file"
   ]
  },
  {
   "cell_type": "code",
   "execution_count": 5,
   "metadata": {},
   "outputs": [
    {
     "name": "stdout",
     "output_type": "stream",
     "text": [
      "H06_E0001 : 0.0029143543641936124\n",
      "H06_E0002 : 0.002590537212616544\n",
      "H06_E0003 : 0.0024980180264516675\n",
      "H06_E0004 : 0.002405498840286791\n",
      "H06_E0005 : 0.0023592392472043533\n"
     ]
    }
   ],
   "source": [
    "import pandas as pd\n",
    "weights_df = pd.read_csv(weights_path)\n",
    "weights_dict = dict(zip(weights_df.event_id, weights_df.weight))\n",
    "weights_df['event_id'] = weights_df.event_id.apply(lambda x: x.replace('Base', 'NBR'))\n",
    "for i in range(5):\n",
    "    print(list(weights_dict.keys())[i], ':', list(weights_dict.values())[i])"
   ]
  },
  {
   "cell_type": "markdown",
   "metadata": {},
   "source": [
    "### Get a list of the WSE grids"
   ]
  },
  {
   "cell_type": "code",
   "execution_count": 6,
   "metadata": {},
   "outputs": [
    {
     "data": {
      "text/plain": [
       "959"
      ]
     },
     "execution_count": 6,
     "metadata": {},
     "output_type": "execute_result"
    }
   ],
   "source": [
    "wse_grids = s3List(\"pfra\", \"{}/{}\".format(project, model), \"\", \".tif\")\n",
    "wse_grids = [x for x in wse_grids if 'WSE' in x]\n",
    "len(wse_grids)"
   ]
  },
  {
   "cell_type": "markdown",
   "metadata": {},
   "source": [
    "#### Specify the number of necessary chunks based on the estimated size of the in-memory arrays"
   ]
  },
  {
   "cell_type": "code",
   "execution_count": 7,
   "metadata": {},
   "outputs": [
    {
     "name": "stdout",
     "output_type": "stream",
     "text": [
      "Opening this raster will equate to roughly 0.17 GB in memory.\n",
      "Using 10 for the number of chunks.\n",
      "Using 20 for the number of workers.\n"
     ]
    }
   ],
   "source": [
    "num_chunks, num_workers = get_num_chunks_local(wse_grids[0])"
   ]
  },
  {
   "cell_type": "markdown",
   "metadata": {},
   "source": [
    "### Set up the Local cluster"
   ]
  },
  {
   "cell_type": "code",
   "execution_count": 8,
   "metadata": {},
   "outputs": [
    {
     "data": {
      "text/html": [
       "<table style=\"border: 2px solid white;\">\n",
       "<tr>\n",
       "<td style=\"vertical-align: top; border: 0px solid white\">\n",
       "<h3>Client</h3>\n",
       "<ul>\n",
       "  <li><b>Scheduler: </b>tcp://127.0.0.1:62146\n",
       "  <li><b>Dashboard: </b><a href='http://127.0.0.1:8787/status' target='_blank'>http://127.0.0.1:8787/status</a>\n",
       "</ul>\n",
       "</td>\n",
       "<td style=\"vertical-align: top; border: 0px solid white\">\n",
       "<h3>Cluster</h3>\n",
       "<ul>\n",
       "  <li><b>Workers: </b>20</li>\n",
       "  <li><b>Cores: </b>20</li>\n",
       "  <li><b>Memory: </b>34.21 GB</li>\n",
       "</ul>\n",
       "</td>\n",
       "</tr>\n",
       "</table>"
      ],
      "text/plain": [
       "<Client: scheduler='tcp://127.0.0.1:62146' processes=20 cores=20>"
      ]
     },
     "execution_count": 8,
     "metadata": {},
     "output_type": "execute_result"
    }
   ],
   "source": [
    "cluster = LocalCluster(n_workers=num_workers)\n",
    "client = Client(cluster)\n",
    "client"
   ]
  },
  {
   "cell_type": "markdown",
   "metadata": {},
   "source": [
    "### Use dask to make boolean hdf files"
   ]
  },
  {
   "cell_type": "code",
   "execution_count": 9,
   "metadata": {
    "scrolled": true
   },
   "outputs": [
    {
     "name": "stdout",
     "output_type": "stream",
     "text": [
      "5.13 minutes to run\n"
     ]
    }
   ],
   "source": [
    "st = time()\n",
    "\n",
    "daskb = db.from_sequence(wse_grids)\n",
    "res = daskb.map(daskbag_bool_wse_hdf_local, bool_dir=bool_dir, num_chunks=num_chunks)\n",
    "res.compute()\n",
    "\n",
    "print(round((time() - st)/60, 2), 'minutes to run')"
   ]
  },
  {
   "cell_type": "markdown",
   "metadata": {},
   "source": [
    "### Use dask to create a weighted grid hdf file for each chunk"
   ]
  },
  {
   "cell_type": "code",
   "execution_count": 10,
   "metadata": {},
   "outputs": [
    {
     "name": "stdout",
     "output_type": "stream",
     "text": [
      "2.9 minutes to run\n"
     ]
    }
   ],
   "source": [
    "st = time()\n",
    "\n",
    "chunkbag = db.from_sequence(range(num_chunks))\n",
    "res2 = chunkbag.map(write_weighted_chunks_local, \n",
    "                    weights_dict=weights_dict,\n",
    "                    bool_dir=bool_dir,\n",
    "                    weighted_dir=weighted_dir)\n",
    "res2.compute()\n",
    "\n",
    "print(round((time() - st)/60, 2), 'minutes to run')"
   ]
  },
  {
   "cell_type": "markdown",
   "metadata": {},
   "source": [
    "### Create a heatmap for the whole area\n",
    "#### List and sort the weighted chunks files that are local"
   ]
  },
  {
   "cell_type": "code",
   "execution_count": 11,
   "metadata": {},
   "outputs": [
    {
     "data": {
      "text/plain": [
       "10"
      ]
     },
     "execution_count": 11,
     "metadata": {},
     "output_type": "execute_result"
    }
   ],
   "source": [
    "weighted_hdfs = glob(os.path.join(weighted_dir, '*.hdf'))\n",
    "list.sort(weighted_hdfs, key=lambda x: int(os.path.basename(x).split('_')[1]))\n",
    "len(weighted_hdfs)"
   ]
  },
  {
   "cell_type": "markdown",
   "metadata": {},
   "source": [
    "#### Download one of the WSE grids to use as a template"
   ]
  },
  {
   "cell_type": "code",
   "execution_count": 12,
   "metadata": {},
   "outputs": [
    {
     "name": "stdout",
     "output_type": "stream",
     "text": [
      "WSE_DC_P06_H06_E0001.tif\n"
     ]
    }
   ],
   "source": [
    "tifTemplate = get_s3template_tif(wse_grids)\n",
    "print(tifTemplate)"
   ]
  },
  {
   "cell_type": "markdown",
   "metadata": {},
   "source": [
    "### Create the actual heatmap from the weighted chunks"
   ]
  },
  {
   "cell_type": "code",
   "execution_count": 13,
   "metadata": {},
   "outputs": [
    {
     "name": "stdout",
     "output_type": "stream",
     "text": [
      "C:\\Users\\abrazeau\\Documents\\GitHub\\hecrasio\\notebooks\\data_DC_P06\\results\\DC_P06_heatmap.tif has been written!\n",
      "0.05 minutes to run\n"
     ]
    }
   ],
   "source": [
    "st = time()\n",
    "\n",
    "writeTifByChunks_local(tifTemplate, outputTifname, weighted_hdfs, heatmap_dir)\n",
    "result = os.path.join(heatmap_dir, outputTifname)\n",
    "update_tif_metadata(result, heatmap_meta)\n",
    "\n",
    "print(round((time() - st)/60, 2), 'minutes to run')"
   ]
  },
  {
   "cell_type": "markdown",
   "metadata": {},
   "source": [
    "### Clip the raster to only include areas with data"
   ]
  },
  {
   "cell_type": "code",
   "execution_count": 14,
   "metadata": {},
   "outputs": [],
   "source": [
    "if enough_mem_to_clip(result):\n",
    "    crop_path = result.replace('.tif', '_clip.tif')\n",
    "    clip_off_nodatas(result, crop_path)"
   ]
  },
  {
   "cell_type": "markdown",
   "metadata": {},
   "source": [
    "### Plot the result"
   ]
  },
  {
   "cell_type": "code",
   "execution_count": 15,
   "metadata": {},
   "outputs": [
    {
     "data": {
      "image/png": "[encoded data removed]",
      "text/plain": [
       "<Figure size 864x864 with 1 Axes>"
      ]
     },
     "metadata": {
      "needs_background": "light"
     },
     "output_type": "display_data"
    }
   ],
   "source": [
    "from rasterio.plot import show\n",
    "from matplotlib import pyplot\n",
    "\n",
    "try:\n",
    "    if enough_mem_to_clip(result):\n",
    "        with rasterio.open(crop_path) as ras:\n",
    "            fig, ax = pyplot.subplots(1, figsize=(12, 12))\n",
    "            show((ras, 1), cmap='Greys_r')\n",
    "    else:\n",
    "        with rasterio.open(result) as ras:\n",
    "            fig, ax = pyplot.subplots(1, figsize=(12, 12))\n",
    "            show((ras, 1), cmap='Greys_r')\n",
    "except MemoryError:\n",
    "    print('The raster is too big to plot!')"
   ]
  },
  {
   "cell_type": "markdown",
   "metadata": {},
   "source": [
    "### End the timer"
   ]
  },
  {
   "cell_type": "code",
   "execution_count": 16,
   "metadata": {},
   "outputs": [
    {
     "name": "stdout",
     "output_type": "stream",
     "text": [
      "8.37 minutes to run\n"
     ]
    }
   ],
   "source": [
    "os.remove(tifTemplate)\n",
    "print(round((time() - overall_start)/60, 2), 'minutes to run')"
   ]
  },
  {
   "cell_type": "markdown",
   "metadata": {},
   "source": [
    "# END"
   ]
  }
 ],
 "metadata": {
  "kernelspec": {
   "display_name": "Python [conda env:gdalbigtiff]",
   "language": "python",
   "name": "conda-env-gdalbigtiff-py"
  },
  "language_info": {
   "codemirror_mode": {
    "name": "ipython",
    "version": 3
   },
   "file_extension": ".py",
   "mimetype": "text/x-python",
   "name": "python",
   "nbconvert_exporter": "python",
   "pygments_lexer": "ipython3",
   "version": "3.7.3"
  }
 },
 "nbformat": 4,
 "nbformat_minor": 4
}
