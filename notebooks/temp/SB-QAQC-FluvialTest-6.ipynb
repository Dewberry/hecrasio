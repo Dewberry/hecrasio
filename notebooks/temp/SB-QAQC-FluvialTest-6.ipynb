{
 "cells": [
  {
   "cell_type": "markdown",
   "metadata": {},
   "source": [
    "# PFRA \n",
    "\n",
    "### _Development Notebook_\n",
    "--- \n",
    "\n",
    "### QA/QC\n",
    "#### Global Errors Check\n",
    "\n",
    "This notebook is intended to identify global issues in a model simulation that require follow-up responses from the modeler before the model can be used in *STARRII* PFRA studies.\n",
    "\n",
    "Global issues currently implemented include:\n",
    " \n",
    " __1. Check Model inputs__\n",
    " \n",
    "    A. Plan Information\n",
    "    B. Plan Parameters\n",
    "    C. Boundary Conditions \n",
    "     \n",
    "__2. Check Results for each domain (2D Flow Area) in the model__\n",
    " \n",
    "    A. Computational Summary & Depth Plots\n",
    "    B. Domain Extents\n",
    "    C. High Velocities at cell faces\n",
    " \n",
    " \n",
    "Global issues *in development* include:\n",
    " - Mapping areas where Courant number exceeds indicated threshold.\n",
    " - Mapping areas where iteration counts exceed indicated threshold."
   ]
  },
  {
   "cell_type": "code",
   "execution_count": 1,
   "metadata": {
    "ExecuteTime": {
     "end_time": "2019-08-09T20:09:20.766253Z",
     "start_time": "2019-08-09T20:09:20.763213Z"
    }
   },
   "outputs": [],
   "source": [
    "import sys;sys.path.append('../')"
   ]
  },
  {
   "cell_type": "code",
   "execution_count": 2,
   "metadata": {
    "ExecuteTime": {
     "end_time": "2019-08-09T20:09:22.513097Z",
     "start_time": "2019-08-09T20:09:20.768258Z"
    },
    "pycharm": {
     "is_executing": false
    }
   },
   "outputs": [],
   "source": [
    "from hecrasio.core import ResultsZip\n",
    "from hecrasio.qaqc import *\n",
    "import scrapbook as sb"
   ]
  },
  {
   "cell_type": "markdown",
   "metadata": {},
   "source": [
    "#### Read model output data \n",
    "\n",
    "*from AWS*"
   ]
  },
  {
   "cell_type": "code",
   "execution_count": 3,
   "metadata": {
    "ExecuteTime": {
     "end_time": "2019-08-09T20:09:42.027053Z",
     "start_time": "2019-08-09T20:09:22.514130Z"
    },
    "pycharm": {
     "is_executing": false
    }
   },
   "outputs": [],
   "source": [
    "model_s3path = \"s3://azavea/jwx_test/data/zip/DC_F01_NBR_E0004_out.zip\"\n",
    "model = ResultsZip(model_s3path, require_prj=False)"
   ]
  },
  {
   "cell_type": "code",
   "execution_count": 4,
   "metadata": {
    "ExecuteTime": {
     "end_time": "2019-08-09T20:09:42.032035Z",
     "start_time": "2019-08-09T20:09:42.029059Z"
    },
    "inputHidden": false,
    "jupyter": {
     "outputs_hidden": false
    },
    "outputHidden": false,
    "pycharm": {
     "is_executing": false
    }
   },
   "outputs": [],
   "source": [
    "hdfResults_paths = [f for f in model.contents if '.hdf' in f]\n",
    "assert len([f for f in model.contents if '.hdf' in f]) == 1, \"Check files...too many hdf's found\""
   ]
  },
  {
   "cell_type": "code",
   "execution_count": 5,
   "metadata": {
    "ExecuteTime": {
     "end_time": "2019-08-09T20:09:42.050082Z",
     "start_time": "2019-08-09T20:09:42.033038Z"
    },
    "jupyter": {
     "outputs_hidden": false
    },
    "pycharm": {
     "is_executing": false,
     "name": "#%%\n"
    }
   },
   "outputs": [
    {
     "data": {
      "text/plain": [
       "'DC_F01_NBR_E0004.p01.hdf'"
      ]
     },
     "execution_count": 5,
     "metadata": {},
     "output_type": "execute_result"
    }
   ],
   "source": [
    "hdfResults_path = hdfResults_paths[0]\n",
    "hdfResults_path"
   ]
  },
  {
   "cell_type": "code",
   "execution_count": 6,
   "metadata": {
    "ExecuteTime": {
     "end_time": "2019-08-09T20:09:43.181132Z",
     "start_time": "2019-08-09T20:09:42.051086Z"
    },
    "jupyter": {
     "outputs_hidden": false
    },
    "pycharm": {
     "is_executing": false,
     "name": "#%%\n"
    }
   },
   "outputs": [
    {
     "name": "stdout",
     "output_type": "stream",
     "text": [
      "Single domain found...\n"
     ]
    }
   ],
   "source": [
    "rasPlan = HDFResultsFile(model, hdfResults_path)"
   ]
  },
  {
   "cell_type": "markdown",
   "metadata": {},
   "source": [
    "### 1A. Plan Information"
   ]
  },
  {
   "cell_type": "code",
   "execution_count": 7,
   "metadata": {
    "ExecuteTime": {
     "end_time": "2019-08-09T20:09:43.192127Z",
     "start_time": "2019-08-09T20:09:43.182099Z"
    },
    "pycharm": {
     "is_executing": false
    }
   },
   "outputs": [
    {
     "data": {
      "application/scrapbook.scrap.text+json": {
       "data": "json",
       "encoder": "text",
       "name": "{\"Results\":{\"Base Output Interval\":\"15MIN\",\"Computation Time Courant Method\":\"Representative Length\\/Velocity\",\"Computation Time Step Base\":\"30SEC\",\"Computation Time Step Count To Double\":2,\"Computation Time Step Max Courant\":2.0,\"Computation Time Step Max Doubling\":2,\"Computation Time Step Max Halving\":1,\"Computation Time Step Min Courant\":0.5,\"Flow Filename\":\"DC_F01_NBR.u01\",\"Flow Title\":\"E0004\",\"Geometry Filename\":\"DC_F01_NBR.g01\",\"Geometry Title\":\"D01\",\"Plan Filename\":\"DC_F01_NBR.p01\",\"Plan Name\":\"test_scaling\",\"Plan ShortID\":\"test_scaling\",\"Plan Title\":\"test_scaling\",\"Simulation End Time\":\"05May2000 10:00:0\",\"Simulation Start Time\":\"01May2000 10:00:0\",\"Time Window\":\"01May2000 10:00:00 to 05May2000 10:00:0\"}}",
       "version": 1
      }
     },
     "metadata": {
      "scrapbook": {
       "data": true,
       "display": false,
       "name": "{\"Results\":{\"Base Output Interval\":\"15MIN\",\"Computation Time Courant Method\":\"Representative Length\\/Velocity\",\"Computation Time Step Base\":\"30SEC\",\"Computation Time Step Count To Double\":2,\"Computation Time Step Max Courant\":2.0,\"Computation Time Step Max Doubling\":2,\"Computation Time Step Max Halving\":1,\"Computation Time Step Min Courant\":0.5,\"Flow Filename\":\"DC_F01_NBR.u01\",\"Flow Title\":\"E0004\",\"Geometry Filename\":\"DC_F01_NBR.g01\",\"Geometry Title\":\"D01\",\"Plan Filename\":\"DC_F01_NBR.p01\",\"Plan Name\":\"test_scaling\",\"Plan ShortID\":\"test_scaling\",\"Plan Title\":\"test_scaling\",\"Simulation End Time\":\"05May2000 10:00:0\",\"Simulation Start Time\":\"01May2000 10:00:0\",\"Time Window\":\"01May2000 10:00:00 to 05May2000 10:00:0\"}}"
      }
     },
     "output_type": "display_data"
    },
    {
     "data": {
      "text/html": [
       "<div>\n",
       "<style scoped>\n",
       "    .dataframe tbody tr th:only-of-type {\n",
       "        vertical-align: middle;\n",
       "    }\n",
       "\n",
       "    .dataframe tbody tr th {\n",
       "        vertical-align: top;\n",
       "    }\n",
       "\n",
       "    .dataframe thead th {\n",
       "        text-align: right;\n",
       "    }\n",
       "</style>\n",
       "<table border=\"1\" class=\"dataframe\">\n",
       "  <thead>\n",
       "    <tr style=\"text-align: right;\">\n",
       "      <th></th>\n",
       "      <th>Results</th>\n",
       "    </tr>\n",
       "  </thead>\n",
       "  <tbody>\n",
       "    <tr>\n",
       "      <th>Base Output Interval</th>\n",
       "      <td>15MIN</td>\n",
       "    </tr>\n",
       "    <tr>\n",
       "      <th>Computation Time Courant Method</th>\n",
       "      <td>Representative Length/Velocity</td>\n",
       "    </tr>\n",
       "    <tr>\n",
       "      <th>Computation Time Step Base</th>\n",
       "      <td>30SEC</td>\n",
       "    </tr>\n",
       "    <tr>\n",
       "      <th>Computation Time Step Count To Double</th>\n",
       "      <td>2</td>\n",
       "    </tr>\n",
       "    <tr>\n",
       "      <th>Computation Time Step Max Courant</th>\n",
       "      <td>2</td>\n",
       "    </tr>\n",
       "    <tr>\n",
       "      <th>Computation Time Step Max Doubling</th>\n",
       "      <td>2</td>\n",
       "    </tr>\n",
       "    <tr>\n",
       "      <th>Computation Time Step Max Halving</th>\n",
       "      <td>1</td>\n",
       "    </tr>\n",
       "    <tr>\n",
       "      <th>Computation Time Step Min Courant</th>\n",
       "      <td>0.5</td>\n",
       "    </tr>\n",
       "    <tr>\n",
       "      <th>Flow Filename</th>\n",
       "      <td>DC_F01_NBR.u01</td>\n",
       "    </tr>\n",
       "    <tr>\n",
       "      <th>Flow Title</th>\n",
       "      <td>E0004</td>\n",
       "    </tr>\n",
       "    <tr>\n",
       "      <th>Geometry Filename</th>\n",
       "      <td>DC_F01_NBR.g01</td>\n",
       "    </tr>\n",
       "    <tr>\n",
       "      <th>Geometry Title</th>\n",
       "      <td>D01</td>\n",
       "    </tr>\n",
       "    <tr>\n",
       "      <th>Plan Filename</th>\n",
       "      <td>DC_F01_NBR.p01</td>\n",
       "    </tr>\n",
       "    <tr>\n",
       "      <th>Plan Name</th>\n",
       "      <td>test_scaling</td>\n",
       "    </tr>\n",
       "    <tr>\n",
       "      <th>Plan ShortID</th>\n",
       "      <td>test_scaling</td>\n",
       "    </tr>\n",
       "    <tr>\n",
       "      <th>Plan Title</th>\n",
       "      <td>test_scaling</td>\n",
       "    </tr>\n",
       "    <tr>\n",
       "      <th>Simulation End Time</th>\n",
       "      <td>05May2000 10:00:0</td>\n",
       "    </tr>\n",
       "    <tr>\n",
       "      <th>Simulation Start Time</th>\n",
       "      <td>01May2000 10:00:0</td>\n",
       "    </tr>\n",
       "    <tr>\n",
       "      <th>Time Window</th>\n",
       "      <td>01May2000 10:00:00 to 05May2000 10:00:0</td>\n",
       "    </tr>\n",
       "  </tbody>\n",
       "</table>\n",
       "</div>"
      ],
      "text/plain": [
       "                                                                       Results\n",
       "Base Output Interval                                                     15MIN\n",
       "Computation Time Courant Method                 Representative Length/Velocity\n",
       "Computation Time Step Base                                               30SEC\n",
       "Computation Time Step Count To Double                                        2\n",
       "Computation Time Step Max Courant                                            2\n",
       "Computation Time Step Max Doubling                                           2\n",
       "Computation Time Step Max Halving                                            1\n",
       "Computation Time Step Min Courant                                          0.5\n",
       "Flow Filename                                                   DC_F01_NBR.u01\n",
       "Flow Title                                                               E0004\n",
       "Geometry Filename                                               DC_F01_NBR.g01\n",
       "Geometry Title                                                             D01\n",
       "Plan Filename                                                   DC_F01_NBR.p01\n",
       "Plan Name                                                         test_scaling\n",
       "Plan ShortID                                                      test_scaling\n",
       "Plan Title                                                        test_scaling\n",
       "Simulation End Time                                          05May2000 10:00:0\n",
       "Simulation Start Time                                        01May2000 10:00:0\n",
       "Time Window                            01May2000 10:00:00 to 05May2000 10:00:0"
      ]
     },
     "execution_count": 7,
     "metadata": {},
     "output_type": "execute_result"
    }
   ],
   "source": [
    "sb.glue(rasPlan.Plan_Information.to_json(), \"json\")\n",
    "rasPlan.Plan_Information"
   ]
  },
  {
   "cell_type": "markdown",
   "metadata": {},
   "source": [
    "### 1B. Plan Parameters"
   ]
  },
  {
   "cell_type": "code",
   "execution_count": 8,
   "metadata": {
    "ExecuteTime": {
     "end_time": "2019-08-09T20:09:43.216222Z",
     "start_time": "2019-08-09T20:09:43.194131Z"
    },
    "pycharm": {
     "is_executing": false
    }
   },
   "outputs": [
    {
     "data": {
      "application/scrapbook.scrap.text+json": {
       "data": "json",
       "encoder": "text",
       "name": "{\"Results\":{\"1D Cores\":0,\"1D Methodology\":\"Finite Difference\",\"1D2D Flow Tolerance\":0.1000000015,\"1D2D MaxIter\":0,\"1D2D Minimum Flow Tolerance\":1.0,\"1D2D WS Tolerance\":0.0099999998,\"2D Boundary Condition Ramp Up Fraction\":[0.1000000015],\"2D Boundary Condition Volume Check\":[\"False\"],\"2D Cores\":0,\"2D Coriolis\":\"False\",\"2D Eddy Viscosity Transverse Mixing Coefficient\":[3.402823466e+38],\"2D Equation Set\":[\"Dynamic Wave\"],\"2D Initial Conditions Ramp Up Time (hrs)\":[3.402823466e+38],\"2D Latitude for Coriolis\":[3.402823466e+38],\"2D Maximum Iterations\":[20],\"2D Names\":[\"D01\"],\"2D Number of Time Slices\":[1],\"2D Only\":\"True\",\"2D Theta\":[1.0],\"2D Theta Warmup\":[1.0],\"2D Volume Tolerance\":[0.0099999998],\"2D Water Surface Tolerance\":[0.0099999998],\"HDF Chunk Size\":1.0,\"HDF Compression\":1,\"HDF Fixed Rows\":1,\"HDF Flush Buffer\":\"False\",\"HDF Spatial Parts\":1,\"HDF Use Max Rows\":0,\"HDF Write Face Node Velocities\":\"False\",\"HDF Write Time Slices\":\"False\",\"HDF Write Warmup\":\"False\",\"Pardiso Solver\":\"False\"}}",
       "version": 1
      }
     },
     "metadata": {
      "scrapbook": {
       "data": true,
       "display": false,
       "name": "{\"Results\":{\"1D Cores\":0,\"1D Methodology\":\"Finite Difference\",\"1D2D Flow Tolerance\":0.1000000015,\"1D2D MaxIter\":0,\"1D2D Minimum Flow Tolerance\":1.0,\"1D2D WS Tolerance\":0.0099999998,\"2D Boundary Condition Ramp Up Fraction\":[0.1000000015],\"2D Boundary Condition Volume Check\":[\"False\"],\"2D Cores\":0,\"2D Coriolis\":\"False\",\"2D Eddy Viscosity Transverse Mixing Coefficient\":[3.402823466e+38],\"2D Equation Set\":[\"Dynamic Wave\"],\"2D Initial Conditions Ramp Up Time (hrs)\":[3.402823466e+38],\"2D Latitude for Coriolis\":[3.402823466e+38],\"2D Maximum Iterations\":[20],\"2D Names\":[\"D01\"],\"2D Number of Time Slices\":[1],\"2D Only\":\"True\",\"2D Theta\":[1.0],\"2D Theta Warmup\":[1.0],\"2D Volume Tolerance\":[0.0099999998],\"2D Water Surface Tolerance\":[0.0099999998],\"HDF Chunk Size\":1.0,\"HDF Compression\":1,\"HDF Fixed Rows\":1,\"HDF Flush Buffer\":\"False\",\"HDF Spatial Parts\":1,\"HDF Use Max Rows\":0,\"HDF Write Face Node Velocities\":\"False\",\"HDF Write Time Slices\":\"False\",\"HDF Write Warmup\":\"False\",\"Pardiso Solver\":\"False\"}}"
      }
     },
     "output_type": "display_data"
    },
    {
     "data": {
      "text/html": [
       "<div>\n",
       "<style scoped>\n",
       "    .dataframe tbody tr th:only-of-type {\n",
       "        vertical-align: middle;\n",
       "    }\n",
       "\n",
       "    .dataframe tbody tr th {\n",
       "        vertical-align: top;\n",
       "    }\n",
       "\n",
       "    .dataframe thead th {\n",
       "        text-align: right;\n",
       "    }\n",
       "</style>\n",
       "<table border=\"1\" class=\"dataframe\">\n",
       "  <thead>\n",
       "    <tr style=\"text-align: right;\">\n",
       "      <th></th>\n",
       "      <th>Results</th>\n",
       "    </tr>\n",
       "  </thead>\n",
       "  <tbody>\n",
       "    <tr>\n",
       "      <th>1D Cores</th>\n",
       "      <td>0</td>\n",
       "    </tr>\n",
       "    <tr>\n",
       "      <th>1D Methodology</th>\n",
       "      <td>Finite Difference</td>\n",
       "    </tr>\n",
       "    <tr>\n",
       "      <th>1D2D Flow Tolerance</th>\n",
       "      <td>0.1</td>\n",
       "    </tr>\n",
       "    <tr>\n",
       "      <th>1D2D MaxIter</th>\n",
       "      <td>0</td>\n",
       "    </tr>\n",
       "    <tr>\n",
       "      <th>1D2D Minimum Flow Tolerance</th>\n",
       "      <td>1</td>\n",
       "    </tr>\n",
       "    <tr>\n",
       "      <th>1D2D WS Tolerance</th>\n",
       "      <td>0.01</td>\n",
       "    </tr>\n",
       "    <tr>\n",
       "      <th>2D Boundary Condition Ramp Up Fraction</th>\n",
       "      <td>[0.1]</td>\n",
       "    </tr>\n",
       "    <tr>\n",
       "      <th>2D Boundary Condition Volume Check</th>\n",
       "      <td>[b'False']</td>\n",
       "    </tr>\n",
       "    <tr>\n",
       "      <th>2D Cores</th>\n",
       "      <td>0</td>\n",
       "    </tr>\n",
       "    <tr>\n",
       "      <th>2D Coriolis</th>\n",
       "      <td>False</td>\n",
       "    </tr>\n",
       "    <tr>\n",
       "      <th>2D Eddy Viscosity Transverse Mixing Coefficient</th>\n",
       "      <td>[3.4028235e+38]</td>\n",
       "    </tr>\n",
       "    <tr>\n",
       "      <th>2D Equation Set</th>\n",
       "      <td>[b'Dynamic Wave']</td>\n",
       "    </tr>\n",
       "    <tr>\n",
       "      <th>2D Initial Conditions Ramp Up Time (hrs)</th>\n",
       "      <td>[3.4028235e+38]</td>\n",
       "    </tr>\n",
       "    <tr>\n",
       "      <th>2D Latitude for Coriolis</th>\n",
       "      <td>[3.4028235e+38]</td>\n",
       "    </tr>\n",
       "    <tr>\n",
       "      <th>2D Maximum Iterations</th>\n",
       "      <td>[20]</td>\n",
       "    </tr>\n",
       "    <tr>\n",
       "      <th>2D Names</th>\n",
       "      <td>[b'D01']</td>\n",
       "    </tr>\n",
       "    <tr>\n",
       "      <th>2D Number of Time Slices</th>\n",
       "      <td>[1]</td>\n",
       "    </tr>\n",
       "    <tr>\n",
       "      <th>2D Only</th>\n",
       "      <td>True</td>\n",
       "    </tr>\n",
       "    <tr>\n",
       "      <th>2D Theta</th>\n",
       "      <td>[1.0]</td>\n",
       "    </tr>\n",
       "    <tr>\n",
       "      <th>2D Theta Warmup</th>\n",
       "      <td>[1.0]</td>\n",
       "    </tr>\n",
       "    <tr>\n",
       "      <th>2D Volume Tolerance</th>\n",
       "      <td>[0.01]</td>\n",
       "    </tr>\n",
       "    <tr>\n",
       "      <th>2D Water Surface Tolerance</th>\n",
       "      <td>[0.01]</td>\n",
       "    </tr>\n",
       "    <tr>\n",
       "      <th>HDF Chunk Size</th>\n",
       "      <td>1</td>\n",
       "    </tr>\n",
       "    <tr>\n",
       "      <th>HDF Compression</th>\n",
       "      <td>1</td>\n",
       "    </tr>\n",
       "    <tr>\n",
       "      <th>HDF Fixed Rows</th>\n",
       "      <td>1</td>\n",
       "    </tr>\n",
       "    <tr>\n",
       "      <th>HDF Flush Buffer</th>\n",
       "      <td>False</td>\n",
       "    </tr>\n",
       "    <tr>\n",
       "      <th>HDF Spatial Parts</th>\n",
       "      <td>1</td>\n",
       "    </tr>\n",
       "    <tr>\n",
       "      <th>HDF Use Max Rows</th>\n",
       "      <td>0</td>\n",
       "    </tr>\n",
       "    <tr>\n",
       "      <th>HDF Write Face Node Velocities</th>\n",
       "      <td>False</td>\n",
       "    </tr>\n",
       "    <tr>\n",
       "      <th>HDF Write Time Slices</th>\n",
       "      <td>False</td>\n",
       "    </tr>\n",
       "    <tr>\n",
       "      <th>HDF Write Warmup</th>\n",
       "      <td>False</td>\n",
       "    </tr>\n",
       "    <tr>\n",
       "      <th>Pardiso Solver</th>\n",
       "      <td>False</td>\n",
       "    </tr>\n",
       "  </tbody>\n",
       "</table>\n",
       "</div>"
      ],
      "text/plain": [
       "                                                           Results\n",
       "1D Cores                                                         0\n",
       "1D Methodology                                   Finite Difference\n",
       "1D2D Flow Tolerance                                            0.1\n",
       "1D2D MaxIter                                                     0\n",
       "1D2D Minimum Flow Tolerance                                      1\n",
       "1D2D WS Tolerance                                             0.01\n",
       "2D Boundary Condition Ramp Up Fraction                       [0.1]\n",
       "2D Boundary Condition Volume Check                      [b'False']\n",
       "2D Cores                                                         0\n",
       "2D Coriolis                                                  False\n",
       "2D Eddy Viscosity Transverse Mixing Coefficient    [3.4028235e+38]\n",
       "2D Equation Set                                  [b'Dynamic Wave']\n",
       "2D Initial Conditions Ramp Up Time (hrs)           [3.4028235e+38]\n",
       "2D Latitude for Coriolis                           [3.4028235e+38]\n",
       "2D Maximum Iterations                                         [20]\n",
       "2D Names                                                  [b'D01']\n",
       "2D Number of Time Slices                                       [1]\n",
       "2D Only                                                       True\n",
       "2D Theta                                                     [1.0]\n",
       "2D Theta Warmup                                              [1.0]\n",
       "2D Volume Tolerance                                         [0.01]\n",
       "2D Water Surface Tolerance                                  [0.01]\n",
       "HDF Chunk Size                                                   1\n",
       "HDF Compression                                                  1\n",
       "HDF Fixed Rows                                                   1\n",
       "HDF Flush Buffer                                             False\n",
       "HDF Spatial Parts                                                1\n",
       "HDF Use Max Rows                                                 0\n",
       "HDF Write Face Node Velocities                               False\n",
       "HDF Write Time Slices                                        False\n",
       "HDF Write Warmup                                             False\n",
       "Pardiso Solver                                               False"
      ]
     },
     "execution_count": 8,
     "metadata": {},
     "output_type": "execute_result"
    }
   ],
   "source": [
    "sb.glue(rasPlan.Plan_Parameters.to_json(), \"json\")\n",
    "rasPlan.Plan_Parameters"
   ]
  },
  {
   "cell_type": "markdown",
   "metadata": {},
   "source": [
    "### 1C. Boundary Conditions \n",
    "\n",
    "#### Input hydrographs"
   ]
  },
  {
   "cell_type": "code",
   "execution_count": 9,
   "metadata": {
    "scrolled": false
   },
   "outputs": [],
   "source": [
    "# # Logic to handle one and many domains\n",
    "# if len(rasPlan.domains) > 1:\n",
    "#     results = [DomainResults(model, rasPlan, domainID) for domainID in rasPlan.domains]\n",
    "#     for result in results:\n",
    "#         plotBCs(result) \n",
    "    \n",
    "# else:\n",
    "#     results = DomainResults(model, rasPlan, rasPlan.domains[0])\n",
    "#     plotBCs(results)"
   ]
  },
  {
   "cell_type": "markdown",
   "metadata": {},
   "source": [
    "### 2A. Computational Summary"
   ]
  },
  {
   "cell_type": "code",
   "execution_count": 22,
   "metadata": {
    "ExecuteTime": {
     "end_time": "2019-08-09T20:10:29.472377Z",
     "start_time": "2019-08-09T20:10:29.466361Z"
    },
    "jupyter": {
     "outputs_hidden": false
    },
    "pycharm": {
     "is_executing": false,
     "name": "#%%\n"
    }
   },
   "outputs": [
    {
     "data": {
      "application/scrapbook.scrap.text+json": {
       "data": "json",
       "encoder": "text",
       "name": "{\"Results\":{\"Computation Time DSS\":\"00:00:00\",\"Computation Time Total\":\"03:11:15\",\"Maximum WSEL Error\":0.0,\"Run Time Window\":\"15JUL2019 03:58:00 to 15JUL2019 07:09:15\",\"Solution\":\"Unsteady Finished Successfully\",\"Time Solution Went Unstable\":\"00:00:00\",\"Time Stamp Solution Went Unstable\":\"Not Applicable\",\"Vol Accounting\":\"Volume Accounting in Acre Feet\",\"Vol Accounting 2D Bdry\":0.0,\"Vol Accounting Cell End\":99553.8203125,\"Vol Accounting Cell Start\":84515.9453125,\"Vol Accounting DS Outflow\":0.0,\"Vol Accounting Error\":36.8437576294,\"Vol Accounting Error Percentage\":0.0017180609,\"Vol Accounting Groundwater\":0.0,\"Vol Accounting LS, Pump Div\":0.0,\"Vol Accounting Lat Hydro\":0.0,\"Vol Accounting US Inflow\":0.0}}",
       "version": 1
      }
     },
     "metadata": {
      "scrapbook": {
       "data": true,
       "display": false,
       "name": "{\"Results\":{\"Computation Time DSS\":\"00:00:00\",\"Computation Time Total\":\"03:11:15\",\"Maximum WSEL Error\":0.0,\"Run Time Window\":\"15JUL2019 03:58:00 to 15JUL2019 07:09:15\",\"Solution\":\"Unsteady Finished Successfully\",\"Time Solution Went Unstable\":\"00:00:00\",\"Time Stamp Solution Went Unstable\":\"Not Applicable\",\"Vol Accounting\":\"Volume Accounting in Acre Feet\",\"Vol Accounting 2D Bdry\":0.0,\"Vol Accounting Cell End\":99553.8203125,\"Vol Accounting Cell Start\":84515.9453125,\"Vol Accounting DS Outflow\":0.0,\"Vol Accounting Error\":36.8437576294,\"Vol Accounting Error Percentage\":0.0017180609,\"Vol Accounting Groundwater\":0.0,\"Vol Accounting LS, Pump Div\":0.0,\"Vol Accounting Lat Hydro\":0.0,\"Vol Accounting US Inflow\":0.0}}"
      }
     },
     "output_type": "display_data"
    },
    {
     "data": {
      "text/html": [
       "<div>\n",
       "<style scoped>\n",
       "    .dataframe tbody tr th:only-of-type {\n",
       "        vertical-align: middle;\n",
       "    }\n",
       "\n",
       "    .dataframe tbody tr th {\n",
       "        vertical-align: top;\n",
       "    }\n",
       "\n",
       "    .dataframe thead th {\n",
       "        text-align: right;\n",
       "    }\n",
       "</style>\n",
       "<table border=\"1\" class=\"dataframe\">\n",
       "  <thead>\n",
       "    <tr style=\"text-align: right;\">\n",
       "      <th></th>\n",
       "      <th>Results</th>\n",
       "    </tr>\n",
       "  </thead>\n",
       "  <tbody>\n",
       "    <tr>\n",
       "      <th>Computation Time DSS</th>\n",
       "      <td>00:00:00</td>\n",
       "    </tr>\n",
       "    <tr>\n",
       "      <th>Computation Time Total</th>\n",
       "      <td>03:11:15</td>\n",
       "    </tr>\n",
       "    <tr>\n",
       "      <th>Maximum WSEL Error</th>\n",
       "      <td>0</td>\n",
       "    </tr>\n",
       "    <tr>\n",
       "      <th>Run Time Window</th>\n",
       "      <td>15JUL2019 03:58:00 to 15JUL2019 07:09:15</td>\n",
       "    </tr>\n",
       "    <tr>\n",
       "      <th>Solution</th>\n",
       "      <td>Unsteady Finished Successfully</td>\n",
       "    </tr>\n",
       "    <tr>\n",
       "      <th>Time Solution Went Unstable</th>\n",
       "      <td>NaN</td>\n",
       "    </tr>\n",
       "    <tr>\n",
       "      <th>Time Stamp Solution Went Unstable</th>\n",
       "      <td>Not Applicable</td>\n",
       "    </tr>\n",
       "    <tr>\n",
       "      <th>Vol Accounting</th>\n",
       "      <td>Volume Accounting in Acre Feet</td>\n",
       "    </tr>\n",
       "    <tr>\n",
       "      <th>Vol Accounting 2D Bdry</th>\n",
       "      <td>0</td>\n",
       "    </tr>\n",
       "    <tr>\n",
       "      <th>Vol Accounting Cell End</th>\n",
       "      <td>99553.8</td>\n",
       "    </tr>\n",
       "    <tr>\n",
       "      <th>Vol Accounting Cell Start</th>\n",
       "      <td>84515.9</td>\n",
       "    </tr>\n",
       "    <tr>\n",
       "      <th>Vol Accounting DS Outflow</th>\n",
       "      <td>0</td>\n",
       "    </tr>\n",
       "    <tr>\n",
       "      <th>Vol Accounting Error</th>\n",
       "      <td>36.8438</td>\n",
       "    </tr>\n",
       "    <tr>\n",
       "      <th>Vol Accounting Error Percentage</th>\n",
       "      <td>0.00171806</td>\n",
       "    </tr>\n",
       "    <tr>\n",
       "      <th>Vol Accounting Groundwater</th>\n",
       "      <td>0</td>\n",
       "    </tr>\n",
       "    <tr>\n",
       "      <th>Vol Accounting LS, Pump Div</th>\n",
       "      <td>0</td>\n",
       "    </tr>\n",
       "    <tr>\n",
       "      <th>Vol Accounting Lat Hydro</th>\n",
       "      <td>0</td>\n",
       "    </tr>\n",
       "    <tr>\n",
       "      <th>Vol Accounting US Inflow</th>\n",
       "      <td>0</td>\n",
       "    </tr>\n",
       "  </tbody>\n",
       "</table>\n",
       "</div>"
      ],
      "text/plain": [
       "                                                                    Results\n",
       "Computation Time DSS                                               00:00:00\n",
       "Computation Time Total                                             03:11:15\n",
       "Maximum WSEL Error                                                        0\n",
       "Run Time Window                    15JUL2019 03:58:00 to 15JUL2019 07:09:15\n",
       "Solution                                     Unsteady Finished Successfully\n",
       "Time Solution Went Unstable                                             NaN\n",
       "Time Stamp Solution Went Unstable                            Not Applicable\n",
       "Vol Accounting                               Volume Accounting in Acre Feet\n",
       "Vol Accounting 2D Bdry                                                    0\n",
       "Vol Accounting Cell End                                             99553.8\n",
       "Vol Accounting Cell Start                                           84515.9\n",
       "Vol Accounting DS Outflow                                                 0\n",
       "Vol Accounting Error                                                36.8438\n",
       "Vol Accounting Error Percentage                                  0.00171806\n",
       "Vol Accounting Groundwater                                                0\n",
       "Vol Accounting LS, Pump Div                                               0\n",
       "Vol Accounting Lat Hydro                                                  0\n",
       "Vol Accounting US Inflow                                                  0"
      ]
     },
     "execution_count": 22,
     "metadata": {},
     "output_type": "execute_result"
    }
   ],
   "source": [
    "non_nan = rasPlan.summary.replace(np.nan, \"00:00:00\")\n",
    "sb.glue(non_nan.to_json(), \"json\")\n",
    "rasPlan.summary"
   ]
  },
  {
   "cell_type": "markdown",
   "metadata": {},
   "source": [
    "### 2A. Depth Plots"
   ]
  },
  {
   "cell_type": "code",
   "execution_count": null,
   "metadata": {
    "ExecuteTime": {
     "end_time": "2019-08-09T20:10:34.995196Z",
     "start_time": "2019-08-09T20:10:29.474382Z"
    },
    "jupyter": {
     "outputs_hidden": false
    },
    "pycharm": {
     "is_executing": false,
     "name": "#%%\n"
    },
    "scrolled": false
   },
   "outputs": [],
   "source": [
    "# try:\n",
    "#     for result in results:\n",
    "#         plot_descriptive_stats(result.Describe_Depths, result.Perimeter)\n",
    "# except:\n",
    "#     plot_descriptive_stats(results.Describe_Depths, results.Perimeter)"
   ]
  },
  {
   "cell_type": "markdown",
   "metadata": {},
   "source": [
    "###  2B. Domain Extents\n",
    "*Boundary Condition locations should be the only areas shown"
   ]
  },
  {
   "cell_type": "code",
   "execution_count": null,
   "metadata": {
    "ExecuteTime": {
     "end_time": "2019-08-09T20:10:35.183730Z",
     "start_time": "2019-08-09T20:10:34.996197Z"
    },
    "pycharm": {
     "is_executing": false
    },
    "scrolled": false
   },
   "outputs": [],
   "source": [
    "# try:\n",
    "#     for result in results:\n",
    "#         test = plot_extreme_edges(result.Extreme_Edges, result.Perimeter, mini_map = rasPlan.domain_polys)\n",
    "# except:\n",
    "#     plot_extreme_edges(results.Extreme_Edges, results.Perimeter)"
   ]
  },
  {
   "cell_type": "markdown",
   "metadata": {},
   "source": [
    "###  2C. High Velocities at cell faces"
   ]
  },
  {
   "cell_type": "code",
   "execution_count": null,
   "metadata": {
    "ExecuteTime": {
     "end_time": "2019-08-09T20:11:41.062483Z",
     "start_time": "2019-08-09T20:10:35.184700Z"
    },
    "pycharm": {
     "is_executing": false
    },
    "scrolled": false
   },
   "outputs": [],
   "source": [
    "# try:\n",
    "#     for result in results:\n",
    "#         velCheckMain(result, plot_tseries=3)\n",
    "# except:\n",
    "#     velCheckMain(results, plot_tseries=3)"
   ]
  },
  {
   "cell_type": "markdown",
   "metadata": {},
   "source": [
    "# END"
   ]
  }
 ],
 "metadata": {
  "kernel_info": {
   "name": "geos"
  },
  "kernelspec": {
   "display_name": "Python 3",
   "language": "python",
   "name": "python3"
  },
  "language_info": {
   "codemirror_mode": {
    "name": "ipython",
    "version": 3
   },
   "file_extension": ".py",
   "mimetype": "text/x-python",
   "name": "python",
   "nbconvert_exporter": "python",
   "pygments_lexer": "ipython3",
   "version": "3.6.8"
  },
  "nteract": {
   "version": "0.14.4"
  },
  "pycharm": {
   "stem_cell": {
    "cell_type": "raw",
    "metadata": {
     "collapsed": false
    },
    "source": []
   }
  }
 },
 "nbformat": 4,
 "nbformat_minor": 4
}
