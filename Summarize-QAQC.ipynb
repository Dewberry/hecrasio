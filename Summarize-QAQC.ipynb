{
 "cells": [
  {
   "cell_type": "markdown",
   "metadata": {},
   "source": [
    "# Summarize QA/QC Results \n",
    "\n",
    "Create summary tables from QAQC-PFRA notebook scraps in one or more folders on Amazon Web Services' S3.\n",
    "\n",
    "### _Development Notebook_\n",
    "\n",
    "### Import libraries"
   ]
  },
  {
   "cell_type": "code",
   "execution_count": 1,
   "metadata": {
    "ExecuteTime": {
     "end_time": "2019-08-09T20:09:22.513097Z",
     "start_time": "2019-08-09T20:09:20.768258Z"
    },
    "pycharm": {
     "is_executing": false
    }
   },
   "outputs": [],
   "source": [
    "import sys;sys.path.append('../')\n",
    "import gdal\n",
    "from hecrasio.core import *\n",
    "from hecrasio.qaqc import *\n",
    "from hecrasio.s3tools import *\n",
    "import scrapbook as sb\n",
    "import pandas as pd\n",
    "import shutil"
   ]
  },
  {
   "cell_type": "markdown",
   "metadata": {},
   "source": [
    "### Set pandas display options"
   ]
  },
  {
   "cell_type": "code",
   "execution_count": 2,
   "metadata": {},
   "outputs": [],
   "source": [
    "pd.set_option(\"display.max_rows\", 100)\n",
    "pd.set_option(\"display.max_columns\", 1000)"
   ]
  },
  {
   "cell_type": "markdown",
   "metadata": {},
   "source": [
    "### Identify notebooks on S3"
   ]
  },
  {
   "cell_type": "code",
   "execution_count": 3,
   "metadata": {},
   "outputs": [],
   "source": [
    "# Either of these will work\n",
    "\n",
    "# pull_scraps(single_folder = \"s3://azavea/jwx_test/nbs/nbs_all/\")\n",
    "\n",
    "books = pull_scraps(multi_folder = 'yes', bucket = 'azavea', prefix = 'jwx_test/nbs/nb0', name_selector = 'DC')"
   ]
  },
  {
   "cell_type": "markdown",
   "metadata": {},
   "source": [
    "### Create QA/QC results table"
   ]
  },
  {
   "cell_type": "code",
   "execution_count": 4,
   "metadata": {
    "scrolled": true
   },
   "outputs": [
    {
     "data": {
      "text/html": [
       "<div>\n",
       "<style scoped>\n",
       "    .dataframe tbody tr th:only-of-type {\n",
       "        vertical-align: middle;\n",
       "    }\n",
       "\n",
       "    .dataframe tbody tr th {\n",
       "        vertical-align: top;\n",
       "    }\n",
       "\n",
       "    .dataframe thead th {\n",
       "        text-align: right;\n",
       "    }\n",
       "</style>\n",
       "<table border=\"1\" class=\"dataframe\">\n",
       "  <thead>\n",
       "    <tr style=\"text-align: right;\">\n",
       "      <th></th>\n",
       "      <th>1D Cores</th>\n",
       "      <th>1D Methodology</th>\n",
       "      <th>1D2D Flow Tolerance</th>\n",
       "      <th>1D2D MaxIter</th>\n",
       "      <th>1D2D Minimum Flow Tolerance</th>\n",
       "      <th>1D2D WS Tolerance</th>\n",
       "      <th>2D Boundary Condition Ramp Up Fraction</th>\n",
       "      <th>2D Boundary Condition Volume Check</th>\n",
       "      <th>2D Cores</th>\n",
       "      <th>2D Coriolis</th>\n",
       "      <th>2D Eddy Viscosity Transverse Mixing Coefficient</th>\n",
       "      <th>2D Equation Set</th>\n",
       "      <th>2D Initial Conditions Ramp Up Time (hrs)</th>\n",
       "      <th>2D Latitude for Coriolis</th>\n",
       "      <th>2D Maximum Iterations</th>\n",
       "      <th>2D Names</th>\n",
       "      <th>2D Number of Time Slices</th>\n",
       "      <th>2D Only</th>\n",
       "      <th>2D Theta</th>\n",
       "      <th>2D Theta Warmup</th>\n",
       "      <th>2D Volume Tolerance</th>\n",
       "      <th>2D Water Surface Tolerance</th>\n",
       "      <th>Base Output Interval</th>\n",
       "      <th>Computation Time Courant Method</th>\n",
       "      <th>Computation Time DSS</th>\n",
       "      <th>Computation Time Step Base</th>\n",
       "      <th>Computation Time Step Count To Double</th>\n",
       "      <th>Computation Time Step Max Courant</th>\n",
       "      <th>Computation Time Step Max Doubling</th>\n",
       "      <th>Computation Time Step Max Halving</th>\n",
       "      <th>Computation Time Step Min Courant</th>\n",
       "      <th>Computation Time Total</th>\n",
       "      <th>Flow Filename</th>\n",
       "      <th>Flow Title</th>\n",
       "      <th>Geometry Filename</th>\n",
       "      <th>Geometry Title</th>\n",
       "      <th>HDF Chunk Size</th>\n",
       "      <th>HDF Compression</th>\n",
       "      <th>HDF Fixed Rows</th>\n",
       "      <th>HDF Flush Buffer</th>\n",
       "      <th>HDF Spatial Parts</th>\n",
       "      <th>HDF Use Max Rows</th>\n",
       "      <th>HDF Write Face Node Velocities</th>\n",
       "      <th>HDF Write Time Slices</th>\n",
       "      <th>HDF Write Warmup</th>\n",
       "      <th>Maximum WSEL Error</th>\n",
       "      <th>Pardiso Solver</th>\n",
       "      <th>Plan Filename</th>\n",
       "      <th>Plan Name</th>\n",
       "      <th>Plan ShortID</th>\n",
       "      <th>Plan Title</th>\n",
       "      <th>Run Time Window</th>\n",
       "      <th>Simulation End Time</th>\n",
       "      <th>Simulation Start Time</th>\n",
       "      <th>Solution</th>\n",
       "      <th>Time Solution Went Unstable</th>\n",
       "      <th>Time Stamp Solution Went Unstable</th>\n",
       "      <th>Time Window</th>\n",
       "      <th>Vol Accounting</th>\n",
       "      <th>Vol Accounting 2D Bdry</th>\n",
       "      <th>Vol Accounting Cell End</th>\n",
       "      <th>Vol Accounting Cell Start</th>\n",
       "      <th>Vol Accounting DS Outflow</th>\n",
       "      <th>Vol Accounting Error</th>\n",
       "      <th>Vol Accounting Error Percentage</th>\n",
       "      <th>Vol Accounting Groundwater</th>\n",
       "      <th>Vol Accounting LS, Pump Div</th>\n",
       "      <th>Vol Accounting Lat Hydro</th>\n",
       "      <th>Vol Accounting US Inflow</th>\n",
       "    </tr>\n",
       "  </thead>\n",
       "  <tbody>\n",
       "    <tr>\n",
       "      <th>DC_F01_NBR_E0006</th>\n",
       "      <td>0</td>\n",
       "      <td>Finite Difference</td>\n",
       "      <td>0.1</td>\n",
       "      <td>0</td>\n",
       "      <td>1</td>\n",
       "      <td>0.01</td>\n",
       "      <td>[0.1000000015]</td>\n",
       "      <td>[False]</td>\n",
       "      <td>0</td>\n",
       "      <td>False</td>\n",
       "      <td>[3.402823466e+38]</td>\n",
       "      <td>[Dynamic Wave]</td>\n",
       "      <td>[3.402823466e+38]</td>\n",
       "      <td>[3.402823466e+38]</td>\n",
       "      <td>[20]</td>\n",
       "      <td>[D01]</td>\n",
       "      <td>[1]</td>\n",
       "      <td>True</td>\n",
       "      <td>[1.0]</td>\n",
       "      <td>[1.0]</td>\n",
       "      <td>[0.0099999998]</td>\n",
       "      <td>[0.0099999998]</td>\n",
       "      <td>15MIN</td>\n",
       "      <td>Representative Length/Velocity</td>\n",
       "      <td>00:00:01</td>\n",
       "      <td>30SEC</td>\n",
       "      <td>2</td>\n",
       "      <td>2</td>\n",
       "      <td>2</td>\n",
       "      <td>1</td>\n",
       "      <td>0.5</td>\n",
       "      <td>11:02:30</td>\n",
       "      <td>DC_F01_NBR.u01</td>\n",
       "      <td>E0006</td>\n",
       "      <td>DC_F01_NBR.g01</td>\n",
       "      <td>D01</td>\n",
       "      <td>1</td>\n",
       "      <td>1</td>\n",
       "      <td>1</td>\n",
       "      <td>False</td>\n",
       "      <td>1</td>\n",
       "      <td>0</td>\n",
       "      <td>False</td>\n",
       "      <td>False</td>\n",
       "      <td>False</td>\n",
       "      <td>0</td>\n",
       "      <td>False</td>\n",
       "      <td>DC_F01_NBR.p01</td>\n",
       "      <td>test_scaling</td>\n",
       "      <td>test_scaling</td>\n",
       "      <td>test_scaling</td>\n",
       "      <td>12AUG2019 20:46:51 to 13AUG2019 07:49:19</td>\n",
       "      <td>05May2000 10:00:0</td>\n",
       "      <td>01May2000 10:00:0</td>\n",
       "      <td>Unsteady Finished Successfully</td>\n",
       "      <td>00:00:00</td>\n",
       "      <td>Not Applicable</td>\n",
       "      <td>01May2000 10:00:00 to 05May2000 10:00:0</td>\n",
       "      <td>Volume Accounting in Acre Feet</td>\n",
       "      <td>0</td>\n",
       "      <td>99545.4</td>\n",
       "      <td>84515.9</td>\n",
       "      <td>0</td>\n",
       "      <td>73.0143</td>\n",
       "      <td>0.00762016</td>\n",
       "      <td>0</td>\n",
       "      <td>0</td>\n",
       "      <td>0</td>\n",
       "      <td>0</td>\n",
       "    </tr>\n",
       "    <tr>\n",
       "      <th>DC_F01_NBR_E0005</th>\n",
       "      <td>0</td>\n",
       "      <td>Finite Difference</td>\n",
       "      <td>0.1</td>\n",
       "      <td>0</td>\n",
       "      <td>1</td>\n",
       "      <td>0.01</td>\n",
       "      <td>[0.1000000015]</td>\n",
       "      <td>[False]</td>\n",
       "      <td>0</td>\n",
       "      <td>False</td>\n",
       "      <td>[3.402823466e+38]</td>\n",
       "      <td>[Dynamic Wave]</td>\n",
       "      <td>[3.402823466e+38]</td>\n",
       "      <td>[3.402823466e+38]</td>\n",
       "      <td>[20]</td>\n",
       "      <td>[D01]</td>\n",
       "      <td>[1]</td>\n",
       "      <td>True</td>\n",
       "      <td>[1.0]</td>\n",
       "      <td>[1.0]</td>\n",
       "      <td>[0.0099999998]</td>\n",
       "      <td>[0.0099999998]</td>\n",
       "      <td>15MIN</td>\n",
       "      <td>Representative Length/Velocity</td>\n",
       "      <td>00:00:00</td>\n",
       "      <td>30SEC</td>\n",
       "      <td>2</td>\n",
       "      <td>2</td>\n",
       "      <td>2</td>\n",
       "      <td>1</td>\n",
       "      <td>0.5</td>\n",
       "      <td>11:28:49</td>\n",
       "      <td>DC_F01_NBR.u01</td>\n",
       "      <td>E0005</td>\n",
       "      <td>DC_F01_NBR.g01</td>\n",
       "      <td>D01</td>\n",
       "      <td>1</td>\n",
       "      <td>1</td>\n",
       "      <td>1</td>\n",
       "      <td>False</td>\n",
       "      <td>1</td>\n",
       "      <td>0</td>\n",
       "      <td>False</td>\n",
       "      <td>False</td>\n",
       "      <td>False</td>\n",
       "      <td>0</td>\n",
       "      <td>False</td>\n",
       "      <td>DC_F01_NBR.p01</td>\n",
       "      <td>test_scaling</td>\n",
       "      <td>test_scaling</td>\n",
       "      <td>test_scaling</td>\n",
       "      <td>12AUG2019 20:46:47 to 13AUG2019 08:15:35</td>\n",
       "      <td>05May2000 10:00:0</td>\n",
       "      <td>01May2000 10:00:0</td>\n",
       "      <td>Unsteady Finished Successfully</td>\n",
       "      <td>00:00:00</td>\n",
       "      <td>Not Applicable</td>\n",
       "      <td>01May2000 10:00:00 to 05May2000 10:00:0</td>\n",
       "      <td>Volume Accounting in Acre Feet</td>\n",
       "      <td>0</td>\n",
       "      <td>102312</td>\n",
       "      <td>84515.9</td>\n",
       "      <td>0</td>\n",
       "      <td>-43.0278</td>\n",
       "      <td>0.00427186</td>\n",
       "      <td>0</td>\n",
       "      <td>0</td>\n",
       "      <td>0</td>\n",
       "      <td>0</td>\n",
       "    </tr>\n",
       "  </tbody>\n",
       "</table>\n",
       "</div>"
      ],
      "text/plain": [
       "                 1D Cores     1D Methodology 1D2D Flow Tolerance 1D2D MaxIter  \\\n",
       "DC_F01_NBR_E0006        0  Finite Difference                 0.1            0   \n",
       "DC_F01_NBR_E0005        0  Finite Difference                 0.1            0   \n",
       "\n",
       "                 1D2D Minimum Flow Tolerance 1D2D WS Tolerance  \\\n",
       "DC_F01_NBR_E0006                           1              0.01   \n",
       "DC_F01_NBR_E0005                           1              0.01   \n",
       "\n",
       "                 2D Boundary Condition Ramp Up Fraction  \\\n",
       "DC_F01_NBR_E0006                         [0.1000000015]   \n",
       "DC_F01_NBR_E0005                         [0.1000000015]   \n",
       "\n",
       "                 2D Boundary Condition Volume Check 2D Cores 2D Coriolis  \\\n",
       "DC_F01_NBR_E0006                            [False]        0       False   \n",
       "DC_F01_NBR_E0005                            [False]        0       False   \n",
       "\n",
       "                 2D Eddy Viscosity Transverse Mixing Coefficient  \\\n",
       "DC_F01_NBR_E0006                               [3.402823466e+38]   \n",
       "DC_F01_NBR_E0005                               [3.402823466e+38]   \n",
       "\n",
       "                 2D Equation Set 2D Initial Conditions Ramp Up Time (hrs)  \\\n",
       "DC_F01_NBR_E0006  [Dynamic Wave]                        [3.402823466e+38]   \n",
       "DC_F01_NBR_E0005  [Dynamic Wave]                        [3.402823466e+38]   \n",
       "\n",
       "                 2D Latitude for Coriolis 2D Maximum Iterations 2D Names  \\\n",
       "DC_F01_NBR_E0006        [3.402823466e+38]                  [20]    [D01]   \n",
       "DC_F01_NBR_E0005        [3.402823466e+38]                  [20]    [D01]   \n",
       "\n",
       "                 2D Number of Time Slices 2D Only 2D Theta 2D Theta Warmup  \\\n",
       "DC_F01_NBR_E0006                      [1]    True    [1.0]           [1.0]   \n",
       "DC_F01_NBR_E0005                      [1]    True    [1.0]           [1.0]   \n",
       "\n",
       "                 2D Volume Tolerance 2D Water Surface Tolerance  \\\n",
       "DC_F01_NBR_E0006      [0.0099999998]             [0.0099999998]   \n",
       "DC_F01_NBR_E0005      [0.0099999998]             [0.0099999998]   \n",
       "\n",
       "                 Base Output Interval Computation Time Courant Method  \\\n",
       "DC_F01_NBR_E0006                15MIN  Representative Length/Velocity   \n",
       "DC_F01_NBR_E0005                15MIN  Representative Length/Velocity   \n",
       "\n",
       "                 Computation Time DSS Computation Time Step Base  \\\n",
       "DC_F01_NBR_E0006             00:00:01                      30SEC   \n",
       "DC_F01_NBR_E0005             00:00:00                      30SEC   \n",
       "\n",
       "                 Computation Time Step Count To Double  \\\n",
       "DC_F01_NBR_E0006                                     2   \n",
       "DC_F01_NBR_E0005                                     2   \n",
       "\n",
       "                 Computation Time Step Max Courant  \\\n",
       "DC_F01_NBR_E0006                                 2   \n",
       "DC_F01_NBR_E0005                                 2   \n",
       "\n",
       "                 Computation Time Step Max Doubling  \\\n",
       "DC_F01_NBR_E0006                                  2   \n",
       "DC_F01_NBR_E0005                                  2   \n",
       "\n",
       "                 Computation Time Step Max Halving  \\\n",
       "DC_F01_NBR_E0006                                 1   \n",
       "DC_F01_NBR_E0005                                 1   \n",
       "\n",
       "                 Computation Time Step Min Courant Computation Time Total  \\\n",
       "DC_F01_NBR_E0006                               0.5               11:02:30   \n",
       "DC_F01_NBR_E0005                               0.5               11:28:49   \n",
       "\n",
       "                   Flow Filename Flow Title Geometry Filename Geometry Title  \\\n",
       "DC_F01_NBR_E0006  DC_F01_NBR.u01      E0006    DC_F01_NBR.g01            D01   \n",
       "DC_F01_NBR_E0005  DC_F01_NBR.u01      E0005    DC_F01_NBR.g01            D01   \n",
       "\n",
       "                 HDF Chunk Size HDF Compression HDF Fixed Rows  \\\n",
       "DC_F01_NBR_E0006              1               1              1   \n",
       "DC_F01_NBR_E0005              1               1              1   \n",
       "\n",
       "                 HDF Flush Buffer HDF Spatial Parts HDF Use Max Rows  \\\n",
       "DC_F01_NBR_E0006            False                 1                0   \n",
       "DC_F01_NBR_E0005            False                 1                0   \n",
       "\n",
       "                 HDF Write Face Node Velocities HDF Write Time Slices  \\\n",
       "DC_F01_NBR_E0006                          False                 False   \n",
       "DC_F01_NBR_E0005                          False                 False   \n",
       "\n",
       "                 HDF Write Warmup Maximum WSEL Error Pardiso Solver  \\\n",
       "DC_F01_NBR_E0006            False                  0          False   \n",
       "DC_F01_NBR_E0005            False                  0          False   \n",
       "\n",
       "                   Plan Filename     Plan Name  Plan ShortID    Plan Title  \\\n",
       "DC_F01_NBR_E0006  DC_F01_NBR.p01  test_scaling  test_scaling  test_scaling   \n",
       "DC_F01_NBR_E0005  DC_F01_NBR.p01  test_scaling  test_scaling  test_scaling   \n",
       "\n",
       "                                           Run Time Window  \\\n",
       "DC_F01_NBR_E0006  12AUG2019 20:46:51 to 13AUG2019 07:49:19   \n",
       "DC_F01_NBR_E0005  12AUG2019 20:46:47 to 13AUG2019 08:15:35   \n",
       "\n",
       "                 Simulation End Time Simulation Start Time  \\\n",
       "DC_F01_NBR_E0006   05May2000 10:00:0     01May2000 10:00:0   \n",
       "DC_F01_NBR_E0005   05May2000 10:00:0     01May2000 10:00:0   \n",
       "\n",
       "                                        Solution Time Solution Went Unstable  \\\n",
       "DC_F01_NBR_E0006  Unsteady Finished Successfully                    00:00:00   \n",
       "DC_F01_NBR_E0005  Unsteady Finished Successfully                    00:00:00   \n",
       "\n",
       "                 Time Stamp Solution Went Unstable  \\\n",
       "DC_F01_NBR_E0006                    Not Applicable   \n",
       "DC_F01_NBR_E0005                    Not Applicable   \n",
       "\n",
       "                                              Time Window  \\\n",
       "DC_F01_NBR_E0006  01May2000 10:00:00 to 05May2000 10:00:0   \n",
       "DC_F01_NBR_E0005  01May2000 10:00:00 to 05May2000 10:00:0   \n",
       "\n",
       "                                  Vol Accounting Vol Accounting 2D Bdry  \\\n",
       "DC_F01_NBR_E0006  Volume Accounting in Acre Feet                      0   \n",
       "DC_F01_NBR_E0005  Volume Accounting in Acre Feet                      0   \n",
       "\n",
       "                 Vol Accounting Cell End Vol Accounting Cell Start  \\\n",
       "DC_F01_NBR_E0006                 99545.4                   84515.9   \n",
       "DC_F01_NBR_E0005                  102312                   84515.9   \n",
       "\n",
       "                 Vol Accounting DS Outflow Vol Accounting Error  \\\n",
       "DC_F01_NBR_E0006                         0              73.0143   \n",
       "DC_F01_NBR_E0005                         0             -43.0278   \n",
       "\n",
       "                 Vol Accounting Error Percentage Vol Accounting Groundwater  \\\n",
       "DC_F01_NBR_E0006                      0.00762016                          0   \n",
       "DC_F01_NBR_E0005                      0.00427186                          0   \n",
       "\n",
       "                 Vol Accounting LS, Pump Div Vol Accounting Lat Hydro  \\\n",
       "DC_F01_NBR_E0006                           0                        0   \n",
       "DC_F01_NBR_E0005                           0                        0   \n",
       "\n",
       "                 Vol Accounting US Inflow  \n",
       "DC_F01_NBR_E0006                        0  \n",
       "DC_F01_NBR_E0005                        0  "
      ]
     },
     "execution_count": 4,
     "metadata": {},
     "output_type": "execute_result"
    }
   ],
   "source": [
    "results = make_qaqc_table(books)\n",
    "results.head(5)"
   ]
  },
  {
   "cell_type": "markdown",
   "metadata": {},
   "source": [
    "### Create unique values summary table\n",
    "**Not implimented:** If length of unque value list is equal to a single value, ignore attribute and return that all values are the same."
   ]
  },
  {
   "cell_type": "code",
   "execution_count": 11,
   "metadata": {},
   "outputs": [
    {
     "data": {
      "text/html": [
       "<div>\n",
       "<style scoped>\n",
       "    .dataframe tbody tr th:only-of-type {\n",
       "        vertical-align: middle;\n",
       "    }\n",
       "\n",
       "    .dataframe tbody tr th {\n",
       "        vertical-align: top;\n",
       "    }\n",
       "\n",
       "    .dataframe thead th {\n",
       "        text-align: right;\n",
       "    }\n",
       "</style>\n",
       "<table border=\"1\" class=\"dataframe\">\n",
       "  <thead>\n",
       "    <tr style=\"text-align: right;\">\n",
       "      <th></th>\n",
       "      <th>Unique_Values</th>\n",
       "    </tr>\n",
       "    <tr>\n",
       "      <th>Result_Attribute</th>\n",
       "      <th></th>\n",
       "    </tr>\n",
       "  </thead>\n",
       "  <tbody>\n",
       "    <tr>\n",
       "      <th>Base Output Interval</th>\n",
       "      <td>[15MIN]</td>\n",
       "    </tr>\n",
       "    <tr>\n",
       "      <th>2D Equation Set</th>\n",
       "      <td>[Dynamic Wave]</td>\n",
       "    </tr>\n",
       "    <tr>\n",
       "      <th>2D Volume Tolerance</th>\n",
       "      <td>[0.0099999998]</td>\n",
       "    </tr>\n",
       "    <tr>\n",
       "      <th>2D Latitude for Coriolis</th>\n",
       "      <td>[3.402823466e+38]</td>\n",
       "    </tr>\n",
       "    <tr>\n",
       "      <th>2D Water Surface Tolerance</th>\n",
       "      <td>[0.0099999998]</td>\n",
       "    </tr>\n",
       "    <tr>\n",
       "      <th>Solution</th>\n",
       "      <td>[Unsteady Finished Successfully]</td>\n",
       "    </tr>\n",
       "    <tr>\n",
       "      <th>Vol Accounting Error</th>\n",
       "      <td>[-43.0277557373, 73.0143432617]</td>\n",
       "    </tr>\n",
       "  </tbody>\n",
       "</table>\n",
       "</div>"
      ],
      "text/plain": [
       "                                               Unique_Values\n",
       "Result_Attribute                                            \n",
       "Base Output Interval                                 [15MIN]\n",
       "2D Equation Set                               [Dynamic Wave]\n",
       "2D Volume Tolerance                           [0.0099999998]\n",
       "2D Latitude for Coriolis                   [3.402823466e+38]\n",
       "2D Water Surface Tolerance                    [0.0099999998]\n",
       "Solution                    [Unsteady Finished Successfully]\n",
       "Vol Accounting Error         [-43.0277557373, 73.0143432617]"
      ]
     },
     "execution_count": 11,
     "metadata": {},
     "output_type": "execute_result"
    }
   ],
   "source": [
    "relevant_columns = ['Base Output Interval',\n",
    "                    '2D Equation Set',\n",
    "                    '2D Volume Tolerance',\n",
    "                    '2D Latitude for Coriolis',\n",
    "                    '2D Water Surface Tolerance',\n",
    "                    'Solution',\n",
    "                    'Vol Accounting Error']\n",
    "\n",
    "unique_df = identify_unique_values(results, relevant_columns)\n",
    "\n",
    "unique_df.head(10)"
   ]
  },
  {
   "cell_type": "markdown",
   "metadata": {},
   "source": [
    "### Create threshold summary table"
   ]
  },
  {
   "cell_type": "code",
   "execution_count": 66,
   "metadata": {},
   "outputs": [],
   "source": [
    "def fancy_report(nbs:list, values:list) -> None:\n",
    "    print(\"{0: <20} {1}\".format('Notebook', 'Value'))\n",
    "    print(\"-\"*79)\n",
    "    for i in range(len(nbs)):\n",
    "        print(\"{0: <20} {1}\".format(nbs[i], values[i]))\n",
    "\n",
    "def report_header(variable:str):\n",
    "    print(\"\\nNow evaluating {}...\\n\".format(variable))\n",
    "    print(\"The following notebooks have alarming values for this attribute\\n\")"
   ]
  },
  {
   "cell_type": "code",
   "execution_count": 67,
   "metadata": {},
   "outputs": [
    {
     "name": "stdout",
     "output_type": "stream",
     "text": [
      "\n",
      "Now evaluating Solution...\n",
      "\n",
      "The following notebooks have alarming values for this attribute\n",
      "\n",
      "Notebook             Value\n",
      "-------------------------------------------------------------------------------\n",
      "DC_F01_NBR_E0006     Unsteady Finished Successfully\n",
      "DC_F01_NBR_E0005     Unsteady Finished Successfully\n",
      "-------------------------------------------------------------------------------\n",
      "\n",
      "Now evaluating Vol Accounting Error...\n",
      "\n",
      "The following notebooks have alarming values for this attribute\n",
      "\n",
      "Notebook             Value\n",
      "-------------------------------------------------------------------------------\n",
      "DC_F01_NBR_E0006     73.0143432617\n",
      "-------------------------------------------------------------------------------\n"
     ]
    }
   ],
   "source": [
    "for i in unique_df.index:\n",
    "    if i == 'Vol Accounting Error':\n",
    "        report_header(i)\n",
    "        nbs = results[results[i] > 0][i].index\n",
    "        values = results[results[i] > 0][i].values\n",
    "        fancy_report(nbs, values)\n",
    "        print(\"-\"*79)\n",
    "    elif i == 'Solution':\n",
    "        report_header(i)\n",
    "        nbs = results[results[i] != 'Lizard Thicket'][i].index\n",
    "        values = results[results[i] != 'Lizard Thicket'][i].values\n",
    "        fancy_report(nbs, values)\n",
    "        print(\"-\"*79)"
   ]
  },
  {
   "cell_type": "code",
   "execution_count": null,
   "metadata": {},
   "outputs": [],
   "source": []
  },
  {
   "cell_type": "code",
   "execution_count": 50,
   "metadata": {},
   "outputs": [
    {
     "data": {
      "text/plain": [
       "Index(['DC_F01_NBR_E0006', 'DC_F01_NBR_E0005'], dtype='object')"
      ]
     },
     "execution_count": 50,
     "metadata": {},
     "output_type": "execute_result"
    }
   ],
   "source": [
    "results[results['Vol Accounting Error'] > -400]['Vol Accounting Error'].index"
   ]
  },
  {
   "cell_type": "code",
   "execution_count": 24,
   "metadata": {},
   "outputs": [
    {
     "data": {
      "text/plain": [
       "73.0143432617"
      ]
     },
     "execution_count": 24,
     "metadata": {},
     "output_type": "execute_result"
    }
   ],
   "source": [
    "results[results['Vol Accounting Error'] > 0]['Vol Accounting Error'].values[0]"
   ]
  },
  {
   "cell_type": "raw",
   "metadata": {},
   "source": [
    "Threshold tests: return a list enumerating what's going on\n",
    "\n",
    "Velocity Test failures:\n",
    "\n",
    "Simulation #of Cells Exceeding {threshold}  Max Velocity (ft/s)\n",
    "\n",
    "nb1        500                              2,000\n",
    "nb1        100                              3,000\n",
    "...\n",
    "\n",
    "\n",
    "Run Completed Test:\n",
    "\n",
    "Simulation Status\n",
    "nb3          Failed"
   ]
  },
  {
   "cell_type": "code",
   "execution_count": 17,
   "metadata": {},
   "outputs": [
    {
     "data": {
      "text/html": [
       "<div>\n",
       "<style scoped>\n",
       "    .dataframe tbody tr th:only-of-type {\n",
       "        vertical-align: middle;\n",
       "    }\n",
       "\n",
       "    .dataframe tbody tr th {\n",
       "        vertical-align: top;\n",
       "    }\n",
       "\n",
       "    .dataframe thead th {\n",
       "        text-align: right;\n",
       "    }\n",
       "</style>\n",
       "<table border=\"1\" class=\"dataframe\">\n",
       "  <thead>\n",
       "    <tr style=\"text-align: right;\">\n",
       "      <th></th>\n",
       "      <th>Unique_Values</th>\n",
       "      <th>Warnings</th>\n",
       "      <th>Offending_Nbs</th>\n",
       "    </tr>\n",
       "    <tr>\n",
       "      <th>Result_Attribute</th>\n",
       "      <th></th>\n",
       "      <th></th>\n",
       "      <th></th>\n",
       "    </tr>\n",
       "  </thead>\n",
       "  <tbody>\n",
       "    <tr>\n",
       "      <th>Computation Time Step Count To Double</th>\n",
       "      <td>[2]</td>\n",
       "      <td>NaN</td>\n",
       "      <td>NaN</td>\n",
       "    </tr>\n",
       "    <tr>\n",
       "      <th>Computation Time Courant Method</th>\n",
       "      <td>[Representative Length/Velocity]</td>\n",
       "      <td>NaN</td>\n",
       "      <td>NaN</td>\n",
       "    </tr>\n",
       "    <tr>\n",
       "      <th>2D Eddy Viscosity Transverse Mixing Coefficient</th>\n",
       "      <td>[3.402823466e+38]</td>\n",
       "      <td>NaN</td>\n",
       "      <td>NaN</td>\n",
       "    </tr>\n",
       "    <tr>\n",
       "      <th>2D Coriolis</th>\n",
       "      <td>[False]</td>\n",
       "      <td>NaN</td>\n",
       "      <td>NaN</td>\n",
       "    </tr>\n",
       "    <tr>\n",
       "      <th>Vol Accounting Cell Start</th>\n",
       "      <td>[84515.9453125]</td>\n",
       "      <td>NaN</td>\n",
       "      <td>NaN</td>\n",
       "    </tr>\n",
       "  </tbody>\n",
       "</table>\n",
       "</div>"
      ],
      "text/plain": [
       "                                                                    Unique_Values  \\\n",
       "Result_Attribute                                                                    \n",
       "Computation Time Step Count To Double                                         [2]   \n",
       "Computation Time Courant Method                  [Representative Length/Velocity]   \n",
       "2D Eddy Viscosity Transverse Mixing Coefficient                 [3.402823466e+38]   \n",
       "2D Coriolis                                                               [False]   \n",
       "Vol Accounting Cell Start                                         [84515.9453125]   \n",
       "\n",
       "                                                Warnings Offending_Nbs  \n",
       "Result_Attribute                                                        \n",
       "Computation Time Step Count To Double                NaN           NaN  \n",
       "Computation Time Courant Method                      NaN           NaN  \n",
       "2D Eddy Viscosity Transverse Mixing Coefficient      NaN           NaN  \n",
       "2D Coriolis                                          NaN           NaN  \n",
       "Vol Accounting Cell Start                            NaN           NaN  "
      ]
     },
     "execution_count": 17,
     "metadata": {},
     "output_type": "execute_result"
    }
   ],
   "source": [
    "# Example warnings\n",
    "for i in df_w_uniques.index:\n",
    "    values = df_w_uniques.loc[i][0]\n",
    "    if i == '1D Cores':\n",
    "        validate_by_threshold(df_w_uniques, i, values, 0, results_table)\n",
    "    elif i == 'Vol Accounting Error':\n",
    "        validate_by_threshold(df_w_uniques, i, values, 30, results_table)\n",
    "    elif i == 'Vol Accounting Error Percentage':\n",
    "        validate_by_threshold(df_w_uniques, i, values, 0.001, results_table)\n",
    "\n",
    "df_w_uniques.head(5)"
   ]
  },
  {
   "cell_type": "markdown",
   "metadata": {},
   "source": [
    "### Possible evaluations\n",
    "- Check output interval is the desired amount\n",
    "- Check if solution populated with anything other than 'Unstead Finished Successfully'\n",
    "- Check flow, geometry, and plan filenames have the same base"
   ]
  },
  {
   "cell_type": "code",
   "execution_count": null,
   "metadata": {},
   "outputs": [],
   "source": [
    "### Checks strings as the same"
   ]
  },
  {
   "cell_type": "code",
   "execution_count": 29,
   "metadata": {},
   "outputs": [],
   "source": [
    "def validate_by_equivalency(pd_df:pd.DataFrame, attr:str, values:list, threshold:any, results_df: pd.DataFrame):\n",
    "    pd_df.loc[attr]['Warnings'] = 'WARNING' if any([value > threshold for value in values]) else 'PASS'\n",
    "    pd_df.loc[attr]['Offending_Nbs'] = [results_df.index[i] for i, value in enumerate(list(results_df[attr])) if value > threshold]"
   ]
  },
  {
   "cell_type": "code",
   "execution_count": 31,
   "metadata": {},
   "outputs": [],
   "source": [
    "def validate_by_text(pd_df:pd.DataFrame, attr:str, values:list, regex: str, results_df: pd.DataFrame):\n",
    "    pd_df.loc[attr]['Warnings'] = 'WARNING' if any([value != regex for value in values]) else 'PASS'\n",
    "    pd_df.loc[attr]['Offending_Nbs'] = [results_df.index[i] for i, value in enumerate(list(results_df[attr])) if value != regex]"
   ]
  },
  {
   "cell_type": "code",
   "execution_count": null,
   "metadata": {},
   "outputs": [],
   "source": [
    "# Basic logic to check equivalency\n",
    "interval_step = 15\n",
    "interval_units = 'MIN'\n",
    "intervals = [interval[:-3] for interval in test_df.loc['Base Output Interval'][0]]\n",
    "units = [interval[-3:] for interval in test_df.loc['Base Output Interval'][0]]\n",
    "'WARNING' if any([interval != str(interval_step) for interval in intervals]) else 'PASS'\n",
    "'WARNING' if any([unit != str(interval_units) for unit in units]) else 'PASS'\n",
    "\n",
    "# This needs to include something to evaluate these together..."
   ]
  },
  {
   "cell_type": "code",
   "execution_count": null,
   "metadata": {},
   "outputs": [],
   "source": [
    "# Impliment validate by text solution\n",
    "for i in test_df.index:\n",
    "    values = test_df.loc[i][0]\n",
    "    if i == 'Solution':\n",
    "        validate_by_text(test_df, i, values, 'Unsteady Finished Successfully', results_table)"
   ]
  },
  {
   "cell_type": "code",
   "execution_count": 33,
   "metadata": {},
   "outputs": [
    {
     "name": "stdout",
     "output_type": "stream",
     "text": [
      "PASS\n",
      "PASS\n"
     ]
    }
   ],
   "source": [
    "# A number of these evaluations need to be done on the results table\n",
    "\n",
    "# Basic logic for checking flow, geometry, and plan names match\n",
    "for i in results_table.index:\n",
    "    ff = results_table.loc[i]['Flow Filename'].split('.')[0]\n",
    "    gf = results_table.loc[i]['Geometry Filename'].split('.')[0]\n",
    "    pf = results_table.loc[i]['Plan Filename'].split('.')[0]\n",
    "    print('WARNING') if any([name != ff for name in [ff, gf, pf]]) else print('PASS')"
   ]
  },
  {
   "cell_type": "code",
   "execution_count": null,
   "metadata": {},
   "outputs": [],
   "source": [
    "# Could develop results table and the summary evaluator...this ends up being twice the validation\n"
   ]
  },
  {
   "cell_type": "markdown",
   "metadata": {},
   "source": [
    "# END"
   ]
  }
 ],
 "metadata": {
  "kernel_info": {
   "name": "geos"
  },
  "kernelspec": {
   "display_name": "Python 3",
   "language": "python",
   "name": "python3"
  },
  "language_info": {
   "codemirror_mode": {
    "name": "ipython",
    "version": 3
   },
   "file_extension": ".py",
   "mimetype": "text/x-python",
   "name": "python",
   "nbconvert_exporter": "python",
   "pygments_lexer": "ipython3",
   "version": "3.6.8"
  },
  "nteract": {
   "version": "0.14.4"
  },
  "pycharm": {
   "stem_cell": {
    "cell_type": "raw",
    "metadata": {
     "collapsed": false
    },
    "source": []
   }
  }
 },
 "nbformat": 4,
 "nbformat_minor": 4
}
