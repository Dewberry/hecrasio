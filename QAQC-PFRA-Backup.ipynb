{
 "cells": [
  {
   "cell_type": "markdown",
   "metadata": {},
   "source": [
    "# PFRA \n",
    "\n",
    "### _Development Notebook_\n",
    "--- \n",
    "\n",
    "### QA/QC\n",
    "#### Global Errors Check\n",
    "\n",
    "This notebook is intended to identify global issues in a model simulation that require follow-up responses from the modeler before the model can be used in *STARRII* PFRA studies.\n",
    "\n",
    "Global issues currently implemented include:\n",
    " \n",
    " __1. Check Model inputs__\n",
    " \n",
    "    A. Plan Information\n",
    "    B. Plan Parameters\n",
    "    C. Boundary Conditions \n",
    "     \n",
    "__2. Check Results for each domain (2D Flow Area) in the model__\n",
    " \n",
    "    A. Computational Summary & Depth Plots\n",
    "    B. Domain Extents\n",
    "    C. High Velocities at cell faces\n",
    " \n",
    " \n",
    "Global issues *in development* include:\n",
    " - Mapping areas where Courant number exceeds indicated threshold.\n",
    " - Mapping areas where iteration counts exceed indicated threshold."
   ]
  },
  {
   "cell_type": "code",
   "execution_count": 1,
   "metadata": {},
   "outputs": [],
   "source": [
    "model_s3path = \"s3://azavea/jwx_test/data/zip/DC_F01_NBR_E0001.p01.hdf\""
   ]
  },
  {
   "cell_type": "code",
   "execution_count": 2,
   "metadata": {
    "ExecuteTime": {
     "end_time": "2019-08-09T20:09:22.513097Z",
     "start_time": "2019-08-09T20:09:20.768258Z"
    },
    "pycharm": {
     "is_executing": false
    }
   },
   "outputs": [],
   "source": [
    "import sys;sys.path.append('../')\n",
    "import gdal\n",
    "from hecrasio.core import *\n",
    "from hecrasio.qaqc import *\n",
    "import scrapbook as sb"
   ]
  },
  {
   "cell_type": "code",
   "execution_count": 3,
   "metadata": {
    "ExecuteTime": {
     "end_time": "2019-08-09T20:09:22.513097Z",
     "start_time": "2019-08-09T20:09:20.768258Z"
    },
    "pycharm": {
     "is_executing": false
    }
   },
   "outputs": [],
   "source": [
    "global_errors=[]"
   ]
  },
  {
   "cell_type": "markdown",
   "metadata": {},
   "source": [
    "#### Read model output data \n",
    "\n",
    "*from AWS*"
   ]
  },
  {
   "cell_type": "code",
   "execution_count": 4,
   "metadata": {
    "ExecuteTime": {
     "end_time": "2019-08-09T20:09:42.027053Z",
     "start_time": "2019-08-09T20:09:22.514130Z"
    },
    "pycharm": {
     "is_executing": false
    }
   },
   "outputs": [
    {
     "name": "stdout",
     "output_type": "stream",
     "text": [
      "Check files...too many hdf's found\n",
      "Failed to read RAS plan: rasPlan error\n"
     ]
    }
   ],
   "source": [
    "try:\n",
    "    model = ResultsZip(model_s3path, pfra=False, require_prj=False)\n",
    "except:\n",
    "    error = 'Failed to read model: ResultsZip error'\n",
    "    global_errors.append(error)\n",
    "    print(error)\n",
    "    \n",
    "try:\n",
    "    hdfResults_path = pull_result_paths(model)\n",
    "except AssertionError as e:\n",
    "    global_errors.append(e)\n",
    "    print(e)\n",
    "    \n",
    "try:\n",
    "    rasPlan = HDFResultsFile(model, model_s3path, hdfResults_path)\n",
    "except:\n",
    "    error = 'Failed to read RAS plan: rasPlan error'\n",
    "    global_errors.append(error)\n",
    "    print(error)"
   ]
  },
  {
   "cell_type": "markdown",
   "metadata": {},
   "source": [
    "### 1A. Plan Information"
   ]
  },
  {
   "cell_type": "code",
   "execution_count": 5,
   "metadata": {
    "ExecuteTime": {
     "end_time": "2019-08-09T20:09:43.192127Z",
     "start_time": "2019-08-09T20:09:43.182099Z"
    },
    "pycharm": {
     "is_executing": false
    }
   },
   "outputs": [
    {
     "name": "stdout",
     "output_type": "stream",
     "text": [
      "Failed to glue Plan Information\n"
     ]
    }
   ],
   "source": [
    "try:\n",
    "    sb.glue(rasPlan.Plan_Information.to_json(), \"json\")\n",
    "    rasPlan.Plan_Information\n",
    "except:\n",
    "    error = 'Failed to glue Plan Information'\n",
    "    global_errors.append(error)\n",
    "    print(error)"
   ]
  },
  {
   "cell_type": "markdown",
   "metadata": {},
   "source": [
    "### 1B. Plan Parameters"
   ]
  },
  {
   "cell_type": "code",
   "execution_count": 6,
   "metadata": {
    "ExecuteTime": {
     "end_time": "2019-08-09T20:09:43.216222Z",
     "start_time": "2019-08-09T20:09:43.194131Z"
    },
    "pycharm": {
     "is_executing": false
    },
    "scrolled": false
   },
   "outputs": [
    {
     "name": "stdout",
     "output_type": "stream",
     "text": [
      "Failed to glue Plan Parameters\n"
     ]
    }
   ],
   "source": [
    "try:\n",
    "    sb.glue(rasPlan.Plan_Parameters.to_json(), \"json\")\n",
    "    rasPlan.Plan_Parameters\n",
    "except:\n",
    "    error = 'Failed to glue Plan Parameters'\n",
    "    global_errors.append(error)\n",
    "    print(error)"
   ]
  },
  {
   "cell_type": "markdown",
   "metadata": {},
   "source": [
    "### 1C. Boundary Conditions \n",
    "\n",
    "#### Input hydrographs"
   ]
  },
  {
   "cell_type": "code",
   "execution_count": 7,
   "metadata": {
    "scrolled": false
   },
   "outputs": [
    {
     "name": "stdout",
     "output_type": "stream",
     "text": [
      "Failed to Show Results\n",
      "Failed to glue Results Data\n"
     ]
    }
   ],
   "source": [
    "try:\n",
    "    results_data = show_results(rasPlan.domains, model, rasPlan)\n",
    "except:\n",
    "    error = 'Failed to Show Results'\n",
    "    global_errors.append(error)\n",
    "    print(error)\n",
    "\n",
    "try:\n",
    "    sb.glue(results_data.to_json(), \"json\")\n",
    "except:\n",
    "    error = 'Failed to glue Results Data'\n",
    "    global_errors.append(error)\n",
    "    print(error)"
   ]
  },
  {
   "cell_type": "markdown",
   "metadata": {},
   "source": [
    "### 2A. Computational Summary"
   ]
  },
  {
   "cell_type": "code",
   "execution_count": 8,
   "metadata": {
    "ExecuteTime": {
     "end_time": "2019-08-09T20:10:29.472377Z",
     "start_time": "2019-08-09T20:10:29.466361Z"
    },
    "jupyter": {
     "outputs_hidden": false
    },
    "pycharm": {
     "is_executing": false,
     "name": "#%%\n"
    }
   },
   "outputs": [
    {
     "name": "stdout",
     "output_type": "stream",
     "text": [
      "Failed to glue Plan Summary\n"
     ]
    }
   ],
   "source": [
    "try:\n",
    "    non_nan = rasPlan.summary.replace(np.nan, \"00:00:00\")\n",
    "    sb.glue(non_nan.to_json(), \"json\")\n",
    "    rasPlan.summary\n",
    "except:\n",
    "    error = 'Failed to glue Plan Summary'\n",
    "    global_errors.append(error)\n",
    "    print(error)"
   ]
  },
  {
   "cell_type": "code",
   "execution_count": 9,
   "metadata": {},
   "outputs": [
    {
     "name": "stdout",
     "output_type": "stream",
     "text": [
      "Gluing errors failed.\n"
     ]
    }
   ],
   "source": [
    "try:\n",
    "    if len(global_errors) > 1:\n",
    "        sb.glue(global_errors)\n",
    "    else:\n",
    "        print(\"No global errors identified.\")\n",
    "except:\n",
    "    print('Gluing errors failed.')"
   ]
  },
  {
   "cell_type": "markdown",
   "metadata": {},
   "source": [
    "# END"
   ]
  }
 ],
 "metadata": {
  "kernel_info": {
   "name": "geos"
  },
  "kernelspec": {
   "display_name": "Python 3",
   "language": "python",
   "name": "python3"
  },
  "language_info": {
   "codemirror_mode": {
    "name": "ipython",
    "version": 3
   },
   "file_extension": ".py",
   "mimetype": "text/x-python",
   "name": "python",
   "nbconvert_exporter": "python",
   "pygments_lexer": "ipython3",
   "version": "3.6.8"
  },
  "nteract": {
   "version": "0.14.4"
  },
  "pycharm": {
   "stem_cell": {
    "cell_type": "raw",
    "metadata": {
     "collapsed": false
    },
    "source": []
   }
  }
 },
 "nbformat": 4,
 "nbformat_minor": 4
}
