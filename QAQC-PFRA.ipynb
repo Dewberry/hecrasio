{
 "cells": [
  {
   "cell_type": "markdown",
   "metadata": {},
   "source": [
    "# PFRA \n",
    "\n",
    "### _Development Notebook_\n",
    "--- \n",
    "\n",
    "### QA/QC\n",
    "#### Global Errors Check\n",
    "\n",
    "This notebook is intended to identify global issues in a model simulation that require follow-up responses from the modeler before the model can be used in *STARRII* PFRA studies.\n",
    "\n",
    "Global issues currently implemented include:\n",
    " \n",
    " __1. Check Model inputs__\n",
    " \n",
    "    A. Plan Information\n",
    "    B. Plan Parameters\n",
    "    C. Boundary Conditions \n",
    "     \n",
    "__2. Check Results for each domain (2D Flow Area) in the model__\n",
    " \n",
    "    A. Computational Summary & Depth Plots\n",
    "    B. Domain Extents\n",
    "    C. High Velocities at cell faces\n",
    " \n",
    " \n",
    "Global issues *in development* include:\n",
    " - Mapping areas where Courant number exceeds indicated threshold.\n",
    " - Mapping areas where iteration counts exceed indicated threshold."
   ]
  },
  {
   "cell_type": "code",
   "execution_count": 7,
   "metadata": {},
   "outputs": [],
   "source": [
    "model_s3path = \"s3://azavea/jwx_test/data/zip/DC_F02_NBR_E0029_out.zip\""
   ]
  },
  {
   "cell_type": "code",
   "execution_count": 8,
   "metadata": {
    "ExecuteTime": {
     "end_time": "2019-08-09T20:09:20.766253Z",
     "start_time": "2019-08-09T20:09:20.763213Z"
    }
   },
   "outputs": [],
   "source": [
    "import sys;sys.path.append('../')"
   ]
  },
  {
   "cell_type": "code",
   "execution_count": 12,
   "metadata": {
    "ExecuteTime": {
     "end_time": "2019-08-09T20:09:22.513097Z",
     "start_time": "2019-08-09T20:09:20.768258Z"
    },
    "pycharm": {
     "is_executing": false
    }
   },
   "outputs": [],
   "source": [
    "import gdal\n",
    "from hecrasio.core import *\n",
    "from hecrasio.qaqc import *\n",
    "import scrapbook as sb\n",
    "global_errors=[]"
   ]
  },
  {
   "cell_type": "markdown",
   "metadata": {},
   "source": [
    "#### Read model output data \n",
    "\n",
    "*from AWS*"
   ]
  },
  {
   "cell_type": "code",
   "execution_count": 13,
   "metadata": {
    "ExecuteTime": {
     "end_time": "2019-08-09T20:09:42.027053Z",
     "start_time": "2019-08-09T20:09:22.514130Z"
    },
    "pycharm": {
     "is_executing": false
    }
   },
   "outputs": [],
   "source": [
    "try:\n",
    "    model = ResultsZip(model_s3path, pfra=False, require_prj=False)\n",
    "except:\n",
    "    global_errors.append('Failed to read model: ResultsZip error')\n",
    "    \n",
    "try:\n",
    "    hdfResults_path = pull_result_paths(model)\n",
    "except:\n",
    "    global_errors.append('Failed to identify paths: hdfResults path error')\n",
    "    \n",
    "try:\n",
    "    rasPlan = HDFResultsFile(model, model_s3path, hdfResults_path)\n",
    "except:\n",
    "    global_errors.append('Failed to read RAS plan: rasPlan error')"
   ]
  },
  {
   "cell_type": "markdown",
   "metadata": {},
   "source": [
    "### 1A. Plan Information"
   ]
  },
  {
   "cell_type": "code",
   "execution_count": null,
   "metadata": {
    "ExecuteTime": {
     "end_time": "2019-08-09T20:09:43.192127Z",
     "start_time": "2019-08-09T20:09:43.182099Z"
    },
    "pycharm": {
     "is_executing": false
    }
   },
   "outputs": [],
   "source": [
    "try:\n",
    "    sb.glue(rasPlan.Plan_Information.to_json(), \"json\")\n",
    "except:\n",
    "    global_errors.append('Failed to glue Plan Information')\n",
    "\n",
    "rasPlan.Plan_Information"
   ]
  },
  {
   "cell_type": "markdown",
   "metadata": {},
   "source": [
    "### 1B. Plan Parameters"
   ]
  },
  {
   "cell_type": "code",
   "execution_count": null,
   "metadata": {
    "ExecuteTime": {
     "end_time": "2019-08-09T20:09:43.216222Z",
     "start_time": "2019-08-09T20:09:43.194131Z"
    },
    "pycharm": {
     "is_executing": false
    },
    "scrolled": false
   },
   "outputs": [],
   "source": [
    "try:\n",
    "    sb.glue(rasPlan.Plan_Parameters.to_json(), \"json\")\n",
    "except:\n",
    "    global_errors.append('Failed to glue Plan Parameters')\n",
    "\n",
    "rasPlan.Plan_Parameters"
   ]
  },
  {
   "cell_type": "markdown",
   "metadata": {},
   "source": [
    "### 1C. Boundary Conditions \n",
    "\n",
    "#### Input hydrographs"
   ]
  },
  {
   "cell_type": "code",
   "execution_count": null,
   "metadata": {
    "scrolled": false
   },
   "outputs": [],
   "source": [
    "try:\n",
    "    results_data = show_results(rasPlan.domains, model, rasPlan)\n",
    "except:\n",
    "    global_errors.append('Failed to Show Results')\n",
    "\n",
    "try:\n",
    "    sb.glue(results_data.to_json(), \"json\")\n",
    "except:\n",
    "    global_errors.append('Failed to glue Results Data')"
   ]
  },
  {
   "cell_type": "markdown",
   "metadata": {},
   "source": [
    "### 2A. Computational Summary"
   ]
  },
  {
   "cell_type": "code",
   "execution_count": null,
   "metadata": {
    "ExecuteTime": {
     "end_time": "2019-08-09T20:10:29.472377Z",
     "start_time": "2019-08-09T20:10:29.466361Z"
    },
    "jupyter": {
     "outputs_hidden": false
    },
    "pycharm": {
     "is_executing": false,
     "name": "#%%\n"
    }
   },
   "outputs": [],
   "source": [
    "try:\n",
    "    non_nan = rasPlan.summary.replace(np.nan, \"00:00:00\")\n",
    "    sb.glue(non_nan.to_json(), \"json\")\n",
    "except:\n",
    "    global_errors.append('Failed to glue Plan Summary')\n",
    "\n",
    "rasPlan.summary"
   ]
  },
  {
   "cell_type": "code",
   "execution_count": null,
   "metadata": {},
   "outputs": [],
   "source": [
    "sb.glue(global_errors)"
   ]
  },
  {
   "cell_type": "markdown",
   "metadata": {},
   "source": [
    "# END"
   ]
  }
 ],
 "metadata": {
  "kernel_info": {
   "name": "geos"
  },
  "kernelspec": {
   "display_name": "Python 3",
   "language": "python",
   "name": "python3"
  },
  "nteract": {
   "version": "0.14.4"
  },
  "pycharm": {
   "stem_cell": {
    "cell_type": "raw",
    "metadata": {
     "collapsed": false
    },
    "source": []
   }
  }
 },
 "nbformat": 4,
 "nbformat_minor": 4
}
